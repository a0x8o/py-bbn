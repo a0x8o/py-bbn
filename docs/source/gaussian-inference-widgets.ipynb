{
 "cells": [
  {
   "cell_type": "markdown",
   "metadata": {},
   "source": [
    "# Multivariate Gaussian Inference with Widgets\n",
    "\n",
    "This notebook shows how to do multivariate Gaussian inference with widgets. We allow one variable to change and visualize the change of distributions for the other. We will be using the Cowell graph <cite data-cite=\"1988:cowell\"></cite>."
   ]
  },
  {
   "cell_type": "markdown",
   "metadata": {},
   "source": [
    "## Simulate data"
   ]
  },
  {
   "cell_type": "code",
   "execution_count": 1,
   "metadata": {},
   "outputs": [],
   "source": [
    "%matplotlib inline\n",
    "import numpy as np\n",
    "from pybbn.gaussian.inference import GaussianInference\n",
    "import matplotlib.pyplot as plt\n",
    "\n",
    "np.random.seed(37)\n",
    "plt.style.use('ggplot')\n",
    "plt.rcParams['axes.grid'] = False\n",
    "\n",
    "def get_cowell_data():\n",
    "    n = 10000\n",
    "    Y = np.random.normal(0, 1, n)\n",
    "    X = np.random.normal(Y, 1, n)\n",
    "    Z = np.random.normal(X, 1, n)\n",
    "\n",
    "    D = np.vstack([Y, X, Z]).T\n",
    "    return D, ['Y', 'X', 'Z']\n",
    "\n",
    "def get_mvn():\n",
    "    X, H = get_cowell_data()\n",
    "\n",
    "    M = X.mean(axis=0)\n",
    "    E = np.cov(X.T)\n",
    "    \n",
    "    g = GaussianInference(H, M, E)\n",
    "    return g\n",
    "\n",
    "g = get_mvn()"
   ]
  },
  {
   "cell_type": "code",
   "execution_count": 2,
   "metadata": {},
   "outputs": [
    {
     "data": {
      "text/html": [
       "<div>\n",
       "<style scoped>\n",
       "    .dataframe tbody tr th:only-of-type {\n",
       "        vertical-align: middle;\n",
       "    }\n",
       "\n",
       "    .dataframe tbody tr th {\n",
       "        vertical-align: top;\n",
       "    }\n",
       "\n",
       "    .dataframe thead th {\n",
       "        text-align: right;\n",
       "    }\n",
       "</style>\n",
       "<table border=\"1\" class=\"dataframe\">\n",
       "  <thead>\n",
       "    <tr style=\"text-align: right;\">\n",
       "      <th></th>\n",
       "      <th>name</th>\n",
       "      <th>mean</th>\n",
       "      <th>var</th>\n",
       "    </tr>\n",
       "  </thead>\n",
       "  <tbody>\n",
       "    <tr>\n",
       "      <th>0</th>\n",
       "      <td>Y</td>\n",
       "      <td>-0.001723</td>\n",
       "      <td>0.990700</td>\n",
       "    </tr>\n",
       "    <tr>\n",
       "      <th>1</th>\n",
       "      <td>X</td>\n",
       "      <td>0.007448</td>\n",
       "      <td>2.016406</td>\n",
       "    </tr>\n",
       "    <tr>\n",
       "      <th>2</th>\n",
       "      <td>Z</td>\n",
       "      <td>0.002459</td>\n",
       "      <td>3.033838</td>\n",
       "    </tr>\n",
       "  </tbody>\n",
       "</table>\n",
       "</div>"
      ],
      "text/plain": [
       "  name      mean       var\n",
       "0    Y -0.001723  0.990700\n",
       "1    X  0.007448  2.016406\n",
       "2    Z  0.002459  3.033838"
      ]
     },
     "execution_count": 2,
     "metadata": {},
     "output_type": "execute_result"
    }
   ],
   "source": [
    "import pandas as pd\n",
    "\n",
    "pd.DataFrame(g.marginals)"
   ]
  },
  {
   "cell_type": "markdown",
   "metadata": {},
   "source": [
    "## Visualize"
   ]
  },
  {
   "cell_type": "code",
   "execution_count": 3,
   "metadata": {},
   "outputs": [
    {
     "data": {
      "application/vnd.jupyter.widget-view+json": {
       "model_id": "a88349e38cd24f428c6264f0ecc2d9b9",
       "version_major": 2,
       "version_minor": 0
      },
      "text/plain": [
       "interactive(children=(IntSlider(value=0, description='x', max=5, min=-5), Output()), _dom_classes=('widget-int…"
      ]
     },
     "metadata": {},
     "output_type": "display_data"
    }
   ],
   "source": [
    "from ipywidgets import interact\n",
    "\n",
    "samples1 = g.sample_marginals(size=10000)\n",
    "    \n",
    "@interact(x=(-5, 5, 1))\n",
    "def f(x=None):\n",
    "    if x is not None:\n",
    "        gg = g.do_inference('X', x)\n",
    "    else:\n",
    "        gg = g\n",
    "    \n",
    "    samples2 = gg.sample_marginals(size=5000)\n",
    "    \n",
    "    fig, axes = plt.subplots(1, 3, figsize=(15, 3), sharey=False)\n",
    "    axes = np.ravel(axes)\n",
    "    \n",
    "    kind = 'hist'\n",
    "    alpha = 0.15\n",
    "    for (name, s2), ax in zip(samples2.items(), axes):\n",
    "        if name == 'X':\n",
    "            ax2 = ax.twinx()\n",
    "            _ = samples1[name].plot(kind=kind, ax=ax2, color='blue', alpha=alpha)\n",
    "            _ = ax.axvline(x=x, color='red')\n",
    "            _ = ax2.set_ylabel('')\n",
    "        else:\n",
    "            ax2 = ax.twinx()\n",
    "            _ = samples1[name].plot(kind=kind, ax=ax, color='blue', alpha=alpha)\n",
    "            _ = s2.plot(kind=kind, ax=ax)\n",
    "            _ = s2.plot(kind='kde', ax=ax2, color='green')\n",
    "            _ = ax2.set_ylabel('')\n",
    "        \n",
    "        _ = ax.set_title(f'{name}')\n",
    "        _ = ax.set_ylabel('')\n",
    "    \n",
    "    plt.tight_layout()"
   ]
  }
 ],
 "metadata": {
  "kernelspec": {
   "display_name": "Python 3",
   "language": "python",
   "name": "python3"
  },
  "language_info": {
   "codemirror_mode": {
    "name": "ipython",
    "version": 3
   },
   "file_extension": ".py",
   "mimetype": "text/x-python",
   "name": "python",
   "nbconvert_exporter": "python",
   "pygments_lexer": "ipython3",
   "version": "3.8.3"
  },
  "widgets": {
   "application/vnd.jupyter.widget-state+json": {
    "state": {
     "096f9b93b0a54bbfa1c1599ae6969af3": {
      "model_module": "@jupyter-widgets/base",
      "model_module_version": "1.2.0",
      "model_name": "LayoutModel",
      "state": {}
     },
     "128af9f72b37401290bb0e434e247dfa": {
      "model_module": "@jupyter-widgets/output",
      "model_module_version": "1.0.0",
      "model_name": "OutputModel",
      "state": {
       "layout": "IPY_MODEL_56597a05b7754877b7d932b9d2bf71f3",
       "outputs": [
        {
         "data": {
          "image/png": "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\n",
          "text/plain": "<Figure size 1080x216 with 6 Axes>"
         },
         "metadata": {},
         "output_type": "display_data"
        }
       ]
      }
     },
     "4abcce94fa8c4a6982d764a77d508899": {
      "model_module": "@jupyter-widgets/controls",
      "model_module_version": "1.5.0",
      "model_name": "SliderStyleModel",
      "state": {
       "description_width": ""
      }
     },
     "56597a05b7754877b7d932b9d2bf71f3": {
      "model_module": "@jupyter-widgets/base",
      "model_module_version": "1.2.0",
      "model_name": "LayoutModel",
      "state": {}
     },
     "a88349e38cd24f428c6264f0ecc2d9b9": {
      "model_module": "@jupyter-widgets/controls",
      "model_module_version": "1.5.0",
      "model_name": "VBoxModel",
      "state": {
       "_dom_classes": [
        "widget-interact"
       ],
       "children": [
        "IPY_MODEL_cf24d12049154a6a9ce076b3d51e678f",
        "IPY_MODEL_128af9f72b37401290bb0e434e247dfa"
       ],
       "layout": "IPY_MODEL_c1da8bc6a757416a9b10c152d7465a83"
      }
     },
     "c1da8bc6a757416a9b10c152d7465a83": {
      "model_module": "@jupyter-widgets/base",
      "model_module_version": "1.2.0",
      "model_name": "LayoutModel",
      "state": {}
     },
     "cf24d12049154a6a9ce076b3d51e678f": {
      "model_module": "@jupyter-widgets/controls",
      "model_module_version": "1.5.0",
      "model_name": "IntSliderModel",
      "state": {
       "description": "x",
       "layout": "IPY_MODEL_096f9b93b0a54bbfa1c1599ae6969af3",
       "max": 5,
       "min": -5,
       "style": "IPY_MODEL_4abcce94fa8c4a6982d764a77d508899",
       "value": 5
      }
     }
    },
    "version_major": 2,
    "version_minor": 0
   }
  }
 },
 "nbformat": 4,
 "nbformat_minor": 4
}
