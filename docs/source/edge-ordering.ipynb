{
 "cells": [
  {
   "cell_type": "markdown",
   "metadata": {
    "collapsed": false
   },
   "source": [
    "# Edge Ordering\n",
    "\n",
    "Edge ordering makes a difference on the on the join tree and potentials produced. Let's take the BBN network structure below where all nodes are binary having the values `on` and `off`.\n",
    "\n",
    "a --> c <-- b\n",
    "\n",
    "Note how `c` has 2 parents, `a` and `b`. The potential (or conditional probability table `CPT`) for `c` is specified as a list of probabilities as follows.\n",
    "\n",
    "```python\n",
    "[0.7, 0.3, 0.2, 0.8, 0.6, 0.4, 0.6, 0.4]\n",
    "```\n",
    "\n",
    "Let's say that this list of probabilities represents the CPT below.\n",
    "\n",
    "```\n",
    "|       |       | c=on | c=off |\n",
    "|-------|-------|------|-------|\n",
    "| a=on  | b=on  | 0.7  | 0.3   |\n",
    "| a=on  | b=off | 0.2  | 0.8   |\n",
    "| a=off | b=on  | 0.6  | 0.4   |\n",
    "| a=off | b=off | 0.6  | 0.4   |\n",
    "```\n",
    "\n",
    "When we define a BBN structure (be it programmatically in code/Python or declaratively in JSON), we should define and add the edge `a -> c` to the graph before the edge `b -> c`. Below is the code where we do so."
   ]
  },
  {
   "cell_type": "code",
   "execution_count": 1,
   "metadata": {
    "ExecuteTime": {
     "end_time": "2023-06-09T20:45:36.578375Z",
     "start_time": "2023-06-09T20:45:36.450777Z"
    },
    "collapsed": false
   },
   "outputs": [],
   "source": [
    "from pybbn.graph.dag import Bbn\n",
    "from pybbn.graph.edge import Edge, EdgeType\n",
    "from pybbn.graph.node import BbnNode\n",
    "from pybbn.graph.variable import Variable\n",
    "\n",
    "def get_bbn1():\n",
    "    a = BbnNode(Variable(0, 'a', ['on', 'off']), [0.2, 0.8])\n",
    "    b = BbnNode(Variable(1, 'b', ['on', 'off']), [0.8, 0.2])\n",
    "    c = BbnNode(Variable(2, 'c', ['on', 'off']), [0.7, 0.3, 0.2, 0.8, 0.6, 0.4, 0.6, 0.4])\n",
    "\n",
    "    bbn = Bbn() \\\n",
    "        .add_node(a) \\\n",
    "        .add_node(b) \\\n",
    "        .add_node(c) \\\n",
    "        .add_edge(Edge(a, c, EdgeType.DIRECTED)) \\\n",
    "        .add_edge(Edge(b, c, EdgeType.DIRECTED))\n",
    "\n",
    "    return bbn"
   ]
  },
  {
   "cell_type": "markdown",
   "metadata": {
    "collapsed": false
   },
   "source": [
    "When we add the edge `b -> c` to the network structure before `a -> c`, then the induced CPT for `c` will be as follows. This second CPT for `c` is not the same at all for the first one!\n",
    "\n",
    "```\n",
    "|       |       | c=on | c=off |\n",
    "|-------|-------|------|-------|\n",
    "| b=on  | a=on  | 0.7  | 0.3   |\n",
    "| b=on  | a=off | 0.2  | 0.8   |\n",
    "| b=off | a=on  | 0.6  | 0.4   |\n",
    "| b=off | a=off | 0.6  | 0.4   |\n",
    "```\n",
    "\n",
    "Here is the code for creating a BBN where we add `b -> c` before `a -> c`."
   ]
  },
  {
   "cell_type": "code",
   "execution_count": 2,
   "metadata": {
    "ExecuteTime": {
     "end_time": "2023-06-09T20:48:37.366009Z",
     "start_time": "2023-06-09T20:48:37.358890Z"
    },
    "collapsed": false
   },
   "outputs": [],
   "source": [
    "def get_bbn2():\n",
    "    a = BbnNode(Variable(0, 'a', ['on', 'off']), [0.2, 0.8])\n",
    "    b = BbnNode(Variable(1, 'b', ['on', 'off']), [0.8, 0.2])\n",
    "    c = BbnNode(Variable(2, 'c', ['on', 'off']), [0.7, 0.3, 0.2, 0.8, 0.6, 0.4, 0.6, 0.4])\n",
    "\n",
    "    bbn = Bbn() \\\n",
    "        .add_node(a) \\\n",
    "        .add_node(b) \\\n",
    "        .add_node(c) \\\n",
    "        .add_edge(Edge(b, c, EdgeType.DIRECTED)) \\\n",
    "        .add_edge(Edge(a, c, EdgeType.DIRECTED))\n",
    "\n",
    "    return bbn"
   ]
  },
  {
   "cell_type": "markdown",
   "metadata": {
    "collapsed": false
   },
   "source": [
    "Although the networks (regardless of the order of how we add the edges) are the same in both cases, the parameters induced are NOT and sensitive to the order of how the edges are added. Now, let's compare the posteriors of of these 2 BBNs."
   ]
  },
  {
   "cell_type": "code",
   "execution_count": 5,
   "metadata": {
    "ExecuteTime": {
     "end_time": "2023-06-09T20:53:22.011308Z",
     "start_time": "2023-06-09T20:53:22.005971Z"
    },
    "collapsed": false
   },
   "outputs": [],
   "source": [
    "from pybbn.pptc.inferencecontroller import InferenceController\n",
    "\n",
    "b1 = get_bbn1()\n",
    "b2 = get_bbn2()\n",
    "\n",
    "j1 = InferenceController.apply(b1)\n",
    "j2 = InferenceController.apply(b2)"
   ]
  },
  {
   "cell_type": "markdown",
   "metadata": {
    "collapsed": false
   },
   "source": [
    "Here are the posteriors for the first BBN. Note that the id-to-name as defined above are as follows.\n",
    "\n",
    "- 0: a\n",
    "- 1: b\n",
    "- 2: c\n",
    "\n",
    "Keep an eye on id 2, thus."
   ]
  },
  {
   "cell_type": "code",
   "execution_count": 6,
   "metadata": {
    "ExecuteTime": {
     "end_time": "2023-06-09T20:53:32.939999Z",
     "start_time": "2023-06-09T20:53:32.933667Z"
    },
    "collapsed": false
   },
   "outputs": [
    {
     "name": "stdout",
     "output_type": "stream",
     "text": [
      "1=on|0.80000\n",
      "1=off|0.20000\n",
      "----------\n",
      "2=on|0.60000\n",
      "2=off|0.40000\n",
      "----------\n",
      "0=on|0.20000\n",
      "0=off|0.80000\n",
      "----------\n"
     ]
    }
   ],
   "source": [
    "for node in j1.get_bbn_nodes():\n",
    "    potential = j1.get_bbn_potential(node)\n",
    "    print(potential)\n",
    "    print('-' * 10)"
   ]
  },
  {
   "cell_type": "markdown",
   "metadata": {
    "collapsed": false
   },
   "source": [
    "Here are the posteriors for the second BBN."
   ]
  },
  {
   "cell_type": "code",
   "execution_count": 7,
   "metadata": {
    "ExecuteTime": {
     "end_time": "2023-06-09T20:53:48.135163Z",
     "start_time": "2023-06-09T20:53:48.127707Z"
    },
    "collapsed": false
   },
   "outputs": [
    {
     "name": "stdout",
     "output_type": "stream",
     "text": [
      "1=on|0.80000\n",
      "1=off|0.20000\n",
      "----------\n",
      "2=on|0.36000\n",
      "2=off|0.64000\n",
      "----------\n",
      "0=on|0.20000\n",
      "0=off|0.80000\n",
      "----------\n"
     ]
    }
   ],
   "source": [
    "for node in j2.get_bbn_nodes():\n",
    "    potential = j2.get_bbn_potential(node)\n",
    "    print(potential)\n",
    "    print('-' * 10)"
   ]
  },
  {
   "cell_type": "markdown",
   "metadata": {
    "collapsed": false
   },
   "source": [
    "For now, there is no workaround for this issue of logically identical specified BBNs producing different potentials as a result of edge insertion order. Just make sure you are aware and careful."
   ]
  }
 ],
 "metadata": {
  "kernelspec": {
   "display_name": "Python 3",
   "language": "python",
   "name": "python3"
  },
  "language_info": {
   "codemirror_mode": {
    "name": "ipython",
    "version": 2
   },
   "file_extension": ".py",
   "mimetype": "text/x-python",
   "name": "python",
   "nbconvert_exporter": "python",
   "pygments_lexer": "ipython2",
   "version": "2.7.6"
  }
 },
 "nbformat": 4,
 "nbformat_minor": 0
}
