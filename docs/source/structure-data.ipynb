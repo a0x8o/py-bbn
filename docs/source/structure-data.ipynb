{
 "cells": [
  {
   "cell_type": "markdown",
   "id": "competitive-parish",
   "metadata": {},
   "source": [
    "# Create BBN with structure and data\n",
    "\n",
    "If you know the BBN structure and have data, you can create a BBN using the structure and learn the parameters from the data. For now, the parameters are simply the raw counts (not-Bayesian). The method to use is from ``Factory.from_data()``."
   ]
  },
  {
   "cell_type": "code",
   "execution_count": 1,
   "id": "civilian-mathematics",
   "metadata": {},
   "outputs": [],
   "source": [
    "import pandas as pd\n",
    "from pybbn.graph.factory import Factory\n",
    "\n",
    "df = pd.read_csv('./data/data-from-structure.csv')\n",
    "structure = {\n",
    "    'a': [],\n",
    "    'b': ['a'],\n",
    "    'c': ['b']\n",
    "}\n",
    "\n",
    "bbn = Factory.from_data(structure, df)"
   ]
  },
  {
   "cell_type": "markdown",
   "id": "found-jacket",
   "metadata": {},
   "source": [
    "As usual, after you acquire a BBN, you can performe inference using an `InferenceController`."
   ]
  },
  {
   "cell_type": "code",
   "execution_count": 2,
   "id": "broke-workshop",
   "metadata": {},
   "outputs": [
    {
     "name": "stdout",
     "output_type": "stream",
     "text": [
      "b : off=0.55020, on=0.44980\n",
      "c : off=0.57210, on=0.42790\n",
      "a : off=0.49850, on=0.50150\n"
     ]
    }
   ],
   "source": [
    "from pybbn.pptc.inferencecontroller import InferenceController\n",
    "\n",
    "join_tree = InferenceController.apply(bbn)\n",
    "\n",
    "for node, posteriors in join_tree.get_posteriors().items():\n",
    "    p = ', '.join([f'{val}={prob:.5f}' for val, prob in posteriors.items()])\n",
    "    print(f'{node} : {p}')"
   ]
  },
  {
   "cell_type": "code",
   "execution_count": 3,
   "id": "adapted-joining",
   "metadata": {},
   "outputs": [
    {
     "data": {
      "image/png": "[encoded data removed]",
      "text/plain": [
       "<Figure size 432x288 with 1 Axes>"
      ]
     },
     "metadata": {},
     "output_type": "display_data"
    }
   ],
   "source": [
    "import networkx as nx\n",
    "\n",
    "n, d = bbn.to_nx_graph()\n",
    "nx.draw(n, with_labels=True, labels=d, node_color='r', alpha=0.5)"
   ]
  }
 ],
 "metadata": {
  "kernelspec": {
   "display_name": "Python 3",
   "language": "python",
   "name": "python3"
  },
  "language_info": {
   "codemirror_mode": {
    "name": "ipython",
    "version": 3
   },
   "file_extension": ".py",
   "mimetype": "text/x-python",
   "name": "python",
   "nbconvert_exporter": "python",
   "pygments_lexer": "ipython3",
   "version": "3.8.5"
  }
 },
 "nbformat": 4,
 "nbformat_minor": 5
}
