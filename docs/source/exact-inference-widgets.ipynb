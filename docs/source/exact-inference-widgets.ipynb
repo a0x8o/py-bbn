{
 "cells": [
  {
   "cell_type": "markdown",
   "metadata": {},
   "source": [
    "# Exact Inference with Widgets\n",
    "\n",
    "Here, we show a very simple example of how to observe the marginal posterior probabilities of each node given the state of one. We will use the Huang graph <cite data-cite=\"1999:huang\"></cite>."
   ]
  },
  {
   "cell_type": "markdown",
   "metadata": {},
   "source": [
    "## Simulate data"
   ]
  },
  {
   "cell_type": "code",
   "execution_count": 1,
   "metadata": {},
   "outputs": [],
   "source": [
    "%matplotlib inline\n",
    "from pybbn.graph.dag import BbnUtil\n",
    "from pybbn.graph.jointree import EvidenceBuilder, EvidenceType\n",
    "from pybbn.pptc.inferencecontroller import InferenceController\n",
    "import pandas as pd\n",
    "import matplotlib.pyplot as plt\n",
    "import numpy as np\n",
    "from collections import namedtuple\n",
    "\n",
    "np.random.seed(37)\n",
    "plt.style.use('ggplot')\n",
    "Marginal = namedtuple('Marginal', 'name, s')\n",
    "\n",
    "def potential_to_series(p):\n",
    "    vals = []\n",
    "    index = []\n",
    "    \n",
    "    for pe in p.entries:\n",
    "        try:\n",
    "            v = pe.entries.values()[0]\n",
    "        except:\n",
    "            v = list(pe.entries.values())[0]\n",
    "        p = pe.value\n",
    "        \n",
    "        vals.append(p)\n",
    "        index.append(v)\n",
    "        \n",
    "    return pd.Series(vals, index=index)\n",
    "\n",
    "def get_marginals(join_tree):\n",
    "    data = []\n",
    "    for node in join_tree.get_bbn_nodes():\n",
    "        name = node.variable.name\n",
    "        s = potential_to_series(join_tree.get_bbn_potential(node))\n",
    "        t = Marginal(name, s)\n",
    "        data.append(t)\n",
    "    return data\n",
    "\n",
    "# get the pre-defined huang graph\n",
    "bbn = BbnUtil.get_huang_graph()\n",
    "\n",
    "# convert the BBN to a join tree\n",
    "join_tree = InferenceController.apply(bbn)"
   ]
  },
  {
   "cell_type": "markdown",
   "metadata": {},
   "source": [
    "## Visualize"
   ]
  },
  {
   "cell_type": "code",
   "execution_count": 2,
   "metadata": {},
   "outputs": [
    {
     "data": {
      "application/vnd.jupyter.widget-view+json": {
       "model_id": "40544f44b0904545a6f49573c85bc7ad",
       "version_major": 2,
       "version_minor": 0
      },
      "text/plain": [
       "interactive(children=(Dropdown(description='a', options=(('unobserved', -1), ('off', 0), ('on', 1)), value=-1)…"
      ]
     },
     "metadata": {},
     "output_type": "display_data"
    }
   ],
   "source": [
    "import math\n",
    "from ipywidgets import interact\n",
    "\n",
    "@interact(a=[('unobserved', -1), ('off', 0), ('on', 1)])\n",
    "def f(a=-1):\n",
    "    n_cols = 4\n",
    "    n_rows = math.ceil(len(bbn.get_nodes()) / n_cols)\n",
    "    \n",
    "    if a == -1:\n",
    "        join_tree.unobserve_all()\n",
    "        marginals = get_marginals(join_tree)\n",
    "    else:\n",
    "        v = 'on' if a == 1 else 'off'\n",
    "        ev = EvidenceBuilder() \\\n",
    "            .with_node(join_tree.get_bbn_node_by_name('a')) \\\n",
    "            .with_evidence(v, 1.0) \\\n",
    "            .build()\n",
    "        join_tree.unobserve_all()\n",
    "        join_tree.set_observation(ev)\n",
    "        marginals = get_marginals(join_tree)\n",
    "        \n",
    "    marginals = sorted(marginals, key=lambda tup: tup[0])\n",
    "        \n",
    "    fig, axes = plt.subplots(n_rows, n_cols, figsize=(15, 5), sharey=True)\n",
    "    \n",
    "    for m, ax in zip(marginals, np.ravel(axes)):\n",
    "        m.s.plot(kind='bar', legend=False, ax=ax)\n",
    "        ax.set_title(m.name)\n",
    "        ax.set_ylim([0.0, 1.0])\n",
    "        ax.set_xlabel('')\n",
    "        \n",
    "    plt.tight_layout()"
   ]
  }
 ],
 "metadata": {
  "kernelspec": {
   "display_name": "Python 3",
   "language": "python",
   "name": "python3"
  },
  "language_info": {
   "codemirror_mode": {
    "name": "ipython",
    "version": 3
   },
   "file_extension": ".py",
   "mimetype": "text/x-python",
   "name": "python",
   "nbconvert_exporter": "python",
   "pygments_lexer": "ipython3",
   "version": "3.8.3"
  },
  "widgets": {
   "application/vnd.jupyter.widget-state+json": {
    "state": {
     "0bfc125475c54efdaff7abd80c48b3a0": {
      "model_module": "@jupyter-widgets/base",
      "model_module_version": "1.2.0",
      "model_name": "LayoutModel",
      "state": {}
     },
     "263f61c302264deab35382651c4f1e14": {
      "model_module": "@jupyter-widgets/output",
      "model_module_version": "1.0.0",
      "model_name": "OutputModel",
      "state": {
       "layout": "IPY_MODEL_b0ef4be5be864e70bbcaf06df6653963",
       "outputs": [
        {
         "data": {
          "image/png": "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\n",
          "text/plain": "<Figure size 1080x360 with 8 Axes>"
         },
         "metadata": {},
         "output_type": "display_data"
        }
       ]
      }
     },
     "40544f44b0904545a6f49573c85bc7ad": {
      "model_module": "@jupyter-widgets/controls",
      "model_module_version": "1.5.0",
      "model_name": "VBoxModel",
      "state": {
       "_dom_classes": [
        "widget-interact"
       ],
       "children": [
        "IPY_MODEL_99ecd6e8a7654a9c963d79b59e6835a9",
        "IPY_MODEL_263f61c302264deab35382651c4f1e14"
       ],
       "layout": "IPY_MODEL_0bfc125475c54efdaff7abd80c48b3a0"
      }
     },
     "8a85e22b702b473c880d22950ea48d8a": {
      "model_module": "@jupyter-widgets/base",
      "model_module_version": "1.2.0",
      "model_name": "LayoutModel",
      "state": {}
     },
     "99ecd6e8a7654a9c963d79b59e6835a9": {
      "model_module": "@jupyter-widgets/controls",
      "model_module_version": "1.5.0",
      "model_name": "DropdownModel",
      "state": {
       "_options_labels": [
        "unobserved",
        "off",
        "on"
       ],
       "description": "a",
       "index": 0,
       "layout": "IPY_MODEL_8a85e22b702b473c880d22950ea48d8a",
       "style": "IPY_MODEL_9ca6e9c9f807454b98fb4fd0bdf44721"
      }
     },
     "9ca6e9c9f807454b98fb4fd0bdf44721": {
      "model_module": "@jupyter-widgets/controls",
      "model_module_version": "1.5.0",
      "model_name": "DescriptionStyleModel",
      "state": {
       "description_width": ""
      }
     },
     "b0ef4be5be864e70bbcaf06df6653963": {
      "model_module": "@jupyter-widgets/base",
      "model_module_version": "1.2.0",
      "model_name": "LayoutModel",
      "state": {}
     }
    },
    "version_major": 2,
    "version_minor": 0
   }
  }
 },
 "nbformat": 4,
 "nbformat_minor": 4
}
