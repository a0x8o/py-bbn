{
 "cells": [
  {
   "cell_type": "markdown",
   "metadata": {},
   "source": [
    "# Inference from data using different Bayesian Belief Network (BBN) Structures\n",
    "\n",
    "This notebook shows how to apply different BBN structures to the same parameters. The parameters, means and covariances, are estimated from data generated from linear equations. Approximate inference is the performed on each BBN to observed the associated parameters."
   ]
  },
  {
   "cell_type": "code",
   "execution_count": 1,
   "metadata": {
    "ExecuteTime": {
     "end_time": "2018-11-20T06:40:20.809789Z",
     "start_time": "2018-11-20T06:40:19.829119Z"
    }
   },
   "outputs": [],
   "source": [
    "import numpy as np\n",
    "import pandas as pd\n",
    "import matplotlib.pyplot as plt\n",
    "import networkx as nx\n",
    "from pybbn.lg.graph import Dag, Parameters, Bbn\n",
    "\n",
    "np.random.seed(37)"
   ]
  },
  {
   "cell_type": "markdown",
   "metadata": {},
   "source": [
    "There are four variables, x0, x1, x2, and x4. "
   ]
  },
  {
   "cell_type": "code",
   "execution_count": 2,
   "metadata": {
    "ExecuteTime": {
     "end_time": "2018-11-20T06:40:20.831943Z",
     "start_time": "2018-11-20T06:40:20.814175Z"
    }
   },
   "outputs": [],
   "source": [
    "num_samples = 10000\n",
    "\n",
    "x0 = 2.0 + np.random.standard_normal(num_samples)\n",
    "x1 = 5.0 + 2.0 * x0 + np.random.standard_normal(num_samples)\n",
    "x2 = 2.0 + np.random.standard_normal(num_samples)\n",
    "x3 = 1.0 + 0.3 * x1 + 0.5 * x2 + np.random.standard_normal(num_samples)\n",
    "x4 = 8.0 + 0.9 * x3 + np.random.standard_normal(num_samples)\n",
    "\n",
    "df = pd.DataFrame({\n",
    "    'x0': x0,\n",
    "    'x1': x1,\n",
    "    'x2': x2,\n",
    "    'x3': x3,\n",
    "    'x4': x4})\n",
    "\n",
    "means = np.array(df.mean())\n",
    "cov = np.array(df.cov().values)"
   ]
  },
  {
   "cell_type": "markdown",
   "metadata": {},
   "source": [
    "Model 1's structure represents the true model's structure. The structures of Models 2, 3, and 4 are made-up ones. We perform approximate inference for each BBN and observe how the estimated parameters associated with the BBN compare to the parameters associated with the linear equations."
   ]
  },
  {
   "cell_type": "code",
   "execution_count": 3,
   "metadata": {
    "ExecuteTime": {
     "end_time": "2018-11-20T06:40:20.849142Z",
     "start_time": "2018-11-20T06:40:20.836763Z"
    }
   },
   "outputs": [],
   "source": [
    "max_samples = 9000\n",
    "max_iters = 1\n",
    "\n",
    "# create the directed acylic graph\n",
    "# this is based on the true structure \n",
    "dag1 = Dag()\n",
    "dag1.add_node(0)\n",
    "dag1.add_node(1)\n",
    "dag1.add_node(2)\n",
    "dag1.add_node(3)\n",
    "dag1.add_node(4)\n",
    "dag1.add_edge(0, 1)\n",
    "dag1.add_edge(1, 3)\n",
    "dag1.add_edge(2, 3)\n",
    "dag1.add_edge(3, 4)\n",
    "\n",
    "# The parameters are estimated from the samples above\n",
    "params = Parameters(means, cov)\n",
    "\n",
    "# create the bayesian belief network\n",
    "bbn1 = Bbn(dag1, params, max_samples=max_samples, max_iters=max_iters, mb=True)"
   ]
  },
  {
   "cell_type": "code",
   "execution_count": 4,
   "metadata": {
    "ExecuteTime": {
     "end_time": "2018-11-20T06:40:20.862813Z",
     "start_time": "2018-11-20T06:40:20.854055Z"
    }
   },
   "outputs": [],
   "source": [
    "# create the directed acylic graph\n",
    "# this is based on an imposed structure\n",
    "dag2 = Dag()\n",
    "dag2.add_node(0)\n",
    "dag2.add_node(1)\n",
    "dag2.add_node(2)\n",
    "dag2.add_node(3)\n",
    "dag2.add_node(4)\n",
    "dag2.add_edge(0, 1)\n",
    "dag2.add_edge(1, 3)\n",
    "dag2.add_edge(1, 4)\n",
    "dag2.add_edge(2, 3)\n",
    "\n",
    "# create the bayesian belief network\n",
    "bbn2 = Bbn(dag2, params, max_samples=max_samples, max_iters=max_iters, mb=True)"
   ]
  },
  {
   "cell_type": "code",
   "execution_count": 5,
   "metadata": {
    "ExecuteTime": {
     "end_time": "2018-11-20T06:40:20.878840Z",
     "start_time": "2018-11-20T06:40:20.867847Z"
    }
   },
   "outputs": [],
   "source": [
    "# create the directed acylic graph\n",
    "# this is based on an imposed structure\n",
    "dag3 = Dag()\n",
    "dag3.add_node(0)\n",
    "dag3.add_node(1)\n",
    "dag3.add_node(2)\n",
    "dag3.add_node(3)\n",
    "dag3.add_node(4)\n",
    "dag3.add_edge(0, 1)\n",
    "dag3.add_edge(1, 3)\n",
    "dag3.add_edge(3, 4)\n",
    "dag3.add_edge(3, 2)\n",
    "\n",
    "# create the bayesian belief network\n",
    "bbn3 = Bbn(dag3, params, max_samples=max_samples, max_iters=max_iters, mb=True)"
   ]
  },
  {
   "cell_type": "code",
   "execution_count": 6,
   "metadata": {
    "ExecuteTime": {
     "end_time": "2018-11-20T06:40:20.892314Z",
     "start_time": "2018-11-20T06:40:20.883516Z"
    }
   },
   "outputs": [],
   "source": [
    "dag4 = Dag()\n",
    "dag4.add_node(0)\n",
    "dag4.add_node(1)\n",
    "dag4.add_node(2)\n",
    "dag4.add_node(3)\n",
    "dag4.add_node(4)\n",
    "dag4.add_edge(0, 1)\n",
    "dag4.add_edge(2, 3)\n",
    "dag4.add_edge(3, 4)\n",
    "\n",
    "# create the bayesian belief network\n",
    "bbn4 = Bbn(dag4, params, max_samples=max_samples, max_iters=max_iters, mb=True)"
   ]
  },
  {
   "cell_type": "markdown",
   "metadata": {},
   "source": [
    "Do some approximate inference and observe how the estimated parameters compare to the empirical ones. Note that `x1` has `x0` as a parent, `x3` as a child, and `x2` as a coparent and so its [Markov blanket](https://en.wikipedia.org/wiki/Markov_blanket) is `x0, x3, x2`. If we condition on the Markov blanket of `x1`, then we know all we need to know to estimate the state of `x1`. In the approximate inference algorithm we are using, [Gibbs sampling](https://en.wikipedia.org/wiki/Gibbs_sampling), we only sample `x0` based on its Markov blanket as defined by the structure of the BBN. Since Model 1's structure represents the true relationships between all the variables, we expect that the parameter estimation from it would be closest to the empirical one. \n",
    "\n",
    "* Empirical mean of `x1` is 8.99\n",
    "* Estimated mean of `x1` with Model 1 is 8.75\n",
    "* Estimated mean of `x1` with Model 2 is 8.06\n",
    "* Estimated mean of `x1` with Model 3 is 9.34\n",
    "* Estimated mean of `x1` with Model 4 is 9.98"
   ]
  },
  {
   "cell_type": "code",
   "execution_count": 7,
   "metadata": {
    "ExecuteTime": {
     "end_time": "2018-11-20T06:40:26.066590Z",
     "start_time": "2018-11-20T06:40:20.897225Z"
    }
   },
   "outputs": [
    {
     "name": "stdout",
     "output_type": "stream",
     "text": [
      "[ 2.00172341  8.99427581  2.00498856  4.68968355 12.23579291]\n",
      "[ 1.72899076  8.25867383  2.89240628  4.78425396 13.39843849]\n",
      "[ 2.12550081  8.94781937  1.59195174  4.96596736 13.1227521 ]\n",
      "[ 1.98599524  9.34236961  2.18319841  4.67423445 12.08305803]\n",
      "[ 2.41020049  9.97740736  0.19535363  3.6934995  10.71940168]\n"
     ]
    }
   ],
   "source": [
    "print(means)\n",
    "print(bbn1.do_inference())\n",
    "print(bbn2.do_inference())\n",
    "print(bbn3.do_inference())\n",
    "print(bbn4.do_inference())"
   ]
  },
  {
   "cell_type": "markdown",
   "metadata": {},
   "source": [
    "Note that if we do approximate inference again, we get different results."
   ]
  },
  {
   "cell_type": "code",
   "execution_count": 8,
   "metadata": {
    "ExecuteTime": {
     "end_time": "2018-11-20T06:40:32.145626Z",
     "start_time": "2018-11-20T06:40:26.071114Z"
    }
   },
   "outputs": [
    {
     "name": "stdout",
     "output_type": "stream",
     "text": [
      "[ 2.00172341  8.99427581  2.00498856  4.68968355 12.23579291]\n",
      "[ 2.13357044  9.61769632  1.55537494  5.14578291 12.41618957]\n",
      "[ 2.24569154  9.87532434  1.75630482  4.42269733 13.20841394]\n",
      "[ 2.64495122  9.72837857  2.28219061  4.48637915 12.20904582]\n",
      "[ 2.54737054 10.48950134  3.18097493  6.13233732 12.82671239]\n"
     ]
    }
   ],
   "source": [
    "print(means)\n",
    "print(bbn1.do_inference())\n",
    "print(bbn2.do_inference())\n",
    "print(bbn3.do_inference())\n",
    "print(bbn4.do_inference())"
   ]
  },
  {
   "cell_type": "markdown",
   "metadata": {},
   "source": [
    "Look at the log likelihood of the data given the models. As you can see, log likelihood of the data given model 1 is the highest."
   ]
  },
  {
   "cell_type": "code",
   "execution_count": 9,
   "metadata": {
    "ExecuteTime": {
     "end_time": "2018-11-20T06:40:32.870669Z",
     "start_time": "2018-11-20T06:40:32.150277Z"
    }
   },
   "outputs": [
    {
     "name": "stdout",
     "output_type": "stream",
     "text": [
      "log prob of model 1 -30845.88069633781\n",
      "log prob of model 2 -32812.73332487019\n",
      "log prob of model 3 -31073.60470304762\n",
      "log prob of model 4 -31768.177026621746\n"
     ]
    }
   ],
   "source": [
    "data_mat = df.values\n",
    "logp1 = bbn1.log_prob(data_mat)\n",
    "logp2 = bbn2.log_prob(data_mat)\n",
    "logp3 = bbn3.log_prob(data_mat)\n",
    "logp4 = bbn4.log_prob(data_mat)\n",
    "\n",
    "print('log prob of model 1 {}'.format(logp1))\n",
    "print('log prob of model 2 {}'.format(logp2))\n",
    "print('log prob of model 3 {}'.format(logp3))\n",
    "print('log prob of model 4 {}'.format(logp4))"
   ]
  },
  {
   "cell_type": "markdown",
   "metadata": {},
   "source": [
    "Here's the plots of the four models."
   ]
  },
  {
   "cell_type": "code",
   "execution_count": 10,
   "metadata": {
    "ExecuteTime": {
     "end_time": "2018-11-20T06:40:33.272667Z",
     "start_time": "2018-11-20T06:40:32.875898Z"
    }
   },
   "outputs": [
    {
     "name": "stderr",
     "output_type": "stream",
     "text": [
      "/home/super/anaconda3/lib/python3.7/site-packages/networkx/drawing/nx_pylab.py:579: MatplotlibDeprecationWarning: \n",
      "The iterable function was deprecated in Matplotlib 3.1 and will be removed in 3.3. Use np.iterable instead.\n",
      "  if not cb.iterable(width):\n",
      "/home/super/anaconda3/lib/python3.7/site-packages/networkx/drawing/nx_pylab.py:676: MatplotlibDeprecationWarning: \n",
      "The iterable function was deprecated in Matplotlib 3.1 and will be removed in 3.3. Use np.iterable instead.\n",
      "  if cb.iterable(node_size):  # many node sizes\n"
     ]
    },
    {
     "data": {
      "text/plain": [
       "Text(0.5, 1.0, 'Model 4')"
      ]
     },
     "execution_count": 10,
     "metadata": {},
     "output_type": "execute_result"
    },
    {
     "data": {
      "image/png": "[encoded data removed]",
      "text/plain": [
       "<Figure size 720x720 with 4 Axes>"
      ]
     },
     "metadata": {},
     "output_type": "display_data"
    }
   ],
   "source": [
    "plt.figure(figsize=(10, 10))\n",
    "plt.subplot(221) \n",
    "nx.draw(bbn1.dag.g,with_labels=True, font_weight='bold')\n",
    "plt.title('Model 1')\n",
    "plt.subplot(222) \n",
    "nx.draw(bbn2.dag.g,with_labels=True, font_weight='bold')\n",
    "plt.title('Model 2')\n",
    "plt.subplot(223) \n",
    "nx.draw(bbn3.dag.g,with_labels=True, font_weight='bold')\n",
    "plt.title('Model 3')\n",
    "plt.subplot(224) \n",
    "nx.draw(bbn4.dag.g,with_labels=True, font_weight='bold')\n",
    "plt.title('Model 4')"
   ]
  },
  {
   "cell_type": "code",
   "execution_count": null,
   "metadata": {},
   "outputs": [],
   "source": []
  }
 ],
 "metadata": {
  "kernelspec": {
   "display_name": "Python 3",
   "language": "python",
   "name": "python3"
  },
  "language_info": {
   "codemirror_mode": {
    "name": "ipython",
    "version": 3
   },
   "file_extension": ".py",
   "mimetype": "text/x-python",
   "name": "python",
   "nbconvert_exporter": "python",
   "pygments_lexer": "ipython3",
   "version": "3.7.3"
  },
  "toc": {
   "nav_menu": {},
   "number_sections": true,
   "sideBar": true,
   "skip_h1_title": false,
   "title_cell": "Table of Contents",
   "title_sidebar": "Contents",
   "toc_cell": false,
   "toc_position": {},
   "toc_section_display": true,
   "toc_window_display": false
  },
  "varInspector": {
   "cols": {
    "lenName": 16,
    "lenType": 16,
    "lenVar": 40
   },
   "kernels_config": {
    "python": {
     "delete_cmd_postfix": "",
     "delete_cmd_prefix": "del ",
     "library": "var_list.py",
     "varRefreshCmd": "print(var_dic_list())"
    },
    "r": {
     "delete_cmd_postfix": ") ",
     "delete_cmd_prefix": "rm(",
     "library": "var_list.r",
     "varRefreshCmd": "cat(var_dic_list()) "
    }
   },
   "types_to_exclude": [
    "module",
    "function",
    "builtin_function_or_method",
    "instance",
    "_Feature"
   ],
   "window_display": false
  }
 },
 "nbformat": 4,
 "nbformat_minor": 2
}
