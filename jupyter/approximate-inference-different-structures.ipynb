{
 "cells": [
  {
   "cell_type": "markdown",
   "metadata": {},
   "source": [
    "# Inference from data using different Bayesian Belief Network (BBN) Structures\n",
    "\n",
    "This notebook shows how to apply different BBN structures to the same parameters. The parameters, means and covariances, are estimated from data generated from linear equations. Approximate inference is the performed on each BBN to observed the associated parameters."
   ]
  },
  {
   "cell_type": "code",
   "execution_count": 1,
   "metadata": {},
   "outputs": [],
   "source": [
    "import numpy as np\n",
    "import pandas as pd\n",
    "import matplotlib.pyplot as plt\n",
    "import networkx as nx\n",
    "from pybbn.lg.graph import Dag, Parameters, Bbn\n",
    "\n",
    "np.random.seed(37)"
   ]
  },
  {
   "cell_type": "markdown",
   "metadata": {},
   "source": [
    "There are four variables, x0, x1, x2, and x4. "
   ]
  },
  {
   "cell_type": "code",
   "execution_count": 2,
   "metadata": {
    "collapsed": true
   },
   "outputs": [],
   "source": [
    "num_samples = 10000\n",
    "\n",
    "x0 = 2.0 + np.random.standard_normal(num_samples)\n",
    "x1 = 5.0 + 2.0 * x0 + np.random.standard_normal(num_samples)\n",
    "x2 = 2.0 + np.random.standard_normal(num_samples)\n",
    "x3 = 1.0 + 0.3 * x1 + 0.5 * x2 + np.random.standard_normal(num_samples)\n",
    "x4 = 8.0 + 0.9 * x3 + np.random.standard_normal(num_samples)\n",
    "\n",
    "df = pd.DataFrame({\n",
    "    'x0': x0,\n",
    "    'x1': x1,\n",
    "    'x2': x2,\n",
    "    'x3': x3,\n",
    "    'x4': x4})\n",
    "\n",
    "means = np.array(df.mean())\n",
    "cov = np.array(df.cov().as_matrix())"
   ]
  },
  {
   "cell_type": "markdown",
   "metadata": {},
   "source": [
    "Model 1's structure represents the true model's structure. The structures of Models 2, 3, and 4 are made-up ones. We perform approximate inference for each BBN and observe how the estimated parameters associated with the BBN compare to the parameters associated with the linear equations."
   ]
  },
  {
   "cell_type": "code",
   "execution_count": 3,
   "metadata": {},
   "outputs": [],
   "source": [
    "max_samples = 9000\n",
    "max_iters = 1\n",
    "\n",
    "# create the directed acylic graph\n",
    "# this is based on the true structure \n",
    "dag1 = Dag()\n",
    "dag1.add_node(0)\n",
    "dag1.add_node(1)\n",
    "dag1.add_node(2)\n",
    "dag1.add_node(3)\n",
    "dag1.add_node(4)\n",
    "dag1.add_edge(0, 1)\n",
    "dag1.add_edge(1, 3)\n",
    "dag1.add_edge(2, 3)\n",
    "dag1.add_edge(3, 4)\n",
    "\n",
    "# The parameters are estimated from the samples above\n",
    "params = Parameters(means, cov)\n",
    "\n",
    "# create the bayesian belief network\n",
    "bbn1 = Bbn(dag1, params, max_samples=max_samples, max_iters=max_iters, mb=True)"
   ]
  },
  {
   "cell_type": "code",
   "execution_count": 4,
   "metadata": {},
   "outputs": [],
   "source": [
    "# create the directed acylic graph\n",
    "# this is based on an imposed structure\n",
    "dag2 = Dag()\n",
    "dag2.add_node(0)\n",
    "dag2.add_node(1)\n",
    "dag2.add_node(2)\n",
    "dag2.add_node(3)\n",
    "dag2.add_node(4)\n",
    "dag2.add_edge(0, 1)\n",
    "dag2.add_edge(1, 3)\n",
    "dag2.add_edge(1, 4)\n",
    "dag2.add_edge(2, 3)\n",
    "\n",
    "# create the bayesian belief network\n",
    "bbn2 = Bbn(dag2, params, max_samples=max_samples, max_iters=max_iters, mb=True)"
   ]
  },
  {
   "cell_type": "code",
   "execution_count": 5,
   "metadata": {},
   "outputs": [],
   "source": [
    "# create the directed acylic graph\n",
    "# this is based on an imposed structure\n",
    "dag3 = Dag()\n",
    "dag3.add_node(0)\n",
    "dag3.add_node(1)\n",
    "dag3.add_node(2)\n",
    "dag3.add_node(3)\n",
    "dag3.add_node(4)\n",
    "dag3.add_edge(0, 1)\n",
    "dag3.add_edge(1, 3)\n",
    "dag3.add_edge(3, 4)\n",
    "dag3.add_edge(3, 2)\n",
    "\n",
    "# create the bayesian belief network\n",
    "bbn3 = Bbn(dag3, params, max_samples=max_samples, max_iters=max_iters, mb=True)"
   ]
  },
  {
   "cell_type": "code",
   "execution_count": 6,
   "metadata": {},
   "outputs": [],
   "source": [
    "dag4 = Dag()\n",
    "dag4.add_node(0)\n",
    "dag4.add_node(1)\n",
    "dag4.add_node(2)\n",
    "dag4.add_node(3)\n",
    "dag4.add_node(4)\n",
    "dag4.add_edge(0, 1)\n",
    "dag4.add_edge(2, 3)\n",
    "dag4.add_edge(3, 4)\n",
    "\n",
    "# create the bayesian belief network\n",
    "bbn4 = Bbn(dag4, params, max_samples=max_samples, max_iters=max_iters, mb=True)"
   ]
  },
  {
   "cell_type": "markdown",
   "metadata": {},
   "source": [
    "Do some approximate inference and observe how the estimated parameters compare to the empirical ones. Note that `x1` has `x0` as a parent, `x3` as a child, and `x2` as a coparent and so its [Markov blanket](https://en.wikipedia.org/wiki/Markov_blanket) is `x0, x3, x2`. If we condition on the Markov blanket of `x1`, then we know all we need to know to estimate the state of `x1`. In the approximate inference algorithm we are using, [Gibbs sampling](https://en.wikipedia.org/wiki/Gibbs_sampling), we only sample `x0` based on its Markov blanket as defined by the structure of the BBN. Since Model 1's structure represents the true relationships between all the variables, we expect that the parameter estimation from it would be closest to the empirical one. \n",
    "\n",
    "* Empirical mean of `x1` is 8.99\n",
    "* Estimated mean of `x1` with Model 1 is 8.75\n",
    "* Estimated mean of `x1` with Model 2 is 8.06\n",
    "* Estimated mean of `x1` with Model 3 is 9.34\n",
    "* Estimated mean of `x1` with Model 4 is 9.98"
   ]
  },
  {
   "cell_type": "code",
   "execution_count": 7,
   "metadata": {},
   "outputs": [
    {
     "name": "stdout",
     "output_type": "stream",
     "text": [
      "[ 2.00172341  8.99427581  2.00498856  4.68968355 12.23579291]\n",
      "[ 1.95024174  8.74658674  2.92983243  4.46081744 13.10663653]\n",
      "[ 1.78889133  8.06100226  1.4585767   4.91491352 12.88061478]\n",
      "[ 1.98390317  9.34429891  2.19473357  4.61701007 12.03143064]\n",
      "[ 2.41020049  9.97740736  0.15957489  4.07604658 11.06453273]\n"
     ]
    }
   ],
   "source": [
    "print(means)\n",
    "print(bbn1.do_inference())\n",
    "print(bbn2.do_inference())\n",
    "print(bbn3.do_inference())\n",
    "print(bbn4.do_inference())"
   ]
  },
  {
   "cell_type": "markdown",
   "metadata": {},
   "source": [
    "Note that if we do approximate inference again, we get different results."
   ]
  },
  {
   "cell_type": "code",
   "execution_count": 8,
   "metadata": {},
   "outputs": [
    {
     "name": "stdout",
     "output_type": "stream",
     "text": [
      "[ 2.00172341  8.99427581  2.00498856  4.68968355 12.23579291]\n",
      "[ 1.99189891  9.22247063  1.49091314  5.23254876 12.49446906]\n",
      "[ 2.25024052  9.86511881  1.7639831   4.54772481 13.20562742]\n",
      "[ 2.31327311  9.08602593  2.2643306   4.5260365  12.24482438]\n",
      "[ 2.54737054 10.48950134  3.11698944  5.82662147 12.55089788]\n"
     ]
    }
   ],
   "source": [
    "print(means)\n",
    "print(bbn1.do_inference())\n",
    "print(bbn2.do_inference())\n",
    "print(bbn3.do_inference())\n",
    "print(bbn4.do_inference())"
   ]
  },
  {
   "cell_type": "markdown",
   "metadata": {},
   "source": [
    "Here's the plots of the four models."
   ]
  },
  {
   "cell_type": "code",
   "execution_count": 10,
   "metadata": {},
   "outputs": [
    {
     "data": {
      "text/plain": [
       "Text(0.5,1,'Model 4')"
      ]
     },
     "execution_count": 10,
     "metadata": {},
     "output_type": "execute_result"
    },
    {
     "data": {
      "image/png": "[encoded data removed]",
      "text/plain": [
       "<Figure size 720x720 with 4 Axes>"
      ]
     },
     "metadata": {},
     "output_type": "display_data"
    }
   ],
   "source": [
    "plt.figure(figsize=(10, 10))\n",
    "plt.subplot(221) \n",
    "nx.draw(bbn1.dag.g,with_labels=True, font_weight='bold')\n",
    "plt.title('Model 1')\n",
    "plt.subplot(222) \n",
    "nx.draw(bbn2.dag.g,with_labels=True, font_weight='bold')\n",
    "plt.title('Model 2')\n",
    "plt.subplot(223) \n",
    "nx.draw(bbn3.dag.g,with_labels=True, font_weight='bold')\n",
    "plt.title('Model 3')\n",
    "plt.subplot(224) \n",
    "nx.draw(bbn4.dag.g,with_labels=True, font_weight='bold')\n",
    "plt.title('Model 4')"
   ]
  },
  {
   "cell_type": "code",
   "execution_count": null,
   "metadata": {
    "collapsed": true
   },
   "outputs": [],
   "source": []
  }
 ],
 "metadata": {
  "kernelspec": {
   "display_name": "py-bbn",
   "language": "python",
   "name": "py-bbn"
  },
  "language_info": {
   "codemirror_mode": {
    "name": "ipython",
    "version": 2
   },
   "file_extension": ".py",
   "mimetype": "text/x-python",
   "name": "python",
   "nbconvert_exporter": "python",
   "pygments_lexer": "ipython2",
   "version": "2.7.14"
  }
 },
 "nbformat": 4,
 "nbformat_minor": 2
}
