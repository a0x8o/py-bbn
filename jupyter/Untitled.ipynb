{
 "cells": [
  {
   "cell_type": "code",
   "execution_count": 1,
   "id": "789fdf9e-59f8-40c3-b79c-e5107e257ca8",
   "metadata": {
    "ExecuteTime": {
     "end_time": "2023-06-09T19:38:25.882705760Z",
     "start_time": "2023-06-09T19:38:25.810565917Z"
    },
    "execution": {
     "iopub.execute_input": "2023-06-09T19:21:56.518576Z",
     "iopub.status.busy": "2023-06-09T19:21:56.518230Z",
     "iopub.status.idle": "2023-06-09T19:21:56.529197Z",
     "shell.execute_reply": "2023-06-09T19:21:56.528688Z",
     "shell.execute_reply.started": "2023-06-09T19:21:56.518556Z"
    },
    "tags": []
   },
   "outputs": [],
   "source": [
    "from pybbn.graph.dag import Bbn\n",
    "from pybbn.graph.edge import Edge, EdgeType\n",
    "from pybbn.graph.node import BbnNode\n",
    "from pybbn.graph.variable import Variable\n",
    "from pybbn.pptc.inferencecontroller import InferenceController\n",
    "\n",
    "def get_one():\n",
    "    a = BbnNode(Variable(0, 'a', ['on', 'off']), [0.2, 0.8])\n",
    "    b = BbnNode(Variable(1, 'b', ['on', 'off']), [0.8, 0.2])\n",
    "    c = BbnNode(Variable(2, 'c', ['on', 'off']), [0.7, 0.3, 0.2, 0.8, 0.6, 0.4, 0.6, 0.4])\n",
    "\n",
    "    bbn = Bbn() \\\n",
    "        .add_node(a) \\\n",
    "        .add_node(b) \\\n",
    "        .add_node(c) \\\n",
    "        .add_edge(Edge(a, c, EdgeType.DIRECTED)) \\\n",
    "        .add_edge(Edge(b, c, EdgeType.DIRECTED))\n",
    "\n",
    "    join_tree = InferenceController.apply(bbn)\n",
    "    \n",
    "    return bbn, join_tree\n",
    "\n",
    "def get_two():\n",
    "    a = BbnNode(Variable(0, 'a', ['on', 'off']), [0.2, 0.8])\n",
    "    b = BbnNode(Variable(1, 'b', ['on', 'off']), [0.8, 0.2])\n",
    "    c = BbnNode(Variable(2, 'c', ['on', 'off']), [0.7, 0.3, 0.2, 0.8, 0.6, 0.4, 0.6, 0.4])\n",
    "\n",
    "    bbn = Bbn() \\\n",
    "        .add_node(a) \\\n",
    "        .add_node(b) \\\n",
    "        .add_node(c) \\\n",
    "        .add_edge(Edge(b, c, EdgeType.DIRECTED)) \\\n",
    "        .add_edge(Edge(a, c, EdgeType.DIRECTED))\n",
    "\n",
    "    join_tree = InferenceController.apply(bbn)\n",
    "    \n",
    "    return bbn, join_tree\n",
    "\n",
    "b1, j1 = get_one()\n",
    "b2, j2 = get_two()"
   ]
  },
  {
   "cell_type": "code",
   "execution_count": 2,
   "id": "51708b70-7ab0-49e8-9405-ed6e5abeb0be",
   "metadata": {
    "ExecuteTime": {
     "end_time": "2023-06-09T19:38:25.944535391Z",
     "start_time": "2023-06-09T19:38:25.923575726Z"
    },
    "execution": {
     "iopub.execute_input": "2023-06-09T19:21:56.781937Z",
     "iopub.status.busy": "2023-06-09T19:21:56.781266Z",
     "iopub.status.idle": "2023-06-09T19:21:56.784980Z",
     "shell.execute_reply": "2023-06-09T19:21:56.784628Z",
     "shell.execute_reply.started": "2023-06-09T19:21:56.781921Z"
    },
    "tags": []
   },
   "outputs": [
    {
     "data": {
      "text/plain": [
       "{'b': {'on': 0.8, 'off': 0.2},\n",
       " 'c': {'on': 0.6, 'off': 0.4000000000000001},\n",
       " 'a': {'on': 0.19999999999999993, 'off': 0.7999999999999999}}"
      ]
     },
     "execution_count": 2,
     "metadata": {},
     "output_type": "execute_result"
    }
   ],
   "source": [
    "j1.get_posteriors()"
   ]
  },
  {
   "cell_type": "code",
   "execution_count": 3,
   "id": "a6493f72-0ed5-490b-bc3f-41a54fffca9f",
   "metadata": {
    "ExecuteTime": {
     "end_time": "2023-06-09T19:38:25.949642144Z",
     "start_time": "2023-06-09T19:38:25.946148545Z"
    },
    "execution": {
     "iopub.execute_input": "2023-06-09T19:21:57.201774Z",
     "iopub.status.busy": "2023-06-09T19:21:57.201167Z",
     "iopub.status.idle": "2023-06-09T19:21:57.204939Z",
     "shell.execute_reply": "2023-06-09T19:21:57.204500Z",
     "shell.execute_reply.started": "2023-06-09T19:21:57.201759Z"
    },
    "tags": []
   },
   "outputs": [
    {
     "data": {
      "text/plain": [
       "{'b': {'on': 0.7999999999999999, 'off': 0.19999999999999996},\n",
       " 'c': {'on': 0.35999999999999993, 'off': 0.6400000000000001},\n",
       " 'a': {'on': 0.19999999999999993, 'off': 0.7999999999999999}}"
      ]
     },
     "execution_count": 3,
     "metadata": {},
     "output_type": "execute_result"
    }
   ],
   "source": [
    "j2.get_posteriors()"
   ]
  },
  {
   "cell_type": "code",
   "execution_count": 4,
   "id": "1ad8b4d9-ec00-4737-b154-9eb6fcdd2b56",
   "metadata": {
    "ExecuteTime": {
     "end_time": "2023-06-09T19:38:26.005659835Z",
     "start_time": "2023-06-09T19:38:25.950301464Z"
    },
    "execution": {
     "iopub.execute_input": "2023-06-09T19:22:06.814390Z",
     "iopub.status.busy": "2023-06-09T19:22:06.813867Z",
     "iopub.status.idle": "2023-06-09T19:22:06.818978Z",
     "shell.execute_reply": "2023-06-09T19:22:06.818477Z",
     "shell.execute_reply.started": "2023-06-09T19:22:06.814365Z"
    },
    "tags": []
   },
   "outputs": [
    {
     "name": "stdout",
     "output_type": "stream",
     "text": [
      "a []\n",
      "0=on|0.20000\n",
      "0=off|0.80000\n",
      ">>>>>>>>>>>>>>>\n",
      "b []\n",
      "1=on|0.80000\n",
      "1=off|0.20000\n",
      ">>>>>>>>>>>>>>>\n",
      "c [a, b]\n",
      "0=on,1=on,2=on|0.70000\n",
      "0=on,1=on,2=off|0.30000\n",
      "0=on,1=off,2=on|0.20000\n",
      "0=on,1=off,2=off|0.80000\n",
      "0=off,1=on,2=on|0.60000\n",
      "0=off,1=on,2=off|0.40000\n",
      "0=off,1=off,2=on|0.60000\n",
      "0=off,1=off,2=off|0.40000\n",
      ">>>>>>>>>>>>>>>\n"
     ]
    }
   ],
   "source": [
    "from pybbn.graph.potential import PotentialUtil\n",
    "\n",
    "for node in b1.get_nodes():\n",
    "    parents = [b1.get_node(parent_id) for parent_id in b1.parents[node.id]] if node.id in b1.parents else []\n",
    "    print(node.variable.name, parents)\n",
    "    potential = PotentialUtil.get_potential(node, parents)\n",
    "    print(potential)\n",
    "    print('>' * 15)"
   ]
  },
  {
   "cell_type": "code",
   "execution_count": 5,
   "id": "d84cc7de-d81e-4ffc-a92b-567b4e1f4cb9",
   "metadata": {
    "ExecuteTime": {
     "end_time": "2023-06-09T19:38:26.006083940Z",
     "start_time": "2023-06-09T19:38:25.991714913Z"
    },
    "execution": {
     "iopub.execute_input": "2023-06-09T19:22:12.878250Z",
     "iopub.status.busy": "2023-06-09T19:22:12.877689Z",
     "iopub.status.idle": "2023-06-09T19:22:12.883013Z",
     "shell.execute_reply": "2023-06-09T19:22:12.882429Z",
     "shell.execute_reply.started": "2023-06-09T19:22:12.878231Z"
    },
    "tags": []
   },
   "outputs": [
    {
     "name": "stdout",
     "output_type": "stream",
     "text": [
      "a []\n",
      "0=on|0.20000\n",
      "0=off|0.80000\n",
      ">>>>>>>>>>>>>>>\n",
      "b []\n",
      "1=on|0.80000\n",
      "1=off|0.20000\n",
      ">>>>>>>>>>>>>>>\n",
      "c [b, a]\n",
      "0=on,1=on,2=on|0.70000\n",
      "0=on,1=on,2=off|0.30000\n",
      "0=off,1=on,2=on|0.20000\n",
      "0=off,1=on,2=off|0.80000\n",
      "0=on,1=off,2=on|0.60000\n",
      "0=on,1=off,2=off|0.40000\n",
      "0=off,1=off,2=on|0.60000\n",
      "0=off,1=off,2=off|0.40000\n",
      ">>>>>>>>>>>>>>>\n"
     ]
    }
   ],
   "source": [
    "for node in b2.get_nodes():\n",
    "    parents = [b2.get_node(parent_id) for parent_id in b2.parents[node.id]] if node.id in b2.parents else []\n",
    "    print(node.variable.name, parents)\n",
    "    potential = PotentialUtil.get_potential(node, parents)\n",
    "    print(potential)\n",
    "    print('>' * 15)"
   ]
  },
  {
   "cell_type": "code",
   "execution_count": 5,
   "id": "0ec6aff5-c0e1-44de-a479-62691fc3b77f",
   "metadata": {
    "ExecuteTime": {
     "end_time": "2023-06-09T19:38:26.006264314Z",
     "start_time": "2023-06-09T19:38:25.991941335Z"
    }
   },
   "outputs": [],
   "source": []
  }
 ],
 "metadata": {
  "kernelspec": {
   "display_name": "Python 3 (ipykernel)",
   "language": "python",
   "name": "python3"
  },
  "language_info": {
   "codemirror_mode": {
    "name": "ipython",
    "version": 3
   },
   "file_extension": ".py",
   "mimetype": "text/x-python",
   "name": "python",
   "nbconvert_exporter": "python",
   "pygments_lexer": "ipython3",
   "version": "3.9.16"
  },
  "widgets": {
   "application/vnd.jupyter.widget-state+json": {
    "state": {},
    "version_major": 2,
    "version_minor": 0
   }
  }
 },
 "nbformat": 4,
 "nbformat_minor": 5
}
