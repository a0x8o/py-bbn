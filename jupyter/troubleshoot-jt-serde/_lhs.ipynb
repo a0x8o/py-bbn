{
 "cells": [
  {
   "cell_type": "markdown",
   "id": "3babbb1f-bc73-4122-a654-5253aaf7135b",
   "metadata": {},
   "source": [
    "# LHS"
   ]
  },
  {
   "cell_type": "markdown",
   "id": "4bed3e9b-642d-4d16-8e29-358005c7d7b6",
   "metadata": {},
   "source": [
    "## Load"
   ]
  },
  {
   "cell_type": "code",
   "execution_count": 1,
   "id": "f5ffbb6b-1197-403f-a235-d7f071a32442",
   "metadata": {
    "execution": {
     "iopub.execute_input": "2023-02-01T00:09:42.994211Z",
     "iopub.status.busy": "2023-02-01T00:09:42.994211Z",
     "iopub.status.idle": "2023-02-01T00:09:43.147183Z",
     "shell.execute_reply": "2023-02-01T00:09:43.147183Z",
     "shell.execute_reply.started": "2023-02-01T00:09:42.994211Z"
    },
    "tags": []
   },
   "outputs": [],
   "source": [
    "from pybbn.graph.dag import Bbn\n",
    "from pybbn.pptc.inferencecontroller import InferenceController\n",
    "from pybbn.pptc.initializer import Initializer\n",
    "from pybbn.pptc.moralizer import Moralizer\n",
    "from pybbn.pptc.potentialinitializer import PotentialInitializer\n",
    "from pybbn.pptc.propagator import Propagator\n",
    "from pybbn.pptc.transformer import Transformer\n",
    "from pybbn.pptc.triangulator import Triangulator\n",
    "\n",
    "def get_jt():\n",
    "    bbn = Bbn.from_json('./_tmp/covid-bbn.json')\n",
    "    \n",
    "    PotentialInitializer.init(bbn)\n",
    "    ug = Moralizer.moralize(bbn)\n",
    "    cliques = Triangulator.triangulate(ug)\n",
    "    join_tree = Transformer.transform(cliques)\n",
    "    join_tree.parent_info = {node.id: bbn.parents[node.id] for node in bbn.get_nodes() if node.id in bbn.parents}\n",
    "    \n",
    "    return join_tree\n",
    "\n",
    "jt = get_jt()"
   ]
  },
  {
   "cell_type": "markdown",
   "id": "b6bcc4c1-0046-43be-b5b9-ec503a24dcad",
   "metadata": {},
   "source": [
    "## Potentials"
   ]
  },
  {
   "cell_type": "code",
   "execution_count": 2,
   "id": "91cea384-16d4-4cf7-8911-6ac9a5c58497",
   "metadata": {
    "execution": {
     "iopub.execute_input": "2023-02-01T00:09:43.148188Z",
     "iopub.status.busy": "2023-02-01T00:09:43.148188Z",
     "iopub.status.idle": "2023-02-01T00:09:43.162821Z",
     "shell.execute_reply": "2023-02-01T00:09:43.162821Z",
     "shell.execute_reply.started": "2023-02-01T00:09:43.148188Z"
    },
    "tags": []
   },
   "outputs": [
    {
     "data": {
      "text/plain": [
       "{abdominal_pain: [],\n",
       " age: [],\n",
       " chest_pain: [],\n",
       " chills: [],\n",
       " cough: [],\n",
       " covid: [age,\n",
       "  chills,\n",
       "  cough,\n",
       "  fatigue,\n",
       "  headache,\n",
       "  chest_pain,\n",
       "  loss_appetite,\n",
       "  loss_taste,\n",
       "  fever,\n",
       "  wheezing,\n",
       "  loss_smell],\n",
       " diarrhea: [],\n",
       " difficulty_breathing: [],\n",
       " excess_sweating: [],\n",
       " fatigue: [],\n",
       " female: [],\n",
       " fever: [female, difficulty_breathing, sore_throat, runny_nose, muscle_aches],\n",
       " headache: [],\n",
       " loss_appetite: [female,\n",
       "  difficulty_breathing,\n",
       "  sore_throat,\n",
       "  runny_nose,\n",
       "  diarrhea,\n",
       "  muscle_aches],\n",
       " loss_smell: [female, excess_sweating],\n",
       " loss_taste: [],\n",
       " muscle_aches: [],\n",
       " runny_nose: [],\n",
       " sore_throat: [],\n",
       " wheezing: [difficulty_breathing,\n",
       "  runny_nose,\n",
       "  diarrhea,\n",
       "  muscle_aches,\n",
       "  abdominal_pain]}"
      ]
     },
     "execution_count": 2,
     "metadata": {},
     "output_type": "execute_result"
    }
   ],
   "source": [
    "T = {k: v for k, v in sorted([(k, v) for k, v in jt.get_bbn_node_and_parents().items()], key=lambda tup: tup[0].variable.name)}\n",
    "T"
   ]
  },
  {
   "cell_type": "code",
   "execution_count": 3,
   "id": "19dc3ddf-d453-481a-8ac9-da295069bed7",
   "metadata": {
    "execution": {
     "iopub.execute_input": "2023-02-01T00:09:43.163843Z",
     "iopub.status.busy": "2023-02-01T00:09:43.163843Z",
     "iopub.status.idle": "2023-02-01T00:09:43.178860Z",
     "shell.execute_reply": "2023-02-01T00:09:43.178860Z",
     "shell.execute_reply.started": "2023-02-01T00:09:43.163843Z"
    },
    "tags": []
   },
   "outputs": [],
   "source": [
    "# for n in T:\n",
    "#     print(n.variable.name)\n",
    "#     print(n.potential)\n",
    "#     print('-' * 15)"
   ]
  },
  {
   "cell_type": "markdown",
   "id": "4586c0e8-6a61-4a0b-b05d-af97020cbb0f",
   "metadata": {},
   "source": [
    "## Initialization"
   ]
  },
  {
   "cell_type": "code",
   "execution_count": 4,
   "id": "0a326819-eaf6-45e5-89e7-a4448b08d075",
   "metadata": {
    "execution": {
     "iopub.execute_input": "2023-02-01T00:09:43.179857Z",
     "iopub.status.busy": "2023-02-01T00:09:43.179857Z",
     "iopub.status.idle": "2023-02-01T00:09:50.628244Z",
     "shell.execute_reply": "2023-02-01T00:09:50.628244Z",
     "shell.execute_reply.started": "2023-02-01T00:09:43.179857Z"
    },
    "tags": []
   },
   "outputs": [
    {
     "data": {
      "text/plain": [
       "<pybbn.graph.jointree.JoinTree at 0x18336053370>"
      ]
     },
     "execution_count": 4,
     "metadata": {},
     "output_type": "execute_result"
    }
   ],
   "source": [
    "Initializer.initialize(jt)"
   ]
  },
  {
   "cell_type": "code",
   "execution_count": 5,
   "id": "04e2b104-ad84-4b78-99c3-80dd382d5a6d",
   "metadata": {
    "execution": {
     "iopub.execute_input": "2023-02-01T00:09:50.629241Z",
     "iopub.status.busy": "2023-02-01T00:09:50.629241Z",
     "iopub.status.idle": "2023-02-01T00:09:50.644244Z",
     "shell.execute_reply": "2023-02-01T00:09:50.644244Z",
     "shell.execute_reply.started": "2023-02-01T00:09:50.629241Z"
    },
    "tags": []
   },
   "outputs": [
    {
     "data": {
      "text/plain": [
       "['0-1-18',\n",
       " '0-1-18-1-18-1-14-16-17-18',\n",
       " '1-14-16-17-18',\n",
       " '1-14-16-17-18-1-14-16-17-1-2-4-5-6-14-16-17',\n",
       " '1-2-3-4-5-6-14-16',\n",
       " '1-2-3-4-5-6-14-16-1-2-4-5-6-14-16-1-2-4-5-6-14-16-17',\n",
       " '1-2-4-5-6-14-16-17',\n",
       " '2-4-5-6-7-17',\n",
       " '2-4-5-6-7-17-2-4-5-6-17-1-2-4-5-6-14-16-17',\n",
       " '8-9-10-11-12-13-14-15-16-17-18-19',\n",
       " '8-9-10-11-12-13-14-15-16-17-18-19-14-16-17-18-1-14-16-17-18']"
      ]
     },
     "execution_count": 5,
     "metadata": {},
     "output_type": "execute_result"
    }
   ],
   "source": [
    "T = sorted(jt.potentials.keys())\n",
    "T"
   ]
  },
  {
   "cell_type": "code",
   "execution_count": 6,
   "id": "3ff034aa-b301-4a8a-98a3-c64aefd98185",
   "metadata": {
    "execution": {
     "iopub.execute_input": "2023-02-01T00:09:50.645243Z",
     "iopub.status.busy": "2023-02-01T00:09:50.645243Z",
     "iopub.status.idle": "2023-02-01T00:09:50.660243Z",
     "shell.execute_reply": "2023-02-01T00:09:50.660243Z",
     "shell.execute_reply.started": "2023-02-01T00:09:50.645243Z"
    },
    "tags": []
   },
   "outputs": [
    {
     "name": "stdout",
     "output_type": "stream",
     "text": [
      "7 abdominal_pain (abdominal_pain,diarrhea,difficulty_breathing,muscle_aches,runny_nose,wheezing) <class 'pybbn.graph.node.Clique'>\n",
      "8 age (age,chest_pain,chills,cough,covid,fatigue,fever,headache,loss_appetite,loss_smell,loss_taste,wheezing) <class 'pybbn.graph.node.Clique'>\n",
      "13 chest_pain (age,chest_pain,chills,cough,covid,fatigue,fever,headache,loss_appetite,loss_smell,loss_taste,wheezing) <class 'pybbn.graph.node.Clique'>\n",
      "9 chills (age,chest_pain,chills,cough,covid,fatigue,fever,headache,loss_appetite,loss_smell,loss_taste,wheezing) <class 'pybbn.graph.node.Clique'>\n",
      "10 cough (age,chest_pain,chills,cough,covid,fatigue,fever,headache,loss_appetite,loss_smell,loss_taste,wheezing) <class 'pybbn.graph.node.Clique'>\n",
      "19 covid (age,chest_pain,chills,cough,covid,fatigue,fever,headache,loss_appetite,loss_smell,loss_taste,wheezing) <class 'pybbn.graph.node.Clique'>\n",
      "5 diarrhea (diarrhea,difficulty_breathing,female,fever,loss_appetite,muscle_aches,runny_nose,sore_throat) <class 'pybbn.graph.node.Clique'>\n",
      "4 difficulty_breathing (diarrhea,difficulty_breathing,female,fever,loss_appetite,muscle_aches,runny_nose,sore_throat) <class 'pybbn.graph.node.Clique'>\n",
      "0 excess_sweating (excess_sweating,female,loss_smell) <class 'pybbn.graph.node.Clique'>\n",
      "11 fatigue (age,chest_pain,chills,cough,covid,fatigue,fever,headache,loss_appetite,loss_smell,loss_taste,wheezing) <class 'pybbn.graph.node.Clique'>\n",
      "1 female (excess_sweating,female,loss_smell) <class 'pybbn.graph.node.Clique'>\n",
      "16 fever (diarrhea,difficulty_breathing,female,fever,loss_appetite,muscle_aches,runny_nose,sore_throat) <class 'pybbn.graph.node.Clique'>\n",
      "12 headache (age,chest_pain,chills,cough,covid,fatigue,fever,headache,loss_appetite,loss_smell,loss_taste,wheezing) <class 'pybbn.graph.node.Clique'>\n",
      "14 loss_appetite (diarrhea,difficulty_breathing,female,fever,loss_appetite,muscle_aches,runny_nose,sore_throat) <class 'pybbn.graph.node.Clique'>\n",
      "18 loss_smell (excess_sweating,female,loss_smell) <class 'pybbn.graph.node.Clique'>\n",
      "15 loss_taste (age,chest_pain,chills,cough,covid,fatigue,fever,headache,loss_appetite,loss_smell,loss_taste,wheezing) <class 'pybbn.graph.node.Clique'>\n",
      "6 muscle_aches (diarrhea,difficulty_breathing,female,fever,loss_appetite,muscle_aches,runny_nose,sore_throat) <class 'pybbn.graph.node.Clique'>\n",
      "2 runny_nose (diarrhea,difficulty_breathing,female,fever,loss_appetite,muscle_aches,runny_nose,sore_throat) <class 'pybbn.graph.node.Clique'>\n",
      "3 sore_throat (diarrhea,difficulty_breathing,female,fever,loss_appetite,muscle_aches,runny_nose,sore_throat) <class 'pybbn.graph.node.Clique'>\n",
      "17 wheezing (abdominal_pain,diarrhea,difficulty_breathing,muscle_aches,runny_nose,wheezing) <class 'pybbn.graph.node.Clique'>\n"
     ]
    }
   ],
   "source": [
    "for n in sorted([n for n in jt.get_bbn_nodes()], key=lambda n: n.variable.name):\n",
    "    print(n.id, n.variable.name, n.metadata['parent.clique'], type(n.metadata['parent.clique']))"
   ]
  },
  {
   "cell_type": "code",
   "execution_count": 7,
   "id": "6604fdce-35a5-48af-9433-0d84537a03b0",
   "metadata": {
    "execution": {
     "iopub.execute_input": "2023-02-01T00:09:50.662243Z",
     "iopub.status.busy": "2023-02-01T00:09:50.661244Z",
     "iopub.status.idle": "2023-02-01T00:09:50.676244Z",
     "shell.execute_reply": "2023-02-01T00:09:50.676244Z",
     "shell.execute_reply.started": "2023-02-01T00:09:50.662243Z"
    },
    "tags": []
   },
   "outputs": [
    {
     "name": "stdout",
     "output_type": "stream",
     "text": [
      "(abdominal_pain,diarrhea,difficulty_breathing,muscle_aches,runny_nose,wheezing)\n"
     ]
    }
   ],
   "source": [
    "for c in sorted(jt.find_cliques_with_node_and_parents(17), key=lambda x: x.id):\n",
    "    print(c)"
   ]
  },
  {
   "cell_type": "code",
   "execution_count": 8,
   "id": "b8c9f667-1829-4e66-9645-72e899fb36ba",
   "metadata": {
    "execution": {
     "iopub.execute_input": "2023-02-01T00:09:50.677242Z",
     "iopub.status.busy": "2023-02-01T00:09:50.677242Z",
     "iopub.status.idle": "2023-02-01T00:09:50.691301Z",
     "shell.execute_reply": "2023-02-01T00:09:50.691301Z",
     "shell.execute_reply.started": "2023-02-01T00:09:50.677242Z"
    },
    "tags": []
   },
   "outputs": [],
   "source": [
    "# for clique in jt.get_cliques():\n",
    "#     print(clique)"
   ]
  },
  {
   "cell_type": "code",
   "execution_count": 9,
   "id": "d3c90b38-f47c-4fb7-9393-e03e10d04cc9",
   "metadata": {
    "execution": {
     "iopub.execute_input": "2023-02-01T00:09:50.692303Z",
     "iopub.status.busy": "2023-02-01T00:09:50.692303Z",
     "iopub.status.idle": "2023-02-01T00:09:50.706314Z",
     "shell.execute_reply": "2023-02-01T00:09:50.706314Z",
     "shell.execute_reply.started": "2023-02-01T00:09:50.692303Z"
    },
    "tags": []
   },
   "outputs": [],
   "source": [
    "# for t in T:\n",
    "#     print(t)\n",
    "#     print(jt.potentials[t])\n",
    "#     print('-' * 15)"
   ]
  },
  {
   "cell_type": "code",
   "execution_count": null,
   "id": "c153e8c6-d33b-4d94-860e-284a04b65779",
   "metadata": {},
   "outputs": [],
   "source": []
  }
 ],
 "metadata": {
  "kernelspec": {
   "display_name": "Python 3",
   "language": "python",
   "name": "python3"
  },
  "language_info": {
   "codemirror_mode": {
    "name": "ipython",
    "version": 3
   },
   "file_extension": ".py",
   "mimetype": "text/x-python",
   "name": "python",
   "nbconvert_exporter": "python",
   "pygments_lexer": "ipython3",
   "version": "3.8.5"
  },
  "widgets": {
   "application/vnd.jupyter.widget-state+json": {
    "state": {},
    "version_major": 2,
    "version_minor": 0
   }
  }
 },
 "nbformat": 4,
 "nbformat_minor": 5
}
