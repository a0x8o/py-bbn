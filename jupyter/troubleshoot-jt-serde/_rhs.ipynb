{
 "cells": [
  {
   "cell_type": "markdown",
   "id": "8ec59bca-d779-4a25-85a6-37acf40c6ea2",
   "metadata": {},
   "source": [
    "# RHS"
   ]
  },
  {
   "cell_type": "markdown",
   "id": "cd5f4806-e4b4-4119-95fb-f64004b98a76",
   "metadata": {},
   "source": [
    "## Load"
   ]
  },
  {
   "cell_type": "code",
   "execution_count": 1,
   "id": "86dab7d7-a395-4f0f-9d5d-3790f18bd602",
   "metadata": {
    "execution": {
     "iopub.execute_input": "2023-02-01T00:09:25.099784Z",
     "iopub.status.busy": "2023-02-01T00:09:25.099784Z",
     "iopub.status.idle": "2023-02-01T00:09:25.125793Z",
     "shell.execute_reply": "2023-02-01T00:09:25.125793Z",
     "shell.execute_reply.started": "2023-02-01T00:09:25.099784Z"
    }
   },
   "outputs": [],
   "source": [
    "from pybbn.graph.jointree import JoinTree\n",
    "from pybbn.pptc.inferencecontroller import InferenceController\n",
    "import json\n",
    "\n",
    "def get_jt():\n",
    "    with open('./_tmp/join-tree.json', 'r') as f:\n",
    "        j = f.read()\n",
    "        d = json.loads(j)\n",
    "        jt = JoinTree.from_dict(d)\n",
    "    return jt\n",
    "\n",
    "jt = get_jt()"
   ]
  },
  {
   "cell_type": "markdown",
   "id": "124b1195-76e0-42dd-afa0-9093a32a3e36",
   "metadata": {},
   "source": [
    "## Potentials"
   ]
  },
  {
   "cell_type": "code",
   "execution_count": 2,
   "id": "ed76ccaf-0d0c-4120-b361-94dc05dc7a35",
   "metadata": {
    "execution": {
     "iopub.execute_input": "2023-02-01T00:09:25.126808Z",
     "iopub.status.busy": "2023-02-01T00:09:25.126808Z",
     "iopub.status.idle": "2023-02-01T00:09:25.156841Z",
     "shell.execute_reply": "2023-02-01T00:09:25.156841Z",
     "shell.execute_reply.started": "2023-02-01T00:09:25.126808Z"
    }
   },
   "outputs": [],
   "source": [
    "from pybbn.pptc.potentialinitializer import PotentialInitializer\n",
    "\n",
    "PotentialInitializer.reinit(jt)"
   ]
  },
  {
   "cell_type": "code",
   "execution_count": 3,
   "id": "368f93c7-2115-437d-8b3d-74713d9d3360",
   "metadata": {
    "execution": {
     "iopub.execute_input": "2023-02-01T00:09:25.157843Z",
     "iopub.status.busy": "2023-02-01T00:09:25.157843Z",
     "iopub.status.idle": "2023-02-01T00:09:25.172770Z",
     "shell.execute_reply": "2023-02-01T00:09:25.172770Z",
     "shell.execute_reply.started": "2023-02-01T00:09:25.157843Z"
    },
    "tags": []
   },
   "outputs": [
    {
     "data": {
      "text/plain": [
       "{abdominal_pain: [],\n",
       " age: [],\n",
       " chest_pain: [],\n",
       " chills: [],\n",
       " cough: [],\n",
       " covid: [age,\n",
       "  chills,\n",
       "  cough,\n",
       "  fatigue,\n",
       "  headache,\n",
       "  chest_pain,\n",
       "  loss_appetite,\n",
       "  loss_taste,\n",
       "  fever,\n",
       "  wheezing,\n",
       "  loss_smell],\n",
       " diarrhea: [],\n",
       " difficulty_breathing: [],\n",
       " excess_sweating: [],\n",
       " fatigue: [],\n",
       " female: [],\n",
       " fever: [female, difficulty_breathing, sore_throat, runny_nose, muscle_aches],\n",
       " headache: [],\n",
       " loss_appetite: [female,\n",
       "  difficulty_breathing,\n",
       "  sore_throat,\n",
       "  runny_nose,\n",
       "  diarrhea,\n",
       "  muscle_aches],\n",
       " loss_smell: [female, excess_sweating],\n",
       " loss_taste: [],\n",
       " muscle_aches: [],\n",
       " runny_nose: [],\n",
       " sore_throat: [],\n",
       " wheezing: [difficulty_breathing,\n",
       "  runny_nose,\n",
       "  diarrhea,\n",
       "  muscle_aches,\n",
       "  abdominal_pain]}"
      ]
     },
     "execution_count": 3,
     "metadata": {},
     "output_type": "execute_result"
    }
   ],
   "source": [
    "T = {k: v for k, v in sorted([(k, v) for k, v in jt.get_bbn_node_and_parents().items()], key=lambda tup: tup[0].variable.name)}\n",
    "T"
   ]
  },
  {
   "cell_type": "code",
   "execution_count": 4,
   "id": "54409fd3-c8d7-46fa-abe7-b262e6a9d1fb",
   "metadata": {
    "execution": {
     "iopub.execute_input": "2023-02-01T00:09:25.173776Z",
     "iopub.status.busy": "2023-02-01T00:09:25.173776Z",
     "iopub.status.idle": "2023-02-01T00:09:25.188776Z",
     "shell.execute_reply": "2023-02-01T00:09:25.188776Z",
     "shell.execute_reply.started": "2023-02-01T00:09:25.173776Z"
    },
    "tags": []
   },
   "outputs": [],
   "source": [
    "# for n in T:\n",
    "#     print(n.variable.name)\n",
    "#     print(n.potential)\n",
    "#     print('-' * 15)"
   ]
  },
  {
   "cell_type": "markdown",
   "id": "2d9654db-5c9d-4679-884e-d356dfaa9d39",
   "metadata": {},
   "source": [
    "## Initialization"
   ]
  },
  {
   "cell_type": "code",
   "execution_count": 5,
   "id": "cc49dee3-1488-4e0c-a7ee-48c60c291bea",
   "metadata": {
    "execution": {
     "iopub.execute_input": "2023-02-01T00:09:25.189782Z",
     "iopub.status.busy": "2023-02-01T00:09:25.189782Z",
     "iopub.status.idle": "2023-02-01T00:09:32.502822Z",
     "shell.execute_reply": "2023-02-01T00:09:32.501819Z",
     "shell.execute_reply.started": "2023-02-01T00:09:25.189782Z"
    },
    "tags": []
   },
   "outputs": [
    {
     "data": {
      "text/plain": [
       "<pybbn.graph.jointree.JoinTree at 0x1da08a41d60>"
      ]
     },
     "execution_count": 5,
     "metadata": {},
     "output_type": "execute_result"
    }
   ],
   "source": [
    "from pybbn.pptc.initializer import Initializer\n",
    "\n",
    "Initializer.initialize(jt)"
   ]
  },
  {
   "cell_type": "code",
   "execution_count": 6,
   "id": "f3ae8826-4e2d-44f5-9eb6-9e3b994eaeb3",
   "metadata": {
    "execution": {
     "iopub.execute_input": "2023-02-01T00:09:32.502822Z",
     "iopub.status.busy": "2023-02-01T00:09:32.502822Z",
     "iopub.status.idle": "2023-02-01T00:09:32.517840Z",
     "shell.execute_reply": "2023-02-01T00:09:32.517840Z",
     "shell.execute_reply.started": "2023-02-01T00:09:32.502822Z"
    },
    "tags": []
   },
   "outputs": [
    {
     "data": {
      "text/plain": [
       "['0-1-18',\n",
       " '0-1-18-1-18-1-14-16-17-18',\n",
       " '1-14-16-17-18',\n",
       " '1-14-16-17-18-1-14-16-17-1-2-4-5-6-14-16-17',\n",
       " '1-2-3-4-5-6-14-16',\n",
       " '1-2-3-4-5-6-14-16-1-2-4-5-6-14-16-1-2-4-5-6-14-16-17',\n",
       " '1-2-4-5-6-14-16-17',\n",
       " '2-4-5-6-7-17',\n",
       " '2-4-5-6-7-17-2-4-5-6-17-1-2-4-5-6-14-16-17',\n",
       " '8-9-10-11-12-13-14-15-16-17-18-19',\n",
       " '8-9-10-11-12-13-14-15-16-17-18-19-14-16-17-18-1-14-16-17-18']"
      ]
     },
     "execution_count": 6,
     "metadata": {},
     "output_type": "execute_result"
    }
   ],
   "source": [
    "T = sorted(jt.potentials.keys())\n",
    "T"
   ]
  },
  {
   "cell_type": "code",
   "execution_count": null,
   "id": "983477da-c5bf-4330-a5a2-6f1b7e882570",
   "metadata": {},
   "outputs": [],
   "source": []
  },
  {
   "cell_type": "code",
   "execution_count": 7,
   "id": "b2def948-e388-4d4c-a796-d21f3c144b65",
   "metadata": {
    "execution": {
     "iopub.execute_input": "2023-02-01T00:09:32.518855Z",
     "iopub.status.busy": "2023-02-01T00:09:32.518855Z",
     "iopub.status.idle": "2023-02-01T00:09:32.533795Z",
     "shell.execute_reply": "2023-02-01T00:09:32.533795Z",
     "shell.execute_reply.started": "2023-02-01T00:09:32.518855Z"
    },
    "tags": []
   },
   "outputs": [
    {
     "name": "stdout",
     "output_type": "stream",
     "text": [
      "7 abdominal_pain (abdominal_pain,diarrhea,difficulty_breathing,muscle_aches,runny_nose,wheezing) <class 'pybbn.graph.node.Clique'> []\n",
      "8 age (age,chest_pain,chills,cough,covid,fatigue,fever,headache,loss_appetite,loss_smell,loss_taste,wheezing) <class 'pybbn.graph.node.Clique'> []\n",
      "13 chest_pain (age,chest_pain,chills,cough,covid,fatigue,fever,headache,loss_appetite,loss_smell,loss_taste,wheezing) <class 'pybbn.graph.node.Clique'> []\n",
      "9 chills (age,chest_pain,chills,cough,covid,fatigue,fever,headache,loss_appetite,loss_smell,loss_taste,wheezing) <class 'pybbn.graph.node.Clique'> []\n",
      "10 cough (age,chest_pain,chills,cough,covid,fatigue,fever,headache,loss_appetite,loss_smell,loss_taste,wheezing) <class 'pybbn.graph.node.Clique'> []\n",
      "19 covid (age,chest_pain,chills,cough,covid,fatigue,fever,headache,loss_appetite,loss_smell,loss_taste,wheezing) <class 'pybbn.graph.node.Clique'> [age, chills, cough, fatigue, headache, chest_pain, loss_appetite, loss_taste, fever, wheezing, loss_smell]\n",
      "5 diarrhea (diarrhea,difficulty_breathing,female,fever,loss_appetite,muscle_aches,runny_nose,sore_throat) <class 'pybbn.graph.node.Clique'> []\n",
      "4 difficulty_breathing (diarrhea,difficulty_breathing,female,fever,loss_appetite,muscle_aches,runny_nose,sore_throat) <class 'pybbn.graph.node.Clique'> []\n",
      "0 excess_sweating (excess_sweating,female,loss_smell) <class 'pybbn.graph.node.Clique'> []\n",
      "11 fatigue (age,chest_pain,chills,cough,covid,fatigue,fever,headache,loss_appetite,loss_smell,loss_taste,wheezing) <class 'pybbn.graph.node.Clique'> []\n",
      "1 female (excess_sweating,female,loss_smell) <class 'pybbn.graph.node.Clique'> []\n",
      "16 fever (diarrhea,difficulty_breathing,female,fever,loss_appetite,muscle_aches,runny_nose,sore_throat) <class 'pybbn.graph.node.Clique'> [female, difficulty_breathing, sore_throat, runny_nose, muscle_aches]\n",
      "12 headache (age,chest_pain,chills,cough,covid,fatigue,fever,headache,loss_appetite,loss_smell,loss_taste,wheezing) <class 'pybbn.graph.node.Clique'> []\n",
      "14 loss_appetite (diarrhea,difficulty_breathing,female,fever,loss_appetite,muscle_aches,runny_nose,sore_throat) <class 'pybbn.graph.node.Clique'> [female, difficulty_breathing, sore_throat, runny_nose, diarrhea, muscle_aches]\n",
      "18 loss_smell (excess_sweating,female,loss_smell) <class 'pybbn.graph.node.Clique'> [female, excess_sweating]\n",
      "15 loss_taste (age,chest_pain,chills,cough,covid,fatigue,fever,headache,loss_appetite,loss_smell,loss_taste,wheezing) <class 'pybbn.graph.node.Clique'> []\n",
      "6 muscle_aches (diarrhea,difficulty_breathing,female,fever,loss_appetite,muscle_aches,runny_nose,sore_throat) <class 'pybbn.graph.node.Clique'> []\n",
      "2 runny_nose (diarrhea,difficulty_breathing,female,fever,loss_appetite,muscle_aches,runny_nose,sore_throat) <class 'pybbn.graph.node.Clique'> []\n",
      "3 sore_throat (diarrhea,difficulty_breathing,female,fever,loss_appetite,muscle_aches,runny_nose,sore_throat) <class 'pybbn.graph.node.Clique'> []\n",
      "17 wheezing (abdominal_pain,diarrhea,difficulty_breathing,muscle_aches,runny_nose,wheezing) <class 'pybbn.graph.node.Clique'> [difficulty_breathing, runny_nose, diarrhea, muscle_aches, abdominal_pain]\n"
     ]
    }
   ],
   "source": [
    "for n in sorted([n for n in jt.get_bbn_nodes()], key=lambda n: n.variable.name):\n",
    "    print(n.id, n.variable.name, n.metadata['parent.clique'], type(n.metadata['parent.clique']), n.metadata['parents'])"
   ]
  },
  {
   "cell_type": "code",
   "execution_count": 8,
   "id": "c9976d46-185f-4a1d-a0b1-50998777ff0f",
   "metadata": {
    "execution": {
     "iopub.execute_input": "2023-02-01T00:09:32.534812Z",
     "iopub.status.busy": "2023-02-01T00:09:32.534812Z",
     "iopub.status.idle": "2023-02-01T00:09:32.549807Z",
     "shell.execute_reply": "2023-02-01T00:09:32.549807Z",
     "shell.execute_reply.started": "2023-02-01T00:09:32.534812Z"
    },
    "tags": []
   },
   "outputs": [
    {
     "name": "stdout",
     "output_type": "stream",
     "text": [
      "(abdominal_pain,diarrhea,difficulty_breathing,muscle_aches,runny_nose,wheezing)\n"
     ]
    }
   ],
   "source": [
    "for c in sorted(jt.find_cliques_with_node_and_parents(17), key=lambda x: x.id):\n",
    "    print(c)"
   ]
  },
  {
   "cell_type": "code",
   "execution_count": 9,
   "id": "8d483cdf-fe0b-48f7-9bb7-4512e5788f9b",
   "metadata": {
    "execution": {
     "iopub.execute_input": "2023-02-01T00:09:32.550809Z",
     "iopub.status.busy": "2023-02-01T00:09:32.550809Z",
     "iopub.status.idle": "2023-02-01T00:09:32.564556Z",
     "shell.execute_reply": "2023-02-01T00:09:32.564556Z",
     "shell.execute_reply.started": "2023-02-01T00:09:32.550809Z"
    },
    "tags": []
   },
   "outputs": [],
   "source": [
    "# for clique in jt.get_cliques():\n",
    "#     print(clique)"
   ]
  },
  {
   "cell_type": "code",
   "execution_count": 10,
   "id": "4fda8c06-19cd-46bf-8122-b7c05c27d709",
   "metadata": {
    "execution": {
     "iopub.execute_input": "2023-02-01T00:09:32.565561Z",
     "iopub.status.busy": "2023-02-01T00:09:32.565561Z",
     "iopub.status.idle": "2023-02-01T00:09:32.579805Z",
     "shell.execute_reply": "2023-02-01T00:09:32.579805Z",
     "shell.execute_reply.started": "2023-02-01T00:09:32.565561Z"
    },
    "tags": []
   },
   "outputs": [],
   "source": [
    "# for t in T:\n",
    "#     print(t)\n",
    "#     print(jt.potentials[t])\n",
    "#     print('-' * 15)"
   ]
  },
  {
   "cell_type": "code",
   "execution_count": null,
   "id": "a1060c31-2d63-4292-967e-471bafe14a59",
   "metadata": {},
   "outputs": [],
   "source": []
  }
 ],
 "metadata": {
  "kernelspec": {
   "display_name": "Python 3",
   "language": "python",
   "name": "python3"
  },
  "language_info": {
   "codemirror_mode": {
    "name": "ipython",
    "version": 3
   },
   "file_extension": ".py",
   "mimetype": "text/x-python",
   "name": "python",
   "nbconvert_exporter": "python",
   "pygments_lexer": "ipython3",
   "version": "3.8.5"
  },
  "widgets": {
   "application/vnd.jupyter.widget-state+json": {
    "state": {},
    "version_major": 2,
    "version_minor": 0
   }
  }
 },
 "nbformat": 4,
 "nbformat_minor": 5
}
