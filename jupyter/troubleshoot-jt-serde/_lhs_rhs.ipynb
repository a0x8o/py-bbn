{
 "cells": [
  {
   "cell_type": "code",
   "execution_count": 1,
   "id": "bf9a8708-f591-4237-a6be-12e484ed9cae",
   "metadata": {
    "execution": {
     "iopub.execute_input": "2023-02-01T00:17:20.377169Z",
     "iopub.status.busy": "2023-02-01T00:17:20.377169Z",
     "iopub.status.idle": "2023-02-01T00:17:28.003223Z",
     "shell.execute_reply": "2023-02-01T00:17:28.003223Z",
     "shell.execute_reply.started": "2023-02-01T00:17:20.377169Z"
    },
    "tags": []
   },
   "outputs": [],
   "source": [
    "from pybbn.graph.dag import Bbn\n",
    "from pybbn.pptc.inferencecontroller import InferenceController\n",
    "\n",
    "bbn = Bbn.from_json('./_tmp/covid-bbn.json')\n",
    "jt = InferenceController.apply(bbn)"
   ]
  },
  {
   "cell_type": "code",
   "execution_count": 2,
   "id": "d1861498-da6b-425d-bcc0-babcc447da33",
   "metadata": {
    "execution": {
     "iopub.execute_input": "2023-02-01T00:17:28.696499Z",
     "iopub.status.busy": "2023-02-01T00:17:28.696499Z",
     "iopub.status.idle": "2023-02-01T00:17:29.033493Z",
     "shell.execute_reply": "2023-02-01T00:17:29.033493Z",
     "shell.execute_reply.started": "2023-02-01T00:17:28.696499Z"
    },
    "tags": []
   },
   "outputs": [
    {
     "data": {
      "text/plain": [
       "no     0.4208\n",
       "yes    0.5792\n",
       "Name: female, dtype: float64"
      ]
     },
     "metadata": {},
     "output_type": "display_data"
    },
    {
     "name": "stdout",
     "output_type": "stream",
     "text": [
      "---------------\n"
     ]
    },
    {
     "data": {
      "text/plain": [
       "no     0.91972\n",
       "yes    0.08028\n",
       "Name: loss_smell, dtype: float64"
      ]
     },
     "metadata": {},
     "output_type": "display_data"
    },
    {
     "name": "stdout",
     "output_type": "stream",
     "text": [
      "---------------\n"
     ]
    },
    {
     "data": {
      "text/plain": [
       "no     0.9327\n",
       "yes    0.0673\n",
       "Name: excess_sweating, dtype: float64"
      ]
     },
     "metadata": {},
     "output_type": "display_data"
    },
    {
     "name": "stdout",
     "output_type": "stream",
     "text": [
      "---------------\n"
     ]
    },
    {
     "data": {
      "text/plain": [
       "no     0.4164\n",
       "yes    0.5836\n",
       "Name: runny_nose, dtype: float64"
      ]
     },
     "metadata": {},
     "output_type": "display_data"
    },
    {
     "name": "stdout",
     "output_type": "stream",
     "text": [
      "---------------\n"
     ]
    },
    {
     "data": {
      "text/plain": [
       "no     0.7852\n",
       "yes    0.2148\n",
       "Name: difficulty_breathing, dtype: float64"
      ]
     },
     "metadata": {},
     "output_type": "display_data"
    },
    {
     "name": "stdout",
     "output_type": "stream",
     "text": [
      "---------------\n"
     ]
    },
    {
     "data": {
      "text/plain": [
       "no     0.7245\n",
       "yes    0.2755\n",
       "Name: diarrhea, dtype: float64"
      ]
     },
     "metadata": {},
     "output_type": "display_data"
    },
    {
     "name": "stdout",
     "output_type": "stream",
     "text": [
      "---------------\n"
     ]
    },
    {
     "data": {
      "text/plain": [
       "no     0.6464\n",
       "yes    0.3536\n",
       "Name: muscle_aches, dtype: float64"
      ]
     },
     "metadata": {},
     "output_type": "display_data"
    },
    {
     "name": "stdout",
     "output_type": "stream",
     "text": [
      "---------------\n"
     ]
    },
    {
     "data": {
      "text/plain": [
       "no     0.774382\n",
       "yes    0.225618\n",
       "Name: wheezing, dtype: float64"
      ]
     },
     "metadata": {},
     "output_type": "display_data"
    },
    {
     "name": "stdout",
     "output_type": "stream",
     "text": [
      "---------------\n"
     ]
    },
    {
     "data": {
      "text/plain": [
       "no     0.859\n",
       "yes    0.141\n",
       "Name: abdominal_pain, dtype: float64"
      ]
     },
     "metadata": {},
     "output_type": "display_data"
    },
    {
     "name": "stdout",
     "output_type": "stream",
     "text": [
      "---------------\n"
     ]
    },
    {
     "data": {
      "text/plain": [
       "no     0.8026\n",
       "yes    0.1974\n",
       "Name: chills, dtype: float64"
      ]
     },
     "metadata": {},
     "output_type": "display_data"
    },
    {
     "name": "stdout",
     "output_type": "stream",
     "text": [
      "---------------\n"
     ]
    },
    {
     "data": {
      "text/plain": [
       "no     0.425\n",
       "yes    0.575\n",
       "Name: cough, dtype: float64"
      ]
     },
     "metadata": {},
     "output_type": "display_data"
    },
    {
     "name": "stdout",
     "output_type": "stream",
     "text": [
      "---------------\n"
     ]
    },
    {
     "data": {
      "text/plain": [
       "no     0.6182\n",
       "yes    0.3818\n",
       "Name: fatigue, dtype: float64"
      ]
     },
     "metadata": {},
     "output_type": "display_data"
    },
    {
     "name": "stdout",
     "output_type": "stream",
     "text": [
      "---------------\n"
     ]
    },
    {
     "data": {
      "text/plain": [
       "no     0.553\n",
       "yes    0.447\n",
       "Name: headache, dtype: float64"
      ]
     },
     "metadata": {},
     "output_type": "display_data"
    },
    {
     "name": "stdout",
     "output_type": "stream",
     "text": [
      "---------------\n"
     ]
    },
    {
     "data": {
      "text/plain": [
       "no     0.8112\n",
       "yes    0.1888\n",
       "Name: chest_pain, dtype: float64"
      ]
     },
     "metadata": {},
     "output_type": "display_data"
    },
    {
     "name": "stdout",
     "output_type": "stream",
     "text": [
      "---------------\n"
     ]
    },
    {
     "data": {
      "text/plain": [
       "no     0.767876\n",
       "yes    0.232124\n",
       "Name: loss_appetite, dtype: float64"
      ]
     },
     "metadata": {},
     "output_type": "display_data"
    },
    {
     "name": "stdout",
     "output_type": "stream",
     "text": [
      "---------------\n"
     ]
    },
    {
     "data": {
      "text/plain": [
       "no     0.804\n",
       "yes    0.196\n",
       "Name: loss_taste, dtype: float64"
      ]
     },
     "metadata": {},
     "output_type": "display_data"
    },
    {
     "name": "stdout",
     "output_type": "stream",
     "text": [
      "---------------\n"
     ]
    },
    {
     "data": {
      "text/plain": [
       "no     0.376436\n",
       "yes    0.623564\n",
       "Name: fever, dtype: float64"
      ]
     },
     "metadata": {},
     "output_type": "display_data"
    },
    {
     "name": "stdout",
     "output_type": "stream",
     "text": [
      "---------------\n"
     ]
    },
    {
     "data": {
      "text/plain": [
       "no     0.680155\n",
       "yes    0.319845\n",
       "Name: covid, dtype: float64"
      ]
     },
     "metadata": {},
     "output_type": "display_data"
    },
    {
     "name": "stdout",
     "output_type": "stream",
     "text": [
      "---------------\n"
     ]
    },
    {
     "data": {
      "text/plain": [
       "no     0.3709\n",
       "yes    0.6291\n",
       "Name: age, dtype: float64"
      ]
     },
     "metadata": {},
     "output_type": "display_data"
    },
    {
     "name": "stdout",
     "output_type": "stream",
     "text": [
      "---------------\n"
     ]
    },
    {
     "data": {
      "text/plain": [
       "no     0.61821\n",
       "yes    0.38179\n",
       "Name: sore_throat, dtype: float64"
      ]
     },
     "metadata": {},
     "output_type": "display_data"
    },
    {
     "name": "stdout",
     "output_type": "stream",
     "text": [
      "---------------\n"
     ]
    }
   ],
   "source": [
    "import pandas as pd\n",
    "\n",
    "posteriors = [pd.Series(v, name=k) for k, v in jt.get_posteriors().items()]\n",
    "for p in posteriors:\n",
    "    display(p)\n",
    "    print('-' * 15)"
   ]
  },
  {
   "cell_type": "code",
   "execution_count": 3,
   "id": "691ebbfa-c16e-47fb-8a8e-471773f90f98",
   "metadata": {
    "execution": {
     "iopub.execute_input": "2023-02-01T00:17:30.010247Z",
     "iopub.status.busy": "2023-02-01T00:17:30.010247Z",
     "iopub.status.idle": "2023-02-01T00:17:30.023245Z",
     "shell.execute_reply": "2023-02-01T00:17:30.023245Z",
     "shell.execute_reply.started": "2023-02-01T00:17:30.010247Z"
    },
    "tags": []
   },
   "outputs": [],
   "source": [
    "from pybbn.graph.jointree import JoinTree\n",
    "import json\n",
    "\n",
    "with open('join-tree.json', 'w') as f:\n",
    "    d = JoinTree.to_dict(jt, bbn)\n",
    "    j = json.dumps(d, sort_keys=True, indent=2)\n",
    "    f.write(j)"
   ]
  },
  {
   "cell_type": "code",
   "execution_count": 4,
   "id": "0f43c7f3-591b-45c0-8ae8-33d705db4fc5",
   "metadata": {
    "execution": {
     "iopub.execute_input": "2023-02-01T00:17:30.987814Z",
     "iopub.status.busy": "2023-02-01T00:17:30.987814Z",
     "iopub.status.idle": "2023-02-01T00:17:38.374836Z",
     "shell.execute_reply": "2023-02-01T00:17:38.374836Z",
     "shell.execute_reply.started": "2023-02-01T00:17:30.987814Z"
    },
    "tags": []
   },
   "outputs": [],
   "source": [
    "with open('join-tree.json', 'r') as f:\n",
    "    j = f.read()\n",
    "    d = json.loads(j)\n",
    "    jt1 = JoinTree.from_dict(d)\n",
    "    jt1 = InferenceController.apply_from_serde(jt1)"
   ]
  },
  {
   "cell_type": "code",
   "execution_count": 5,
   "id": "c3ebbf26-11cd-4f54-b8da-78561692cc31",
   "metadata": {
    "execution": {
     "iopub.execute_input": "2023-02-01T00:17:41.426122Z",
     "iopub.status.busy": "2023-02-01T00:17:41.426122Z",
     "iopub.status.idle": "2023-02-01T00:17:41.496124Z",
     "shell.execute_reply": "2023-02-01T00:17:41.496124Z",
     "shell.execute_reply.started": "2023-02-01T00:17:41.426122Z"
    },
    "tags": []
   },
   "outputs": [
    {
     "data": {
      "text/html": [
       "<div>\n",
       "<style scoped>\n",
       "    .dataframe tbody tr th:only-of-type {\n",
       "        vertical-align: middle;\n",
       "    }\n",
       "\n",
       "    .dataframe tbody tr th {\n",
       "        vertical-align: top;\n",
       "    }\n",
       "\n",
       "    .dataframe thead th {\n",
       "        text-align: right;\n",
       "    }\n",
       "</style>\n",
       "<table border=\"1\" class=\"dataframe\">\n",
       "  <thead>\n",
       "    <tr style=\"text-align: right;\">\n",
       "      <th></th>\n",
       "      <th>_no</th>\n",
       "      <th>no_</th>\n",
       "      <th>no</th>\n",
       "      <th>_yes</th>\n",
       "      <th>yes_</th>\n",
       "      <th>yes</th>\n",
       "    </tr>\n",
       "    <tr>\n",
       "      <th>name</th>\n",
       "      <th></th>\n",
       "      <th></th>\n",
       "      <th></th>\n",
       "      <th></th>\n",
       "      <th></th>\n",
       "      <th></th>\n",
       "    </tr>\n",
       "  </thead>\n",
       "  <tbody>\n",
       "    <tr>\n",
       "      <th>female</th>\n",
       "      <td>0.420800</td>\n",
       "      <td>0.420800</td>\n",
       "      <td>True</td>\n",
       "      <td>0.579200</td>\n",
       "      <td>0.579200</td>\n",
       "      <td>True</td>\n",
       "    </tr>\n",
       "    <tr>\n",
       "      <th>loss_smell</th>\n",
       "      <td>0.919720</td>\n",
       "      <td>0.919720</td>\n",
       "      <td>True</td>\n",
       "      <td>0.080280</td>\n",
       "      <td>0.080280</td>\n",
       "      <td>True</td>\n",
       "    </tr>\n",
       "    <tr>\n",
       "      <th>excess_sweating</th>\n",
       "      <td>0.932700</td>\n",
       "      <td>0.932700</td>\n",
       "      <td>True</td>\n",
       "      <td>0.067300</td>\n",
       "      <td>0.067300</td>\n",
       "      <td>True</td>\n",
       "    </tr>\n",
       "    <tr>\n",
       "      <th>runny_nose</th>\n",
       "      <td>0.416400</td>\n",
       "      <td>0.416400</td>\n",
       "      <td>True</td>\n",
       "      <td>0.583600</td>\n",
       "      <td>0.583600</td>\n",
       "      <td>True</td>\n",
       "    </tr>\n",
       "    <tr>\n",
       "      <th>difficulty_breathing</th>\n",
       "      <td>0.785200</td>\n",
       "      <td>0.785200</td>\n",
       "      <td>True</td>\n",
       "      <td>0.214800</td>\n",
       "      <td>0.214800</td>\n",
       "      <td>True</td>\n",
       "    </tr>\n",
       "    <tr>\n",
       "      <th>diarrhea</th>\n",
       "      <td>0.724500</td>\n",
       "      <td>0.724500</td>\n",
       "      <td>True</td>\n",
       "      <td>0.275500</td>\n",
       "      <td>0.275500</td>\n",
       "      <td>True</td>\n",
       "    </tr>\n",
       "    <tr>\n",
       "      <th>muscle_aches</th>\n",
       "      <td>0.646400</td>\n",
       "      <td>0.646400</td>\n",
       "      <td>True</td>\n",
       "      <td>0.353600</td>\n",
       "      <td>0.353600</td>\n",
       "      <td>True</td>\n",
       "    </tr>\n",
       "    <tr>\n",
       "      <th>wheezing</th>\n",
       "      <td>0.774382</td>\n",
       "      <td>0.774382</td>\n",
       "      <td>True</td>\n",
       "      <td>0.225618</td>\n",
       "      <td>0.225618</td>\n",
       "      <td>True</td>\n",
       "    </tr>\n",
       "    <tr>\n",
       "      <th>abdominal_pain</th>\n",
       "      <td>0.859000</td>\n",
       "      <td>0.859000</td>\n",
       "      <td>True</td>\n",
       "      <td>0.141000</td>\n",
       "      <td>0.141000</td>\n",
       "      <td>True</td>\n",
       "    </tr>\n",
       "    <tr>\n",
       "      <th>chills</th>\n",
       "      <td>0.802600</td>\n",
       "      <td>0.802600</td>\n",
       "      <td>True</td>\n",
       "      <td>0.197400</td>\n",
       "      <td>0.197400</td>\n",
       "      <td>True</td>\n",
       "    </tr>\n",
       "    <tr>\n",
       "      <th>cough</th>\n",
       "      <td>0.425000</td>\n",
       "      <td>0.425000</td>\n",
       "      <td>True</td>\n",
       "      <td>0.575000</td>\n",
       "      <td>0.575000</td>\n",
       "      <td>True</td>\n",
       "    </tr>\n",
       "    <tr>\n",
       "      <th>fatigue</th>\n",
       "      <td>0.618200</td>\n",
       "      <td>0.618200</td>\n",
       "      <td>True</td>\n",
       "      <td>0.381800</td>\n",
       "      <td>0.381800</td>\n",
       "      <td>True</td>\n",
       "    </tr>\n",
       "    <tr>\n",
       "      <th>headache</th>\n",
       "      <td>0.553000</td>\n",
       "      <td>0.553000</td>\n",
       "      <td>True</td>\n",
       "      <td>0.447000</td>\n",
       "      <td>0.447000</td>\n",
       "      <td>True</td>\n",
       "    </tr>\n",
       "    <tr>\n",
       "      <th>chest_pain</th>\n",
       "      <td>0.811200</td>\n",
       "      <td>0.811200</td>\n",
       "      <td>True</td>\n",
       "      <td>0.188800</td>\n",
       "      <td>0.188800</td>\n",
       "      <td>True</td>\n",
       "    </tr>\n",
       "    <tr>\n",
       "      <th>loss_appetite</th>\n",
       "      <td>0.767876</td>\n",
       "      <td>0.767876</td>\n",
       "      <td>True</td>\n",
       "      <td>0.232124</td>\n",
       "      <td>0.232124</td>\n",
       "      <td>True</td>\n",
       "    </tr>\n",
       "    <tr>\n",
       "      <th>loss_taste</th>\n",
       "      <td>0.804000</td>\n",
       "      <td>0.804000</td>\n",
       "      <td>True</td>\n",
       "      <td>0.196000</td>\n",
       "      <td>0.196000</td>\n",
       "      <td>True</td>\n",
       "    </tr>\n",
       "    <tr>\n",
       "      <th>fever</th>\n",
       "      <td>0.376436</td>\n",
       "      <td>0.376436</td>\n",
       "      <td>True</td>\n",
       "      <td>0.623564</td>\n",
       "      <td>0.623564</td>\n",
       "      <td>True</td>\n",
       "    </tr>\n",
       "    <tr>\n",
       "      <th>covid</th>\n",
       "      <td>0.680155</td>\n",
       "      <td>0.680155</td>\n",
       "      <td>True</td>\n",
       "      <td>0.319845</td>\n",
       "      <td>0.319845</td>\n",
       "      <td>True</td>\n",
       "    </tr>\n",
       "    <tr>\n",
       "      <th>age</th>\n",
       "      <td>0.370900</td>\n",
       "      <td>0.370900</td>\n",
       "      <td>True</td>\n",
       "      <td>0.629100</td>\n",
       "      <td>0.629100</td>\n",
       "      <td>True</td>\n",
       "    </tr>\n",
       "    <tr>\n",
       "      <th>sore_throat</th>\n",
       "      <td>0.618210</td>\n",
       "      <td>0.618210</td>\n",
       "      <td>True</td>\n",
       "      <td>0.381790</td>\n",
       "      <td>0.381790</td>\n",
       "      <td>True</td>\n",
       "    </tr>\n",
       "  </tbody>\n",
       "</table>\n",
       "</div>"
      ],
      "text/plain": [
       "                           _no       no_    no      _yes      yes_   yes\n",
       "name                                                                    \n",
       "female                0.420800  0.420800  True  0.579200  0.579200  True\n",
       "loss_smell            0.919720  0.919720  True  0.080280  0.080280  True\n",
       "excess_sweating       0.932700  0.932700  True  0.067300  0.067300  True\n",
       "runny_nose            0.416400  0.416400  True  0.583600  0.583600  True\n",
       "difficulty_breathing  0.785200  0.785200  True  0.214800  0.214800  True\n",
       "diarrhea              0.724500  0.724500  True  0.275500  0.275500  True\n",
       "muscle_aches          0.646400  0.646400  True  0.353600  0.353600  True\n",
       "wheezing              0.774382  0.774382  True  0.225618  0.225618  True\n",
       "abdominal_pain        0.859000  0.859000  True  0.141000  0.141000  True\n",
       "chills                0.802600  0.802600  True  0.197400  0.197400  True\n",
       "cough                 0.425000  0.425000  True  0.575000  0.575000  True\n",
       "fatigue               0.618200  0.618200  True  0.381800  0.381800  True\n",
       "headache              0.553000  0.553000  True  0.447000  0.447000  True\n",
       "chest_pain            0.811200  0.811200  True  0.188800  0.188800  True\n",
       "loss_appetite         0.767876  0.767876  True  0.232124  0.232124  True\n",
       "loss_taste            0.804000  0.804000  True  0.196000  0.196000  True\n",
       "fever                 0.376436  0.376436  True  0.623564  0.623564  True\n",
       "covid                 0.680155  0.680155  True  0.319845  0.319845  True\n",
       "age                   0.370900  0.370900  True  0.629100  0.629100  True\n",
       "sore_throat           0.618210  0.618210  True  0.381790  0.381790  True"
      ]
     },
     "execution_count": 5,
     "metadata": {},
     "output_type": "execute_result"
    }
   ],
   "source": [
    "import numpy as np\n",
    "\n",
    "pd.DataFrame([{**{'name': k}, **v} for k, v in jt.get_posteriors().items()]) \\\n",
    "    .rename(columns={'no': '_no', 'yes': '_yes'}) \\\n",
    "    .set_index(['name']) \\\n",
    "    .join(pd.DataFrame([{**{'name': k}, **v} for k, v in jt1.get_posteriors().items()]) \\\n",
    "    .rename(columns={'no': 'no_', 'yes': 'yes_'}) \\\n",
    "    .set_index(['name'])) \\\n",
    "    .assign(\n",
    "        no=lambda d: np.abs(d['_no'] - d['no_']) < 1e-6,\n",
    "        yes=lambda d: np.abs(d['_yes'] - d['yes_']) < 1e-6\n",
    "    ) \\\n",
    "    [['_no', 'no_', 'no', '_yes', 'yes_', 'yes']]"
   ]
  },
  {
   "cell_type": "code",
   "execution_count": null,
   "id": "e671fc44-18ad-46f1-9af6-fabc708709cc",
   "metadata": {},
   "outputs": [],
   "source": []
  }
 ],
 "metadata": {
  "kernelspec": {
   "display_name": "Python 3",
   "language": "python",
   "name": "python3"
  },
  "language_info": {
   "codemirror_mode": {
    "name": "ipython",
    "version": 3
   },
   "file_extension": ".py",
   "mimetype": "text/x-python",
   "name": "python",
   "nbconvert_exporter": "python",
   "pygments_lexer": "ipython3",
   "version": "3.8.5"
  },
  "widgets": {
   "application/vnd.jupyter.widget-state+json": {
    "state": {},
    "version_major": 2,
    "version_minor": 0
   }
  }
 },
 "nbformat": 4,
 "nbformat_minor": 5
}
