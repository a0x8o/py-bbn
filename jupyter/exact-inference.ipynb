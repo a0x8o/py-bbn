{
 "cells": [
  {
   "cell_type": "markdown",
   "metadata": {},
   "source": [
    "# Purpose: demonstrate exact inference\n",
    "\n",
    "This is a dummy Bayesian belief network (BBN) to demonstrate exact inference. We need to first specify the BBN; define the structure, which is a directed acyclic graph (DAG), and the parameters, which are local probability models represented by conditional probability tables (CPTs)."
   ]
  },
  {
   "cell_type": "code",
   "execution_count": 1,
   "metadata": {
    "ExecuteTime": {
     "end_time": "2018-11-20T06:40:34.727322Z",
     "start_time": "2018-11-20T06:40:34.068154Z"
    }
   },
   "outputs": [],
   "source": [
    "from pybbn.graph.dag import Bbn\n",
    "from pybbn.graph.edge import Edge, EdgeType\n",
    "from pybbn.graph.jointree import EvidenceBuilder\n",
    "from pybbn.graph.node import BbnNode\n",
    "from pybbn.graph.variable import Variable\n",
    "from pybbn.pptc.inferencecontroller import InferenceController\n",
    "\n",
    "# create the nodes\n",
    "a = BbnNode(Variable(0, 'a', ['on', 'off']), [0.5, 0.5])\n",
    "b = BbnNode(Variable(1, 'b', ['on', 'off']), [0.5, 0.5, 0.4, 0.6])\n",
    "c = BbnNode(Variable(2, 'c', ['on', 'off']), [0.7, 0.3, 0.2, 0.8])\n",
    "d = BbnNode(Variable(3, 'd', ['on', 'off']), [0.9, 0.1, 0.5, 0.5])\n",
    "e = BbnNode(Variable(4, 'e', ['on', 'off']), [0.3, 0.7, 0.6, 0.4])\n",
    "f = BbnNode(Variable(5, 'f', ['on', 'off']), [0.01, 0.99, 0.01, 0.99, 0.01, 0.99, 0.99, 0.01])\n",
    "g = BbnNode(Variable(6, 'g', ['on', 'off']), [0.8, 0.2, 0.1, 0.9])\n",
    "h = BbnNode(Variable(7, 'h', ['on', 'off']), [0.05, 0.95, 0.95, 0.05, 0.95, 0.05, 0.95, 0.05])\n",
    "\n",
    "# create the network structure\n",
    "bbn = Bbn() \\\n",
    "    .add_node(a) \\\n",
    "    .add_node(b) \\\n",
    "    .add_node(c) \\\n",
    "    .add_node(d) \\\n",
    "    .add_node(e) \\\n",
    "    .add_node(f) \\\n",
    "    .add_node(g) \\\n",
    "    .add_node(h) \\\n",
    "    .add_edge(Edge(a, b, EdgeType.DIRECTED)) \\\n",
    "    .add_edge(Edge(a, c, EdgeType.DIRECTED)) \\\n",
    "    .add_edge(Edge(b, d, EdgeType.DIRECTED)) \\\n",
    "    .add_edge(Edge(c, e, EdgeType.DIRECTED)) \\\n",
    "    .add_edge(Edge(d, f, EdgeType.DIRECTED)) \\\n",
    "    .add_edge(Edge(e, f, EdgeType.DIRECTED)) \\\n",
    "    .add_edge(Edge(c, g, EdgeType.DIRECTED)) \\\n",
    "    .add_edge(Edge(e, h, EdgeType.DIRECTED)) \\\n",
    "    .add_edge(Edge(g, h, EdgeType.DIRECTED))"
   ]
  },
  {
   "cell_type": "markdown",
   "metadata": {},
   "source": [
    "# Visualize the structure"
   ]
  },
  {
   "cell_type": "code",
   "execution_count": 2,
   "metadata": {
    "ExecuteTime": {
     "end_time": "2018-11-20T06:40:35.365005Z",
     "start_time": "2018-11-20T06:40:34.732159Z"
    }
   },
   "outputs": [
    {
     "data": {
      "text/plain": [
       "Text(0.5, 1.0, 'BBN DAG')"
      ]
     },
     "execution_count": 2,
     "metadata": {},
     "output_type": "execute_result"
    },
    {
     "data": {
      "image/png": "[encoded data removed]",
      "text/plain": [
       "<Figure size 720x360 with 1 Axes>"
      ]
     },
     "metadata": {},
     "output_type": "display_data"
    }
   ],
   "source": [
    "%matplotlib inline\n",
    "from pybbn.generator.bbngenerator import convert_for_drawing\n",
    "import matplotlib.pyplot as plt\n",
    "import networkx as nx\n",
    "\n",
    "graph = convert_for_drawing(bbn)\n",
    "pos = nx.nx_agraph.graphviz_layout(graph, prog='neato')\n",
    "\n",
    "plt.figure(figsize=(10, 5))\n",
    "plt.subplot(121) \n",
    "labels = dict([(k, node.variable.name) for k, node in bbn.nodes.items()])\n",
    "nx.draw(graph, pos=pos, with_labels=True, labels=labels)\n",
    "plt.title('BBN DAG')"
   ]
  },
  {
   "cell_type": "markdown",
   "metadata": {},
   "source": [
    "# Perform exact inference with observation"
   ]
  },
  {
   "cell_type": "code",
   "execution_count": 3,
   "metadata": {
    "ExecuteTime": {
     "end_time": "2018-11-20T06:40:35.390484Z",
     "start_time": "2018-11-20T06:40:35.369944Z"
    }
   },
   "outputs": [
    {
     "name": "stdout",
     "output_type": "stream",
     "text": [
      "3|d|on,off\n",
      "3=on|0.7\n",
      "3=off|0.3\n",
      ">\n",
      "4|e|on,off\n",
      "4=on|0.39\n",
      "4=off|0.61\n",
      ">\n",
      "5|f|on,off\n",
      "5=on|0.18934\n",
      "5=off|0.81066\n",
      ">\n",
      "6|g|on,off\n",
      "6=on|0.59\n",
      "6=off|0.41\n",
      ">\n",
      "7|h|on,off\n",
      "7=on|0.7826\n",
      "7=off|0.2174\n",
      ">\n",
      "2|c|on,off\n",
      "2=on|0.7\n",
      "2=off|0.3\n",
      ">\n",
      "1|b|on,off\n",
      "1=on|0.5\n",
      "1=off|0.5\n",
      ">\n",
      "0|a|on,off\n",
      "0=on|1.0\n",
      "0=off|0.0\n",
      ">\n"
     ]
    }
   ],
   "source": [
    " # convert the BBN to a join tree\n",
    "join_tree = InferenceController.apply(bbn)\n",
    "\n",
    "# insert an observation evidence\n",
    "ev = EvidenceBuilder() \\\n",
    "    .with_node(join_tree.get_bbn_node_by_name('a')) \\\n",
    "    .with_evidence('on', 1.0) \\\n",
    "    .build()\n",
    "join_tree.set_observation(ev)\n",
    "\n",
    "# print the marginal probabilities\n",
    "for node in join_tree.get_bbn_nodes():\n",
    "    potential = join_tree.get_bbn_potential(node)\n",
    "    print(node)\n",
    "    print(potential)\n",
    "    print('>')"
   ]
  },
  {
   "cell_type": "code",
   "execution_count": null,
   "metadata": {},
   "outputs": [],
   "source": []
  }
 ],
 "metadata": {
  "kernelspec": {
   "display_name": "Python 3",
   "language": "python",
   "name": "python3"
  },
  "language_info": {
   "codemirror_mode": {
    "name": "ipython",
    "version": 3
   },
   "file_extension": ".py",
   "mimetype": "text/x-python",
   "name": "python",
   "nbconvert_exporter": "python",
   "pygments_lexer": "ipython3",
   "version": "3.7.3"
  },
  "toc": {
   "nav_menu": {},
   "number_sections": true,
   "sideBar": true,
   "skip_h1_title": false,
   "title_cell": "Table of Contents",
   "title_sidebar": "Contents",
   "toc_cell": false,
   "toc_position": {},
   "toc_section_display": true,
   "toc_window_display": false
  },
  "varInspector": {
   "cols": {
    "lenName": 16,
    "lenType": 16,
    "lenVar": 40
   },
   "kernels_config": {
    "python": {
     "delete_cmd_postfix": "",
     "delete_cmd_prefix": "del ",
     "library": "var_list.py",
     "varRefreshCmd": "print(var_dic_list())"
    },
    "r": {
     "delete_cmd_postfix": ") ",
     "delete_cmd_prefix": "rm(",
     "library": "var_list.r",
     "varRefreshCmd": "cat(var_dic_list()) "
    }
   },
   "types_to_exclude": [
    "module",
    "function",
    "builtin_function_or_method",
    "instance",
    "_Feature"
   ],
   "window_display": false
  }
 },
 "nbformat": 4,
 "nbformat_minor": 2
}
