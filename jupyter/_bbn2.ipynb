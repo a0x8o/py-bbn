{
 "cells": [
  {
   "cell_type": "markdown",
   "metadata": {
    "collapsed": false
   },
   "source": [
    "# Simple Test, Ordering"
   ]
  },
  {
   "cell_type": "code",
   "execution_count": 1,
   "metadata": {
    "ExecuteTime": {
     "end_time": "2023-06-09T20:23:51.153478Z",
     "start_time": "2023-06-09T20:23:51.066094Z"
    },
    "collapsed": false
   },
   "outputs": [],
   "source": [
    "from pybbn.graph.dag import Bbn\n",
    "from pybbn.graph.edge import Edge, EdgeType\n",
    "from pybbn.graph.node import BbnNode\n",
    "from pybbn.graph.variable import Variable\n",
    "\n",
    "def get_bbn():\n",
    "    a = BbnNode(Variable(0, 'a', ['on', 'off']), [0.2, 0.8])\n",
    "    b = BbnNode(Variable(1, 'b', ['on', 'off']), [0.8, 0.2])\n",
    "    c = BbnNode(Variable(2, 'c', ['on', 'off']), [0.7, 0.3, 0.2, 0.8, 0.6, 0.4, 0.6, 0.4])\n",
    "\n",
    "    bbn = Bbn() \\\n",
    "        .add_node(a) \\\n",
    "        .add_node(b) \\\n",
    "        .add_node(c) \\\n",
    "        .add_edge(Edge(b, c, EdgeType.DIRECTED)) \\\n",
    "        .add_edge(Edge(a, c, EdgeType.DIRECTED))\n",
    "\n",
    "    return bbn"
   ]
  },
  {
   "cell_type": "code",
   "execution_count": 2,
   "metadata": {
    "ExecuteTime": {
     "end_time": "2023-06-09T20:23:51.157235Z",
     "start_time": "2023-06-09T20:23:51.153933Z"
    },
    "collapsed": false
   },
   "outputs": [],
   "source": [
    "bbn = get_bbn()\n"
   ]
  },
  {
   "cell_type": "code",
   "execution_count": 3,
   "metadata": {
    "ExecuteTime": {
     "end_time": "2023-06-09T20:23:51.161158Z",
     "start_time": "2023-06-09T20:23:51.155954Z"
    },
    "collapsed": false
   },
   "outputs": [],
   "source": [
    "from pybbn.pptc.potentialinitializer import PotentialInitializer\n",
    "\n",
    "PotentialInitializer.init(bbn)"
   ]
  },
  {
   "cell_type": "code",
   "execution_count": 3,
   "metadata": {
    "ExecuteTime": {
     "end_time": "2023-06-09T20:23:51.163923Z",
     "start_time": "2023-06-09T20:23:51.160775Z"
    },
    "collapsed": false
   },
   "outputs": [],
   "source": []
  }
 ],
 "metadata": {
  "kernelspec": {
   "display_name": "Python 3",
   "language": "python",
   "name": "python3"
  },
  "language_info": {
   "codemirror_mode": {
    "name": "ipython",
    "version": 2
   },
   "file_extension": ".py",
   "mimetype": "text/x-python",
   "name": "python",
   "nbconvert_exporter": "python",
   "pygments_lexer": "ipython2",
   "version": "2.7.6"
  }
 },
 "nbformat": 4,
 "nbformat_minor": 0
}
