{
 "cells": [
  {
   "cell_type": "markdown",
   "metadata": {},
   "source": [
    "# Showing some additional features\n",
    "\n",
    "# Serialization-deserialization (serde) a BBN\n",
    "\n",
    "Let's serialize (save) a BBN and deserialize it for later use. The BBN is a simple two node network $a \\rightarrow b$."
   ]
  },
  {
   "cell_type": "markdown",
   "metadata": {},
   "source": [
    "## Serializing"
   ]
  },
  {
   "cell_type": "code",
   "execution_count": 1,
   "metadata": {},
   "outputs": [
    {
     "name": "stdout",
     "output_type": "stream",
     "text": [
      "0|a|t,f\n",
      "1|b|t,f\n",
      "0->1\n"
     ]
    }
   ],
   "source": [
    "import json\n",
    "\n",
    "from pybbn.graph.variable import Variable\n",
    "from pybbn.graph.node import BbnNode\n",
    "from pybbn.graph.edge import Edge, EdgeType\n",
    "from pybbn.graph.dag import Bbn\n",
    "\n",
    "a = BbnNode(Variable(0, 'a', ['t', 'f']), [0.2, 0.8])\n",
    "b = BbnNode(Variable(1, 'b', ['t', 'f']), [0.1, 0.9, 0.9, 0.1])\n",
    "bbn = Bbn().add_node(a).add_node(b) \\\n",
    "    .add_edge(Edge(a, b, EdgeType.DIRECTED))\n",
    "\n",
    "# serialize to JSON file\n",
    "s = json.dumps(Bbn.to_dict(bbn))\n",
    "with open('simple-bbn.json', 'w') as f:\n",
    "    f.write(s)\n",
    "    \n",
    "print(bbn)"
   ]
  },
  {
   "cell_type": "markdown",
   "metadata": {},
   "source": [
    "## Deserializing"
   ]
  },
  {
   "cell_type": "code",
   "execution_count": 2,
   "metadata": {},
   "outputs": [
    {
     "name": "stdout",
     "output_type": "stream",
     "text": [
      "0|a|t,f\n",
      "1|b|t,f\n",
      "0->1\n"
     ]
    }
   ],
   "source": [
    "# deserialize from JSON file\n",
    "with open('simple-bbn.json', 'r') as f:\n",
    "    d = json.loads(f.read())\n",
    "    bbn = Bbn.from_dict(d)\n",
    "    \n",
    "print(bbn)"
   ]
  },
  {
   "cell_type": "markdown",
   "metadata": {},
   "source": [
    "# Serde a join tree"
   ]
  },
  {
   "cell_type": "markdown",
   "metadata": {},
   "source": [
    "## Serializing"
   ]
  },
  {
   "cell_type": "code",
   "execution_count": 3,
   "metadata": {},
   "outputs": [
    {
     "name": "stdout",
     "output_type": "stream",
     "text": [
      "(a,b)\n",
      "\n"
     ]
    }
   ],
   "source": [
    "from pybbn.pptc.inferencecontroller import InferenceController\n",
    "from pybbn.graph.jointree import JoinTree\n",
    "\n",
    "a = BbnNode(Variable(0, 'a', ['t', 'f']), [0.2, 0.8])\n",
    "b = BbnNode(Variable(1, 'b', ['t', 'f']), [0.1, 0.9, 0.9, 0.1])\n",
    "bbn = Bbn().add_node(a).add_node(b) \\\n",
    "    .add_edge(Edge(a, b, EdgeType.DIRECTED))\n",
    "jt = InferenceController.apply(bbn)\n",
    "\n",
    "with open('simple-join-tree.json', 'w') as f:\n",
    "    d = JoinTree.to_dict(jt)\n",
    "    j = json.dumps(d, sort_keys=True, indent=2)\n",
    "    f.write(j)\n",
    "    \n",
    "print(jt)"
   ]
  },
  {
   "cell_type": "markdown",
   "metadata": {},
   "source": [
    "## Deserializing"
   ]
  },
  {
   "cell_type": "code",
   "execution_count": 4,
   "metadata": {},
   "outputs": [
    {
     "name": "stdout",
     "output_type": "stream",
     "text": [
      "(a,b)\n",
      "\n"
     ]
    }
   ],
   "source": [
    "with open('simple-join-tree.json', 'r') as f:\n",
    "    j = f.read()\n",
    "    d = json.loads(j)\n",
    "    jt = JoinTree.from_dict(d)\n",
    "    jt = InferenceController.apply_from_serde(jt)\n",
    "    \n",
    "print(jt)"
   ]
  },
  {
   "cell_type": "markdown",
   "metadata": {},
   "source": [
    "# Updating the conditional probability tables (CPTs) of a BBN nodes in a junction tree\n",
    "\n",
    "Sometimes, you may want to update the CPTs of BBN nodes in a junction tree; the junction tree may be expensive to build for large graph, and you want to avoid building it since it is a computationally expensive procedure. Below, we show how to `reuse` a junction tree with updated CPTs."
   ]
  },
  {
   "cell_type": "code",
   "execution_count": 5,
   "metadata": {},
   "outputs": [
    {
     "name": "stdout",
     "output_type": "stream",
     "text": [
      "lhs probabilities\n",
      "1|b|t,f\n",
      "1=t|0.74000\n",
      "1=f|0.26000\n",
      ">\n",
      "0|a|t,f\n",
      "0=t|0.20000\n",
      "0=f|0.80000\n",
      ">\n",
      "rhs probabilities\n",
      "1|b|t,f\n",
      "1=t|0.62000\n",
      "1=f|0.38000\n",
      ">\n",
      "0|a|t,f\n",
      "0=t|0.30000\n",
      "0=f|0.70000\n",
      ">\n"
     ]
    }
   ],
   "source": [
    "# you have built a BBN \n",
    "a = BbnNode(Variable(0, 'a', ['t', 'f']), [0.2, 0.8])\n",
    "b = BbnNode(Variable(1, 'b', ['t', 'f']), [0.1, 0.9, 0.9, 0.1])\n",
    "bbn = Bbn().add_node(a).add_node(b) \\\n",
    "    .add_edge(Edge(a, b, EdgeType.DIRECTED))\n",
    "\n",
    "# you have built a junction tree from the BBN\n",
    "# let's call this \"original\" junction tree the left-hand side (lhs) junction tree\n",
    "lhs_jt = InferenceController.apply(bbn)\n",
    "\n",
    "# you may just update the CPTs with the original junction tree structure\n",
    "# the algorithm to find/build the junction tree is avoided\n",
    "# the CPTs are updated\n",
    "rhs_jt = InferenceController.reapply(lhs_jt, {0: [0.3, 0.7], 1: [0.2, 0.8, 0.8, 0.2]})\n",
    "\n",
    "# let's print out the marginal probabilities and see how things changed\n",
    "# print the marginal probabilities for the lhs junction tree\n",
    "print('lhs probabilities')\n",
    "for node in lhs_jt.get_bbn_nodes():\n",
    "    potential = lhs_jt.get_bbn_potential(node)\n",
    "    print(node)\n",
    "    print(potential)\n",
    "    print('>')\n",
    "    \n",
    "\n",
    "# print the marginal probabilities for the rhs junction tree\n",
    "print('rhs probabilities')\n",
    "for node in rhs_jt.get_bbn_nodes():\n",
    "    potential = rhs_jt.get_bbn_potential(node)\n",
    "    print(node)\n",
    "    print(potential)\n",
    "    print('>')"
   ]
  },
  {
   "cell_type": "code",
   "execution_count": null,
   "metadata": {},
   "outputs": [],
   "source": []
  }
 ],
 "metadata": {
  "kernelspec": {
   "display_name": "Python 3",
   "language": "python",
   "name": "python3"
  },
  "language_info": {
   "codemirror_mode": {
    "name": "ipython",
    "version": 3
   },
   "file_extension": ".py",
   "mimetype": "text/x-python",
   "name": "python",
   "nbconvert_exporter": "python",
   "pygments_lexer": "ipython3",
   "version": "3.7.3"
  }
 },
 "nbformat": 4,
 "nbformat_minor": 4
}
