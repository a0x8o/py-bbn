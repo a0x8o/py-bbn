{
 "cells": [
  {
   "cell_type": "markdown",
   "metadata": {},
   "source": [
    "# Multivariate Gaussian Inference with Widgets\n",
    "\n",
    "This notebook shows how to do multivariate Gaussian inference with widgets. We allow one variable to change and visualize the change of distributions for the other."
   ]
  },
  {
   "cell_type": "markdown",
   "metadata": {},
   "source": [
    "## Simulate data"
   ]
  },
  {
   "cell_type": "code",
   "execution_count": 1,
   "metadata": {},
   "outputs": [],
   "source": [
    "%matplotlib inline\n",
    "import numpy as np\n",
    "from pybbn.gaussian.inference import GaussianInference\n",
    "import matplotlib.pyplot as plt\n",
    "\n",
    "np.random.seed(37)\n",
    "plt.style.use('ggplot')\n",
    "# plt.rcParams['axes.facecolor']='w'\n",
    "plt.rcParams['axes.grid'] = False\n",
    "\n",
    "def get_cowell_data():\n",
    "    n = 10000\n",
    "    Y = np.random.normal(0, 1, n)\n",
    "    X = np.random.normal(Y, 1, n)\n",
    "    Z = np.random.normal(X, 1, n)\n",
    "\n",
    "    D = np.vstack([Y, X, Z]).T\n",
    "    return D, ['Y', 'X', 'Z']\n",
    "\n",
    "def get_mvn():\n",
    "    X, H = get_cowell_data()\n",
    "\n",
    "    M = X.mean(axis=0)\n",
    "    E = np.cov(X.T)\n",
    "    \n",
    "    g = GaussianInference(H, M, E)\n",
    "    return g\n",
    "\n",
    "g = get_mvn()"
   ]
  },
  {
   "cell_type": "code",
   "execution_count": 2,
   "metadata": {},
   "outputs": [
    {
     "data": {
      "text/plain": [
       "[{'name': 'Y', 'mean': -0.0017234068142374496, 'var': 0.9907002440358944},\n",
       " {'name': 'X', 'mean': 0.007447599406730594, 'var': 2.0164056677312474},\n",
       " {'name': 'Z', 'mean': 0.002459042532737774, 'var': 3.033837891423978}]"
      ]
     },
     "execution_count": 2,
     "metadata": {},
     "output_type": "execute_result"
    }
   ],
   "source": [
    "g.marginals"
   ]
  },
  {
   "cell_type": "markdown",
   "metadata": {},
   "source": [
    "## Visualize"
   ]
  },
  {
   "cell_type": "code",
   "execution_count": 3,
   "metadata": {},
   "outputs": [
    {
     "data": {
      "application/vnd.jupyter.widget-view+json": {
       "model_id": "91ebf754ac214cea97bd8a1fe15123a9",
       "version_major": 2,
       "version_minor": 0
      },
      "text/plain": [
       "interactive(children=(IntSlider(value=0, description='x', max=5, min=-5), Output()), _dom_classes=('widget-int…"
      ]
     },
     "metadata": {},
     "output_type": "display_data"
    }
   ],
   "source": [
    "from ipywidgets import interact\n",
    "\n",
    "samples1 = g.sample_marginals(size=10000)\n",
    "    \n",
    "@interact(x=(-5, 5, 1))\n",
    "def f(x=None):\n",
    "    if x is not None:\n",
    "        gg = g.do_inference('X', x)\n",
    "    else:\n",
    "        gg = g\n",
    "    \n",
    "    samples2 = gg.sample_marginals(size=5000)\n",
    "    \n",
    "    fig, axes = plt.subplots(1, 3, figsize=(15, 3), sharey=False)\n",
    "    axes = np.ravel(axes)\n",
    "    \n",
    "    kind = 'hist'\n",
    "    alpha = 0.15\n",
    "    for (name, s2), ax in zip(samples2.items(), axes):\n",
    "        if name == 'X':\n",
    "            ax2 = ax.twinx()\n",
    "            _ = samples1[name].plot(kind=kind, ax=ax2, color='blue', alpha=alpha)\n",
    "            _ = ax.axvline(x=x, color='red')\n",
    "            _ = ax2.set_ylabel('')\n",
    "        else:\n",
    "            ax2 = ax.twinx()\n",
    "            _ = samples1[name].plot(kind=kind, ax=ax, color='blue', alpha=alpha)\n",
    "            _ = s2.plot(kind=kind, ax=ax)\n",
    "            _ = s2.plot(kind='kde', ax=ax2, color='green')\n",
    "            _ = ax2.set_ylabel('')\n",
    "        \n",
    "        _ = ax.set_title(f'{name}')\n",
    "        _ = ax.set_ylabel('')\n",
    "    \n",
    "    plt.tight_layout()"
   ]
  }
 ],
 "metadata": {
  "kernelspec": {
   "display_name": "Python 3",
   "language": "python",
   "name": "python3"
  },
  "language_info": {
   "codemirror_mode": {
    "name": "ipython",
    "version": 3
   },
   "file_extension": ".py",
   "mimetype": "text/x-python",
   "name": "python",
   "nbconvert_exporter": "python",
   "pygments_lexer": "ipython3",
   "version": "3.8.3"
  },
  "widgets": {
   "application/vnd.jupyter.widget-state+json": {
    "state": {
     "0b1609e9e9d540bd8196018ef40179f2": {
      "model_module": "@jupyter-widgets/base",
      "model_module_version": "1.2.0",
      "model_name": "LayoutModel",
      "state": {}
     },
     "4b90b9a5078647babfc4c0063314bad4": {
      "model_module": "@jupyter-widgets/controls",
      "model_module_version": "1.5.0",
      "model_name": "IntSliderModel",
      "state": {
       "description": "x",
       "layout": "IPY_MODEL_7de31168abec4851917ffbcc5ed2a41b",
       "max": 5,
       "min": -5,
       "style": "IPY_MODEL_5da085f6ce6846a6808186d30fc3c153",
       "value": 5
      }
     },
     "5da085f6ce6846a6808186d30fc3c153": {
      "model_module": "@jupyter-widgets/controls",
      "model_module_version": "1.5.0",
      "model_name": "SliderStyleModel",
      "state": {
       "description_width": ""
      }
     },
     "7de31168abec4851917ffbcc5ed2a41b": {
      "model_module": "@jupyter-widgets/base",
      "model_module_version": "1.2.0",
      "model_name": "LayoutModel",
      "state": {}
     },
     "891622bd5cff4e5e8be06d69bd3e63e6": {
      "model_module": "@jupyter-widgets/output",
      "model_module_version": "1.0.0",
      "model_name": "OutputModel",
      "state": {
       "layout": "IPY_MODEL_ca190bef1f304f14b64400e0191bc1e0",
       "msg_id": "db9d6176-87aa-4d3f-ac74-9a46b72b1a62",
       "outputs": [
        {
         "data": {
          "image/png": "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\n",
          "text/plain": "<Figure size 1080x216 with 6 Axes>"
         },
         "metadata": {},
         "output_type": "display_data"
        }
       ]
      }
     },
     "91ebf754ac214cea97bd8a1fe15123a9": {
      "model_module": "@jupyter-widgets/controls",
      "model_module_version": "1.5.0",
      "model_name": "VBoxModel",
      "state": {
       "_dom_classes": [
        "widget-interact"
       ],
       "children": [
        "IPY_MODEL_4b90b9a5078647babfc4c0063314bad4",
        "IPY_MODEL_891622bd5cff4e5e8be06d69bd3e63e6"
       ],
       "layout": "IPY_MODEL_0b1609e9e9d540bd8196018ef40179f2"
      }
     },
     "ca190bef1f304f14b64400e0191bc1e0": {
      "model_module": "@jupyter-widgets/base",
      "model_module_version": "1.2.0",
      "model_name": "LayoutModel",
      "state": {}
     }
    },
    "version_major": 2,
    "version_minor": 0
   }
  }
 },
 "nbformat": 4,
 "nbformat_minor": 4
}
