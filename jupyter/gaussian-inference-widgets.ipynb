{
 "cells": [
  {
   "cell_type": "markdown",
   "metadata": {},
   "source": [
    "# Multivariate Gaussian Inference with Widgets\n",
    "\n",
    "This notebook shows how to do multivariate Gaussian inference with widgets. We allow one variable to change and visualize the change of distributions for the other."
   ]
  },
  {
   "cell_type": "markdown",
   "metadata": {},
   "source": [
    "## Simulate data"
   ]
  },
  {
   "cell_type": "code",
   "execution_count": 1,
   "metadata": {},
   "outputs": [],
   "source": [
    "%matplotlib inline\n",
    "import numpy as np\n",
    "from pybbn.gaussian.inference import GaussianInference\n",
    "import matplotlib.pyplot as plt\n",
    "\n",
    "np.random.seed(37)\n",
    "plt.style.use('ggplot')\n",
    "# plt.rcParams['axes.facecolor']='w'\n",
    "plt.rcParams['axes.grid'] = False\n",
    "\n",
    "def get_cowell_data():\n",
    "    n = 10000\n",
    "    Y = np.random.normal(0, 1, n)\n",
    "    X = np.random.normal(Y, 1, n)\n",
    "    Z = np.random.normal(X, 1, n)\n",
    "\n",
    "    D = np.vstack([Y, X, Z]).T\n",
    "    return D, ['Y', 'X', 'Z']\n",
    "\n",
    "def get_mvn():\n",
    "    X, H = get_cowell_data()\n",
    "\n",
    "    M = X.mean(axis=0)\n",
    "    E = np.cov(X.T)\n",
    "    \n",
    "    g = GaussianInference(H, M, E)\n",
    "    return g\n",
    "\n",
    "g = get_mvn()"
   ]
  },
  {
   "cell_type": "code",
   "execution_count": 2,
   "metadata": {},
   "outputs": [
    {
     "data": {
      "text/plain": [
       "[{'name': 'Y', 'mean': -0.0017234068142374496, 'var': 0.9907002440358944},\n",
       " {'name': 'X', 'mean': 0.007447599406730594, 'var': 2.0164056677312474},\n",
       " {'name': 'Z', 'mean': 0.002459042532737774, 'var': 3.033837891423978}]"
      ]
     },
     "execution_count": 2,
     "metadata": {},
     "output_type": "execute_result"
    }
   ],
   "source": [
    "g.marginals"
   ]
  },
  {
   "cell_type": "markdown",
   "metadata": {},
   "source": [
    "## Visualize"
   ]
  },
  {
   "cell_type": "code",
   "execution_count": 3,
   "metadata": {},
   "outputs": [
    {
     "data": {
      "application/vnd.jupyter.widget-view+json": {
       "model_id": "5362aa767d4548f381ebf957c78d88b7",
       "version_major": 2,
       "version_minor": 0
      },
      "text/plain": [
       "interactive(children=(IntSlider(value=0, description='x', max=5, min=-5), Output()), _dom_classes=('widget-int…"
      ]
     },
     "metadata": {},
     "output_type": "display_data"
    }
   ],
   "source": [
    "from ipywidgets import interact\n",
    "\n",
    "samples1 = g.sample_marginals(size=10000)\n",
    "    \n",
    "@interact(x=(-5, 5, 1))\n",
    "def f(x=None):\n",
    "    if x is not None:\n",
    "        gg = g.do_inference('X', x)\n",
    "    else:\n",
    "        gg = g\n",
    "    \n",
    "    samples2 = gg.sample_marginals(size=5000)\n",
    "    \n",
    "    fig, axes = plt.subplots(1, 3, figsize=(15, 3), sharey=False)\n",
    "    axes = np.ravel(axes)\n",
    "    \n",
    "    kind = 'hist'\n",
    "    alpha = 0.15\n",
    "    for (name, s2), ax in zip(samples2.items(), axes):\n",
    "        if name == 'X':\n",
    "            ax2 = ax.twinx()\n",
    "            _ = samples1[name].plot(kind=kind, ax=ax2, color='blue', alpha=alpha)\n",
    "            _ = ax.axvline(x=x, color='red')\n",
    "            _ = ax2.set_ylabel('')\n",
    "        else:\n",
    "            ax2 = ax.twinx()\n",
    "            _ = samples1[name].plot(kind=kind, ax=ax, color='blue', alpha=alpha)\n",
    "            _ = s2.plot(kind=kind, ax=ax)\n",
    "            _ = s2.plot(kind='kde', ax=ax2, color='green')\n",
    "            _ = ax2.set_ylabel('')\n",
    "        \n",
    "        _ = ax.set_title(f'{name}')\n",
    "        _ = ax.set_ylabel('')\n",
    "    \n",
    "    plt.tight_layout()"
   ]
  }
 ],
 "metadata": {
  "kernelspec": {
   "display_name": "Python 3",
   "language": "python",
   "name": "python3"
  },
  "language_info": {
   "codemirror_mode": {
    "name": "ipython",
    "version": 3
   },
   "file_extension": ".py",
   "mimetype": "text/x-python",
   "name": "python",
   "nbconvert_exporter": "python",
   "pygments_lexer": "ipython3",
   "version": "3.8.3"
  },
  "widgets": {
   "application/vnd.jupyter.widget-state+json": {
    "state": {
     "29117921dd194b8d825a77fa7d9d16c3": {
      "model_module": "@jupyter-widgets/base",
      "model_module_version": "1.2.0",
      "model_name": "LayoutModel",
      "state": {}
     },
     "4db04a0c81e64119ac9460c7748b8b31": {
      "model_module": "@jupyter-widgets/controls",
      "model_module_version": "1.5.0",
      "model_name": "SliderStyleModel",
      "state": {
       "description_width": ""
      }
     },
     "5362aa767d4548f381ebf957c78d88b7": {
      "model_module": "@jupyter-widgets/controls",
      "model_module_version": "1.5.0",
      "model_name": "VBoxModel",
      "state": {
       "_dom_classes": [
        "widget-interact"
       ],
       "children": [
        "IPY_MODEL_564a61ab0a584bbf8a6ceea3d0d83058",
        "IPY_MODEL_eb016ad4cddf472a8cd698af5f558b99"
       ],
       "layout": "IPY_MODEL_8a21176903db4eafa0910790ebb0ff98"
      }
     },
     "564a61ab0a584bbf8a6ceea3d0d83058": {
      "model_module": "@jupyter-widgets/controls",
      "model_module_version": "1.5.0",
      "model_name": "IntSliderModel",
      "state": {
       "description": "x",
       "layout": "IPY_MODEL_59735cc8898d4475bd1065a95a3d5346",
       "max": 5,
       "min": -5,
       "style": "IPY_MODEL_4db04a0c81e64119ac9460c7748b8b31",
       "value": 3
      }
     },
     "59735cc8898d4475bd1065a95a3d5346": {
      "model_module": "@jupyter-widgets/base",
      "model_module_version": "1.2.0",
      "model_name": "LayoutModel",
      "state": {}
     },
     "8a21176903db4eafa0910790ebb0ff98": {
      "model_module": "@jupyter-widgets/base",
      "model_module_version": "1.2.0",
      "model_name": "LayoutModel",
      "state": {}
     },
     "eb016ad4cddf472a8cd698af5f558b99": {
      "model_module": "@jupyter-widgets/output",
      "model_module_version": "1.0.0",
      "model_name": "OutputModel",
      "state": {
       "layout": "IPY_MODEL_29117921dd194b8d825a77fa7d9d16c3",
       "outputs": [
        {
         "data": {
          "image/png": "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\n",
          "text/plain": "<Figure size 1080x216 with 6 Axes>"
         },
         "metadata": {},
         "output_type": "display_data"
        }
       ]
      }
     }
    },
    "version_major": 2,
    "version_minor": 0
   }
  }
 },
 "nbformat": 4,
 "nbformat_minor": 4
}
