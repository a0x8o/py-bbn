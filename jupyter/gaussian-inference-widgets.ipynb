{
 "cells": [
  {
   "cell_type": "markdown",
   "metadata": {},
   "source": [
    "# Multivariate Gaussian Inference with Widgets\n",
    "\n",
    "This notebook shows how to do multivariate Gaussian inference with widgets. We allow one variable to change and visualize the change of distributions for the other."
   ]
  },
  {
   "cell_type": "markdown",
   "metadata": {},
   "source": [
    "## Simulate data"
   ]
  },
  {
   "cell_type": "code",
   "execution_count": 1,
   "metadata": {},
   "outputs": [],
   "source": [
    "%matplotlib inline\n",
    "import numpy as np\n",
    "from pybbn.gaussian.inference import GaussianInference\n",
    "import matplotlib.pyplot as plt\n",
    "\n",
    "np.random.seed(37)\n",
    "plt.style.use('ggplot')\n",
    "# plt.rcParams['axes.facecolor']='w'\n",
    "plt.rcParams['axes.grid'] = False\n",
    "\n",
    "def get_cowell_data():\n",
    "    n = 10000\n",
    "    Y = np.random.normal(0, 1, n)\n",
    "    X = np.random.normal(Y, 1, n)\n",
    "    Z = np.random.normal(X, 1, n)\n",
    "\n",
    "    D = np.vstack([Y, X, Z]).T\n",
    "    return D, ['Y', 'X', 'Z']\n",
    "\n",
    "def get_mvn():\n",
    "    X, H = get_cowell_data()\n",
    "\n",
    "    M = X.mean(axis=0)\n",
    "    E = np.cov(X.T)\n",
    "    \n",
    "    g = GaussianInference(H, M, E)\n",
    "    return g\n",
    "\n",
    "g = get_mvn()"
   ]
  },
  {
   "cell_type": "code",
   "execution_count": 2,
   "metadata": {},
   "outputs": [
    {
     "data": {
      "text/plain": [
       "[{'name': 'Y', 'mean': -0.0017234068142374496, 'var': 0.9907002440358944},\n",
       " {'name': 'X', 'mean': 0.007447599406730595, 'var': 2.0164056677312474},\n",
       " {'name': 'Z', 'mean': 0.002459042532737774, 'var': 3.033837891423978}]"
      ]
     },
     "execution_count": 2,
     "metadata": {},
     "output_type": "execute_result"
    }
   ],
   "source": [
    "g.marginals"
   ]
  },
  {
   "cell_type": "markdown",
   "metadata": {},
   "source": [
    "## Visualize"
   ]
  },
  {
   "cell_type": "code",
   "execution_count": 3,
   "metadata": {},
   "outputs": [
    {
     "data": {
      "application/vnd.jupyter.widget-view+json": {
       "model_id": "727a80ab38784df2822bba8a11c4b6bc",
       "version_major": 2,
       "version_minor": 0
      },
      "text/plain": [
       "interactive(children=(IntSlider(value=0, description='x', max=5, min=-5), Output()), _dom_classes=('widget-int…"
      ]
     },
     "metadata": {},
     "output_type": "display_data"
    }
   ],
   "source": [
    "from ipywidgets import interact\n",
    "\n",
    "samples1 = g.sample_marginals(size=10000)\n",
    "    \n",
    "@interact(x=(-5, 5, 1))\n",
    "def f(x=None):\n",
    "    if x is not None:\n",
    "        gg = g.do_inference('X', x)\n",
    "    else:\n",
    "        gg = g\n",
    "    \n",
    "    samples2 = gg.sample_marginals(size=5000)\n",
    "    \n",
    "    fig, axes = plt.subplots(1, 3, figsize=(15, 3), sharey=False)\n",
    "    axes = np.ravel(axes)\n",
    "    \n",
    "    kind = 'hist'\n",
    "    alpha = 0.15\n",
    "    for (name, s2), ax in zip(samples2.items(), axes):\n",
    "        if name == 'X':\n",
    "            ax2 = ax.twinx()\n",
    "            _ = samples1[name].plot(kind=kind, ax=ax2, color='blue', alpha=alpha)\n",
    "            _ = ax.axvline(x=x, color='red')\n",
    "            _ = ax2.set_ylabel('')\n",
    "        else:\n",
    "            ax2 = ax.twinx()\n",
    "            _ = samples1[name].plot(kind=kind, ax=ax, color='blue', alpha=alpha)\n",
    "            _ = s2.plot(kind=kind, ax=ax)\n",
    "            _ = s2.plot(kind='kde', ax=ax2, color='green')\n",
    "            _ = ax2.set_ylabel('')\n",
    "        \n",
    "        _ = ax.set_title(f'{name}')\n",
    "        _ = ax.set_ylabel('')\n",
    "    \n",
    "    plt.tight_layout()"
   ]
  }
 ],
 "metadata": {
  "kernelspec": {
   "display_name": "Python 3",
   "language": "python",
   "name": "python3"
  },
  "language_info": {
   "codemirror_mode": {
    "name": "ipython",
    "version": 3
   },
   "file_extension": ".py",
   "mimetype": "text/x-python",
   "name": "python",
   "nbconvert_exporter": "python",
   "pygments_lexer": "ipython3",
   "version": "3.8.3"
  },
  "widgets": {
   "application/vnd.jupyter.widget-state+json": {
    "state": {
     "004a570ac2e94c8aa16ce1475155ed6c": {
      "model_module": "@jupyter-widgets/controls",
      "model_module_version": "1.5.0",
      "model_name": "IntSliderModel",
      "state": {
       "description": "x",
       "layout": "IPY_MODEL_a9b25c7e8a684fafbd684419d1b60ee2",
       "max": 5,
       "min": -5,
       "style": "IPY_MODEL_b58795aec67f4ac181078e7a7f4218a6"
      }
     },
     "10a85aa8b81c478382f9237f25b8a6fc": {
      "model_module": "@jupyter-widgets/base",
      "model_module_version": "1.2.0",
      "model_name": "LayoutModel",
      "state": {}
     },
     "19ed0ff0818843f3bdb6b53f1a40b521": {
      "model_module": "@jupyter-widgets/output",
      "model_module_version": "1.0.0",
      "model_name": "OutputModel",
      "state": {
       "layout": "IPY_MODEL_9cf8ebc1d9df41ef99dab2507ff255b9",
       "outputs": [
        {
         "data": {
          "image/png": "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\n",
          "text/plain": "<Figure size 1080x216 with 6 Axes>"
         },
         "metadata": {},
         "output_type": "display_data"
        }
       ]
      }
     },
     "727a80ab38784df2822bba8a11c4b6bc": {
      "model_module": "@jupyter-widgets/controls",
      "model_module_version": "1.5.0",
      "model_name": "VBoxModel",
      "state": {
       "_dom_classes": [
        "widget-interact"
       ],
       "children": [
        "IPY_MODEL_004a570ac2e94c8aa16ce1475155ed6c",
        "IPY_MODEL_19ed0ff0818843f3bdb6b53f1a40b521"
       ],
       "layout": "IPY_MODEL_10a85aa8b81c478382f9237f25b8a6fc"
      }
     },
     "9cf8ebc1d9df41ef99dab2507ff255b9": {
      "model_module": "@jupyter-widgets/base",
      "model_module_version": "1.2.0",
      "model_name": "LayoutModel",
      "state": {}
     },
     "a9b25c7e8a684fafbd684419d1b60ee2": {
      "model_module": "@jupyter-widgets/base",
      "model_module_version": "1.2.0",
      "model_name": "LayoutModel",
      "state": {}
     },
     "b58795aec67f4ac181078e7a7f4218a6": {
      "model_module": "@jupyter-widgets/controls",
      "model_module_version": "1.5.0",
      "model_name": "SliderStyleModel",
      "state": {
       "description_width": ""
      }
     }
    },
    "version_major": 2,
    "version_minor": 0
   }
  }
 },
 "nbformat": 4,
 "nbformat_minor": 4
}
