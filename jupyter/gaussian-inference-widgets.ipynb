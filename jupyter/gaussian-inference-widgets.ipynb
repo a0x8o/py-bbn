{
 "cells": [
  {
   "cell_type": "code",
   "execution_count": 1,
   "metadata": {},
   "outputs": [],
   "source": [
    "%matplotlib inline\n",
    "import numpy as np\n",
    "from pybbn.gaussian.inference import GaussianInference\n",
    "import matplotlib.pyplot as plt\n",
    "\n",
    "np.random.seed(37)\n",
    "plt.style.use('ggplot')\n",
    "# plt.rcParams['axes.facecolor']='w'\n",
    "plt.rcParams['axes.grid'] = False\n",
    "\n",
    "def get_cowell_data():\n",
    "    n = 10000\n",
    "    Y = np.random.normal(0, 1, n)\n",
    "    X = np.random.normal(Y, 1, n)\n",
    "    Z = np.random.normal(X, 1, n)\n",
    "\n",
    "    D = np.vstack([Y, X, Z]).T\n",
    "    return D, ['Y', 'X', 'Z']\n",
    "\n",
    "def get_mvn():\n",
    "    X, H = get_cowell_data()\n",
    "\n",
    "    M = X.mean(axis=0)\n",
    "    E = np.cov(X.T)\n",
    "    \n",
    "    g = GaussianInference(H, M, E)\n",
    "    return g\n",
    "\n",
    "g = get_mvn()"
   ]
  },
  {
   "cell_type": "code",
   "execution_count": 2,
   "metadata": {},
   "outputs": [
    {
     "data": {
      "text/plain": [
       "[{'name': 'Y', 'mean': -0.0017234068142374496, 'var': 0.9907002440358944},\n",
       " {'name': 'X', 'mean': 0.007447599406730595, 'var': 2.0164056677312474},\n",
       " {'name': 'Z', 'mean': 0.002459042532737774, 'var': 3.033837891423978}]"
      ]
     },
     "execution_count": 2,
     "metadata": {},
     "output_type": "execute_result"
    }
   ],
   "source": [
    "g.marginals"
   ]
  },
  {
   "cell_type": "code",
   "execution_count": 3,
   "metadata": {},
   "outputs": [
    {
     "data": {
      "application/vnd.jupyter.widget-view+json": {
       "model_id": "f89163857b054680a7d84f813fa59de5",
       "version_major": 2,
       "version_minor": 0
      },
      "text/plain": [
       "interactive(children=(IntSlider(value=0, description='x', max=5, min=-5), Output()), _dom_classes=('widget-int…"
      ]
     },
     "metadata": {},
     "output_type": "display_data"
    }
   ],
   "source": [
    "from ipywidgets import interact\n",
    "\n",
    "samples1 = g.sample_marginals(size=10000)\n",
    "    \n",
    "@interact(x=(-5, 5, 1))\n",
    "def f(x=None):\n",
    "    if x is not None:\n",
    "        gg = g.do_inference('X', x)\n",
    "    else:\n",
    "        gg = g\n",
    "    \n",
    "    samples2 = gg.sample_marginals(size=5000)\n",
    "    \n",
    "    fig, axes = plt.subplots(1, 3, figsize=(15, 3), sharey=False)\n",
    "    axes = np.ravel(axes)\n",
    "    \n",
    "    kind = 'hist'\n",
    "    alpha = 0.15\n",
    "    for (name, s2), ax in zip(samples2.items(), axes):\n",
    "        if name == 'X':\n",
    "            ax2 = ax.twinx()\n",
    "            _ = samples1[name].plot(kind=kind, ax=ax2, color='blue', alpha=alpha)\n",
    "            _ = ax.axvline(x=x, color='red')\n",
    "            _ = ax2.set_ylabel('')\n",
    "        else:\n",
    "            ax2 = ax.twinx()\n",
    "            _ = samples1[name].plot(kind=kind, ax=ax, color='blue', alpha=alpha)\n",
    "            _ = s2.plot(kind=kind, ax=ax)\n",
    "            _ = s2.plot(kind='kde', ax=ax2, color='green')\n",
    "            _ = ax2.set_ylabel('')\n",
    "        \n",
    "        _ = ax.set_title(f'{name}')\n",
    "        _ = ax.set_ylabel('')\n",
    "    \n",
    "    plt.tight_layout()"
   ]
  },
  {
   "cell_type": "code",
   "execution_count": null,
   "metadata": {},
   "outputs": [],
   "source": []
  }
 ],
 "metadata": {
  "kernelspec": {
   "display_name": "Python 3",
   "language": "python",
   "name": "python3"
  },
  "language_info": {
   "codemirror_mode": {
    "name": "ipython",
    "version": 3
   },
   "file_extension": ".py",
   "mimetype": "text/x-python",
   "name": "python",
   "nbconvert_exporter": "python",
   "pygments_lexer": "ipython3",
   "version": "3.8.3"
  },
  "widgets": {
   "application/vnd.jupyter.widget-state+json": {
    "state": {
     "02f26565359145b7bbf08378f11ef2fe": {
      "model_module": "@jupyter-widgets/base",
      "model_module_version": "1.2.0",
      "model_name": "LayoutModel",
      "state": {}
     },
     "0a0d97bb2b8648e0844ce9fc4b2b2181": {
      "model_module": "@jupyter-widgets/base",
      "model_module_version": "1.2.0",
      "model_name": "LayoutModel",
      "state": {}
     },
     "68406721bb9742ac973380f09b1add7a": {
      "model_module": "@jupyter-widgets/controls",
      "model_module_version": "1.5.0",
      "model_name": "IntSliderModel",
      "state": {
       "description": "x",
       "layout": "IPY_MODEL_0a0d97bb2b8648e0844ce9fc4b2b2181",
       "max": 5,
       "min": -5,
       "style": "IPY_MODEL_e3ce71c9354f46389f3854f93bd54869",
       "value": 5
      }
     },
     "d8289199c9864e35a3812855f5b33b86": {
      "model_module": "@jupyter-widgets/base",
      "model_module_version": "1.2.0",
      "model_name": "LayoutModel",
      "state": {}
     },
     "e3ce71c9354f46389f3854f93bd54869": {
      "model_module": "@jupyter-widgets/controls",
      "model_module_version": "1.5.0",
      "model_name": "SliderStyleModel",
      "state": {
       "description_width": ""
      }
     },
     "f0497520e81245c9a17f51a6581985eb": {
      "model_module": "@jupyter-widgets/output",
      "model_module_version": "1.0.0",
      "model_name": "OutputModel",
      "state": {
       "layout": "IPY_MODEL_02f26565359145b7bbf08378f11ef2fe",
       "outputs": [
        {
         "data": {
          "image/png": "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\n",
          "text/plain": "<Figure size 1080x216 with 6 Axes>"
         },
         "metadata": {},
         "output_type": "display_data"
        }
       ]
      }
     },
     "f89163857b054680a7d84f813fa59de5": {
      "model_module": "@jupyter-widgets/controls",
      "model_module_version": "1.5.0",
      "model_name": "VBoxModel",
      "state": {
       "_dom_classes": [
        "widget-interact"
       ],
       "children": [
        "IPY_MODEL_68406721bb9742ac973380f09b1add7a",
        "IPY_MODEL_f0497520e81245c9a17f51a6581985eb"
       ],
       "layout": "IPY_MODEL_d8289199c9864e35a3812855f5b33b86"
      }
     }
    },
    "version_major": 2,
    "version_minor": 0
   }
  }
 },
 "nbformat": 4,
 "nbformat_minor": 4
}
