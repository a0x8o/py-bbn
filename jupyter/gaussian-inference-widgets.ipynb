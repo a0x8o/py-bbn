{
 "cells": [
  {
   "cell_type": "markdown",
   "metadata": {},
   "source": [
    "# Multivariate Gaussian Inference with Widgets\n",
    "\n",
    "This notebook shows how to do multivariate Gaussian inference with widgets. We allow one variable to change and visualize the change of distributions for the other."
   ]
  },
  {
   "cell_type": "markdown",
   "metadata": {},
   "source": [
    "## Simulate data"
   ]
  },
  {
   "cell_type": "code",
   "execution_count": 1,
   "metadata": {},
   "outputs": [],
   "source": [
    "%matplotlib inline\n",
    "import numpy as np\n",
    "from pybbn.gaussian.inference import GaussianInference\n",
    "import matplotlib.pyplot as plt\n",
    "\n",
    "np.random.seed(37)\n",
    "plt.style.use('ggplot')\n",
    "# plt.rcParams['axes.facecolor']='w'\n",
    "plt.rcParams['axes.grid'] = False\n",
    "\n",
    "def get_cowell_data():\n",
    "    n = 10000\n",
    "    Y = np.random.normal(0, 1, n)\n",
    "    X = np.random.normal(Y, 1, n)\n",
    "    Z = np.random.normal(X, 1, n)\n",
    "\n",
    "    D = np.vstack([Y, X, Z]).T\n",
    "    return D, ['Y', 'X', 'Z']\n",
    "\n",
    "def get_mvn():\n",
    "    X, H = get_cowell_data()\n",
    "\n",
    "    M = X.mean(axis=0)\n",
    "    E = np.cov(X.T)\n",
    "    \n",
    "    g = GaussianInference(H, M, E)\n",
    "    return g\n",
    "\n",
    "g = get_mvn()"
   ]
  },
  {
   "cell_type": "code",
   "execution_count": 2,
   "metadata": {},
   "outputs": [
    {
     "data": {
      "text/plain": [
       "[{'name': 'Y', 'mean': -0.0017234068142374496, 'var': 0.9907002440358944},\n",
       " {'name': 'X', 'mean': 0.007447599406730594, 'var': 2.0164056677312474},\n",
       " {'name': 'Z', 'mean': 0.002459042532737774, 'var': 3.033837891423978}]"
      ]
     },
     "execution_count": 2,
     "metadata": {},
     "output_type": "execute_result"
    }
   ],
   "source": [
    "g.marginals"
   ]
  },
  {
   "cell_type": "markdown",
   "metadata": {},
   "source": [
    "## Visualize"
   ]
  },
  {
   "cell_type": "code",
   "execution_count": 3,
   "metadata": {},
   "outputs": [
    {
     "data": {
      "application/vnd.jupyter.widget-view+json": {
       "model_id": "5362aa767d4548f381ebf957c78d88b7",
       "version_major": 2,
       "version_minor": 0
      },
      "text/plain": [
       "interactive(children=(IntSlider(value=0, description='x', max=5, min=-5), Output()), _dom_classes=('widget-int…"
      ]
     },
     "metadata": {},
     "output_type": "display_data"
    }
   ],
   "source": [
    "from ipywidgets import interact\n",
    "\n",
    "samples1 = g.sample_marginals(size=10000)\n",
    "    \n",
    "@interact(x=(-5, 5, 1))\n",
    "def f(x=None):\n",
    "    if x is not None:\n",
    "        gg = g.do_inference('X', x)\n",
    "    else:\n",
    "        gg = g\n",
    "    \n",
    "    samples2 = gg.sample_marginals(size=5000)\n",
    "    \n",
    "    fig, axes = plt.subplots(1, 3, figsize=(15, 3), sharey=False)\n",
    "    axes = np.ravel(axes)\n",
    "    \n",
    "    kind = 'hist'\n",
    "    alpha = 0.15\n",
    "    for (name, s2), ax in zip(samples2.items(), axes):\n",
    "        if name == 'X':\n",
    "            ax2 = ax.twinx()\n",
    "            _ = samples1[name].plot(kind=kind, ax=ax2, color='blue', alpha=alpha)\n",
    "            _ = ax.axvline(x=x, color='red')\n",
    "            _ = ax2.set_ylabel('')\n",
    "        else:\n",
    "            ax2 = ax.twinx()\n",
    "            _ = samples1[name].plot(kind=kind, ax=ax, color='blue', alpha=alpha)\n",
    "            _ = s2.plot(kind=kind, ax=ax)\n",
    "            _ = s2.plot(kind='kde', ax=ax2, color='green')\n",
    "            _ = ax2.set_ylabel('')\n",
    "        \n",
    "        _ = ax.set_title(f'{name}')\n",
    "        _ = ax.set_ylabel('')\n",
    "    \n",
    "    plt.tight_layout()"
   ]
  }
 ],
 "metadata": {
  "kernelspec": {
   "display_name": "Python 3",
   "language": "python",
   "name": "python3"
  },
  "language_info": {
   "codemirror_mode": {
    "name": "ipython",
    "version": 3
   },
   "file_extension": ".py",
   "mimetype": "text/x-python",
   "name": "python",
   "nbconvert_exporter": "python",
   "pygments_lexer": "ipython3",
   "version": "3.8.3"
  },
  "widgets": {
   "application/vnd.jupyter.widget-state+json": {
    "state": {
     "29117921dd194b8d825a77fa7d9d16c3": {
      "model_module": "@jupyter-widgets/base",
      "model_module_version": "1.2.0",
      "model_name": "LayoutModel",
      "state": {}
     },
     "4db04a0c81e64119ac9460c7748b8b31": {
      "model_module": "@jupyter-widgets/controls",
      "model_module_version": "1.5.0",
      "model_name": "SliderStyleModel",
      "state": {
       "description_width": ""
      }
     },
     "5362aa767d4548f381ebf957c78d88b7": {
      "model_module": "@jupyter-widgets/controls",
      "model_module_version": "1.5.0",
      "model_name": "VBoxModel",
      "state": {
       "_dom_classes": [
        "widget-interact"
       ],
       "children": [
        "IPY_MODEL_564a61ab0a584bbf8a6ceea3d0d83058",
        "IPY_MODEL_eb016ad4cddf472a8cd698af5f558b99"
       ],
       "layout": "IPY_MODEL_8a21176903db4eafa0910790ebb0ff98"
      }
     },
     "564a61ab0a584bbf8a6ceea3d0d83058": {
      "model_module": "@jupyter-widgets/controls",
      "model_module_version": "1.5.0",
      "model_name": "IntSliderModel",
      "state": {
       "description": "x",
       "layout": "IPY_MODEL_59735cc8898d4475bd1065a95a3d5346",
       "max": 5,
       "min": -5,
       "style": "IPY_MODEL_4db04a0c81e64119ac9460c7748b8b31",
       "value": 3
      }
     },
     "59735cc8898d4475bd1065a95a3d5346": {
      "model_module": "@jupyter-widgets/base",
      "model_module_version": "1.2.0",
      "model_name": "LayoutModel",
      "state": {}
     },
     "8a21176903db4eafa0910790ebb0ff98": {
      "model_module": "@jupyter-widgets/base",
      "model_module_version": "1.2.0",
      "model_name": "LayoutModel",
      "state": {}
     },
     "eb016ad4cddf472a8cd698af5f558b99": {
      "model_module": "@jupyter-widgets/output",
      "model_module_version": "1.0.0",
      "model_name": "OutputModel",
      "state": {
       "layout": "IPY_MODEL_29117921dd194b8d825a77fa7d9d16c3",
       "outputs": [
        {
         "data": {
          "image/png": "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\n",
          "text/plain": "<Figure size 1080x216 with 6 Axes>"
         },
         "metadata": {},
         "output_type": "display_data"
        }
       ]
      }
     }
    },
    "version_major": 2,
    "version_minor": 0
   }
  }
 },
 "nbformat": 4,
 "nbformat_minor": 4
}
