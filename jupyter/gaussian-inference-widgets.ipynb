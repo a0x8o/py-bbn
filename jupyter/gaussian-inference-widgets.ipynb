{
 "cells": [
  {
   "cell_type": "code",
   "execution_count": 1,
   "metadata": {},
   "outputs": [],
   "source": [
    "%matplotlib inline\n",
    "import numpy as np\n",
    "from pybbn.gaussian.inference import GaussianInference\n",
    "import matplotlib.pyplot as plt\n",
    "\n",
    "np.random.seed(37)\n",
    "plt.style.use('ggplot')\n",
    "\n",
    "def get_cowell_data():\n",
    "    n = 10000\n",
    "    Y = np.random.normal(0, 1, n)\n",
    "    X = np.random.normal(Y, 1, n)\n",
    "    Z = np.random.normal(X, 1, n)\n",
    "\n",
    "    D = np.vstack([Y, X, Z]).T\n",
    "    return D, ['Y', 'X', 'Z']\n",
    "\n",
    "def get_mvn():\n",
    "    X, H = get_cowell_data()\n",
    "\n",
    "    M = X.mean(axis=0)\n",
    "    E = np.cov(X.T)\n",
    "    \n",
    "    g = GaussianInference(H, M, E)\n",
    "    return g\n",
    "\n",
    "g = get_mvn()"
   ]
  },
  {
   "cell_type": "code",
   "execution_count": 2,
   "metadata": {},
   "outputs": [
    {
     "data": {
      "text/plain": [
       "[{'name': 'Y', 'mean': -0.0017234068142374496, 'var': 0.9907002440358944},\n",
       " {'name': 'X', 'mean': 0.007447599406730594, 'var': 2.0164056677312474},\n",
       " {'name': 'Z', 'mean': 0.002459042532737774, 'var': 3.033837891423978}]"
      ]
     },
     "execution_count": 2,
     "metadata": {},
     "output_type": "execute_result"
    }
   ],
   "source": [
    "g.marginals"
   ]
  },
  {
   "cell_type": "code",
   "execution_count": 3,
   "metadata": {},
   "outputs": [
    {
     "data": {
      "application/vnd.jupyter.widget-view+json": {
       "model_id": "1f1414f37dd942fc89da026c572dad22",
       "version_major": 2,
       "version_minor": 0
      },
      "text/plain": [
       "interactive(children=(IntSlider(value=0, description='x', max=5, min=-5), Output()), _dom_classes=('widget-int…"
      ]
     },
     "metadata": {},
     "output_type": "display_data"
    }
   ],
   "source": [
    "from ipywidgets import interact\n",
    "\n",
    "samples1 = g.sample_marginals(size=10000)\n",
    "    \n",
    "@interact(x=(-5, 5, 1))\n",
    "def f(x=None):\n",
    "    if x is not None:\n",
    "        gg = g.do_inference('X', x)\n",
    "    else:\n",
    "        gg = g\n",
    "    \n",
    "    samples2 = gg.sample_marginals(size=10000)\n",
    "    \n",
    "    fig, axes = plt.subplots(1, 3, figsize=(15, 3))\n",
    "    axes = np.ravel(axes)\n",
    "    \n",
    "    for (name, s2), ax in zip(samples2.items(), axes):        \n",
    "        _ = samples1[name].plot(kind='hist', ax=ax, color='blue', alpha=0.5)\n",
    "        _ = s2.plot(kind='hist', ax=ax)\n",
    "        _ = ax.set_title(f'{name}')"
   ]
  }
 ],
 "metadata": {
  "kernelspec": {
   "display_name": "Python 3",
   "language": "python",
   "name": "python3"
  },
  "language_info": {
   "codemirror_mode": {
    "name": "ipython",
    "version": 3
   },
   "file_extension": ".py",
   "mimetype": "text/x-python",
   "name": "python",
   "nbconvert_exporter": "python",
   "pygments_lexer": "ipython3",
   "version": "3.8.3"
  },
  "widgets": {
   "application/vnd.jupyter.widget-state+json": {
    "state": {
     "1f1414f37dd942fc89da026c572dad22": {
      "model_module": "@jupyter-widgets/controls",
      "model_module_version": "1.5.0",
      "model_name": "VBoxModel",
      "state": {
       "_dom_classes": [
        "widget-interact"
       ],
       "children": [
        "IPY_MODEL_5734e74065834bdbbc5ce8cf34223d24",
        "IPY_MODEL_51f29be3662d45acb36ad3c67f34eac2"
       ],
       "layout": "IPY_MODEL_5c6bc892fc4d472699751927a1acea02"
      }
     },
     "4bc4bb20ea0244dbbedb9b227938adc5": {
      "model_module": "@jupyter-widgets/base",
      "model_module_version": "1.2.0",
      "model_name": "LayoutModel",
      "state": {}
     },
     "51f29be3662d45acb36ad3c67f34eac2": {
      "model_module": "@jupyter-widgets/output",
      "model_module_version": "1.0.0",
      "model_name": "OutputModel",
      "state": {
       "layout": "IPY_MODEL_bce82d43b65145b19bacd84889702772",
       "outputs": [
        {
         "data": {
          "image/png": "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\n",
          "text/plain": "<Figure size 1080x216 with 3 Axes>"
         },
         "metadata": {},
         "output_type": "display_data"
        }
       ]
      }
     },
     "5734e74065834bdbbc5ce8cf34223d24": {
      "model_module": "@jupyter-widgets/controls",
      "model_module_version": "1.5.0",
      "model_name": "IntSliderModel",
      "state": {
       "description": "x",
       "layout": "IPY_MODEL_4bc4bb20ea0244dbbedb9b227938adc5",
       "max": 5,
       "min": -5,
       "style": "IPY_MODEL_9183e3699c414c24a39df1cfa8521799"
      }
     },
     "5c6bc892fc4d472699751927a1acea02": {
      "model_module": "@jupyter-widgets/base",
      "model_module_version": "1.2.0",
      "model_name": "LayoutModel",
      "state": {}
     },
     "9183e3699c414c24a39df1cfa8521799": {
      "model_module": "@jupyter-widgets/controls",
      "model_module_version": "1.5.0",
      "model_name": "SliderStyleModel",
      "state": {
       "description_width": ""
      }
     },
     "bce82d43b65145b19bacd84889702772": {
      "model_module": "@jupyter-widgets/base",
      "model_module_version": "1.2.0",
      "model_name": "LayoutModel",
      "state": {}
     }
    },
    "version_major": 2,
    "version_minor": 0
   }
  }
 },
 "nbformat": 4,
 "nbformat_minor": 4
}
