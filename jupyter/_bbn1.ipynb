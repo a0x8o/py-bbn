{
 "cells": [
  {
   "cell_type": "markdown",
   "id": "57a89669",
   "metadata": {
    "collapsed": false
   },
   "source": [
    "# Simple Test, Ordering"
   ]
  },
  {
   "cell_type": "code",
   "execution_count": 1,
   "id": "9469d672",
   "metadata": {
    "ExecuteTime": {
     "end_time": "2023-06-09T20:23:36.272709Z",
     "start_time": "2023-06-09T20:23:36.147669Z"
    },
    "collapsed": false
   },
   "outputs": [],
   "source": [
    "from pybbn.graph.dag import Bbn\n",
    "from pybbn.graph.edge import Edge, EdgeType\n",
    "from pybbn.graph.node import BbnNode\n",
    "from pybbn.graph.variable import Variable\n",
    "\n",
    "def get_bbn():\n",
    "    a = BbnNode(Variable(0, 'a', ['on', 'off']), [0.2, 0.8])\n",
    "    b = BbnNode(Variable(1, 'b', ['on', 'off']), [0.8, 0.2])\n",
    "    c = BbnNode(Variable(2, 'c', ['on', 'off']), [0.7, 0.3, 0.2, 0.8, 0.6, 0.4, 0.6, 0.4])\n",
    "\n",
    "    bbn = Bbn() \\\n",
    "        .add_node(a) \\\n",
    "        .add_node(b) \\\n",
    "        .add_node(c) \\\n",
    "        .add_edge(Edge(a, c, EdgeType.DIRECTED)) \\\n",
    "        .add_edge(Edge(b, c, EdgeType.DIRECTED))\n",
    "\n",
    "    return bbn"
   ]
  },
  {
   "cell_type": "code",
   "execution_count": 2,
   "id": "e8895840",
   "metadata": {
    "ExecuteTime": {
     "end_time": "2023-06-09T20:23:36.275183Z",
     "start_time": "2023-06-09T20:23:36.273446Z"
    },
    "collapsed": false
   },
   "outputs": [],
   "source": [
    "bbn = get_bbn()"
   ]
  },
  {
   "cell_type": "code",
   "execution_count": 3,
   "id": "0ec6aff5-c0e1-44de-a479-62691fc3b77f",
   "metadata": {
    "ExecuteTime": {
     "end_time": "2023-06-09T20:23:36.279329Z",
     "start_time": "2023-06-09T20:23:36.275798Z"
    }
   },
   "outputs": [],
   "source": [
    "from pybbn.pptc.potentialinitializer import PotentialInitializer\n",
    "\n",
    "PotentialInitializer.init(bbn)"
   ]
  },
  {
   "cell_type": "code",
   "execution_count": null,
   "id": "e144e1ed",
   "metadata": {
    "collapsed": false
   },
   "outputs": [],
   "source": []
  }
 ],
 "metadata": {
  "kernelspec": {
   "display_name": "Python 3 (ipykernel)",
   "language": "python",
   "name": "python3"
  },
  "language_info": {
   "codemirror_mode": {
    "name": "ipython",
    "version": 3
   },
   "file_extension": ".py",
   "mimetype": "text/x-python",
   "name": "python",
   "nbconvert_exporter": "python",
   "pygments_lexer": "ipython3",
   "version": "3.9.16"
  },
  "widgets": {
   "application/vnd.jupyter.widget-state+json": {
    "state": {},
    "version_major": 2,
    "version_minor": 0
   }
  }
 },
 "nbformat": 4,
 "nbformat_minor": 5
}
