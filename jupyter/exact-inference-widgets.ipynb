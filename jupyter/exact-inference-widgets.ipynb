{
 "cells": [
  {
   "cell_type": "markdown",
   "metadata": {},
   "source": [
    "# Exact Inference with Widgets\n",
    "\n",
    "Here, we show a very simple example of how to observe the marginal posterior probabilities of each node given the state of one. We will use the Huang graph."
   ]
  },
  {
   "cell_type": "code",
   "execution_count": 1,
   "metadata": {},
   "outputs": [],
   "source": [
    "%matplotlib inline\n",
    "from pybbn.graph.dag import BbnUtil\n",
    "from pybbn.graph.jointree import EvidenceBuilder, EvidenceType\n",
    "from pybbn.pptc.inferencecontroller import InferenceController\n",
    "import pandas as pd\n",
    "import matplotlib.pyplot as plt\n",
    "import numpy as np\n",
    "from collections import namedtuple\n",
    "\n",
    "np.random.seed(37)\n",
    "plt.style.use('ggplot')\n",
    "Marginal = namedtuple('Marginal', 'name, s')\n",
    "\n",
    "def potential_to_series(p):\n",
    "    vals = []\n",
    "    index = []\n",
    "    \n",
    "    for pe in p.entries:\n",
    "        try:\n",
    "            v = pe.entries.values()[0]\n",
    "        except:\n",
    "            v = list(pe.entries.values())[0]\n",
    "        p = pe.value\n",
    "        \n",
    "        vals.append(p)\n",
    "        index.append(v)\n",
    "        \n",
    "    return pd.Series(vals, index=index)\n",
    "\n",
    "def get_marginals(join_tree):\n",
    "    data = []\n",
    "    for node in join_tree.get_bbn_nodes():\n",
    "        name = node.variable.name\n",
    "        s = potential_to_series(join_tree.get_bbn_potential(node))\n",
    "        t = Marginal(name, s)\n",
    "        data.append(t)\n",
    "    return data\n",
    "\n",
    "# get the pre-defined huang graph\n",
    "bbn = BbnUtil.get_huang_graph()\n",
    "\n",
    "# convert the BBN to a join tree\n",
    "join_tree = InferenceController.apply(bbn)"
   ]
  },
  {
   "cell_type": "code",
   "execution_count": 2,
   "metadata": {},
   "outputs": [
    {
     "data": {
      "application/vnd.jupyter.widget-view+json": {
       "model_id": "6a972149935843498e370e91d80e5062",
       "version_major": 2,
       "version_minor": 0
      },
      "text/plain": [
       "interactive(children=(Dropdown(description='a', options=(('unobserved', -1), ('off', 0), ('on', 1)), value=-1)…"
      ]
     },
     "metadata": {},
     "output_type": "display_data"
    }
   ],
   "source": [
    "import math\n",
    "from ipywidgets import interact\n",
    "\n",
    "@interact(a=[('unobserved', -1), ('off', 0), ('on', 1)])\n",
    "def f(a=-1):\n",
    "    n_cols = 4\n",
    "    n_rows = math.ceil(len(bbn.get_nodes()) / n_cols)\n",
    "    \n",
    "    if a == -1:\n",
    "        join_tree.unobserve_all()\n",
    "        marginals = get_marginals(join_tree)\n",
    "    else:\n",
    "        v = 'on' if a == 1 else 'off'\n",
    "        ev = EvidenceBuilder() \\\n",
    "            .with_node(join_tree.get_bbn_node_by_name('a')) \\\n",
    "            .with_evidence(v, 1.0) \\\n",
    "            .build()\n",
    "        join_tree.unobserve_all()\n",
    "        join_tree.set_observation(ev)\n",
    "        marginals = get_marginals(join_tree)\n",
    "        \n",
    "    marginals = sorted(marginals, key=lambda tup: tup[0])\n",
    "        \n",
    "    fig, axes = plt.subplots(n_rows, n_cols, figsize=(15, 5), sharey=True)\n",
    "    \n",
    "    for m, ax in zip(marginals, np.ravel(axes)):\n",
    "        m.s.plot(kind='bar', legend=False, ax=ax)\n",
    "        ax.set_title(m.name)\n",
    "        ax.set_ylim([0.0, 1.0])\n",
    "        ax.set_xlabel('')\n",
    "        \n",
    "    plt.tight_layout()"
   ]
  },
  {
   "cell_type": "code",
   "execution_count": null,
   "metadata": {},
   "outputs": [],
   "source": []
  }
 ],
 "metadata": {
  "kernelspec": {
   "display_name": "Python 3",
   "language": "python",
   "name": "python3"
  },
  "language_info": {
   "codemirror_mode": {
    "name": "ipython",
    "version": 3
   },
   "file_extension": ".py",
   "mimetype": "text/x-python",
   "name": "python",
   "nbconvert_exporter": "python",
   "pygments_lexer": "ipython3",
   "version": "3.8.3"
  },
  "widgets": {
   "application/vnd.jupyter.widget-state+json": {
    "state": {
     "1aa3daa2f2434ffd92059f38bfce895d": {
      "model_module": "@jupyter-widgets/base",
      "model_module_version": "1.2.0",
      "model_name": "LayoutModel",
      "state": {}
     },
     "1abae402d7f14e3d8dac96d737a099d1": {
      "model_module": "@jupyter-widgets/controls",
      "model_module_version": "1.5.0",
      "model_name": "DropdownModel",
      "state": {
       "_options_labels": [
        "unobserved",
        "off",
        "on"
       ],
       "description": "a",
       "index": 2,
       "layout": "IPY_MODEL_1aa3daa2f2434ffd92059f38bfce895d",
       "style": "IPY_MODEL_f078d58cf27946c4b2f3a21d431ff557"
      }
     },
     "585c12e39a5544e8b5279a20da62db15": {
      "model_module": "@jupyter-widgets/base",
      "model_module_version": "1.2.0",
      "model_name": "LayoutModel",
      "state": {}
     },
     "5ef80c0b900b4177997833d0ce9ac52e": {
      "model_module": "@jupyter-widgets/output",
      "model_module_version": "1.0.0",
      "model_name": "OutputModel",
      "state": {
       "layout": "IPY_MODEL_585c12e39a5544e8b5279a20da62db15",
       "outputs": [
        {
         "data": {
          "image/png": "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\n",
          "text/plain": "<Figure size 1080x360 with 8 Axes>"
         },
         "metadata": {},
         "output_type": "display_data"
        }
       ]
      }
     },
     "6a972149935843498e370e91d80e5062": {
      "model_module": "@jupyter-widgets/controls",
      "model_module_version": "1.5.0",
      "model_name": "VBoxModel",
      "state": {
       "_dom_classes": [
        "widget-interact"
       ],
       "children": [
        "IPY_MODEL_1abae402d7f14e3d8dac96d737a099d1",
        "IPY_MODEL_5ef80c0b900b4177997833d0ce9ac52e"
       ],
       "layout": "IPY_MODEL_b8a23406e41942168b84f411abbbd28c"
      }
     },
     "b8a23406e41942168b84f411abbbd28c": {
      "model_module": "@jupyter-widgets/base",
      "model_module_version": "1.2.0",
      "model_name": "LayoutModel",
      "state": {}
     },
     "f078d58cf27946c4b2f3a21d431ff557": {
      "model_module": "@jupyter-widgets/controls",
      "model_module_version": "1.5.0",
      "model_name": "DescriptionStyleModel",
      "state": {
       "description_width": ""
      }
     }
    },
    "version_major": 2,
    "version_minor": 0
   }
  }
 },
 "nbformat": 4,
 "nbformat_minor": 4
}
