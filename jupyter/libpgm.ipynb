{
 "cells": [
  {
   "cell_type": "markdown",
   "metadata": {},
   "source": [
    "# Intro\n",
    "\n",
    "This notebook is to demonstrate how to convert a [libpgm](https://github.com/CyberPoint/libpgm) discrete Bayesian Belief Network (BBN) into a py-bbn BBN one. The JSON data specified [here](https://pythonhosted.org/libpgm/unittestdict.html) is the example taken."
   ]
  },
  {
   "cell_type": "code",
   "execution_count": 1,
   "metadata": {
    "ExecuteTime": {
     "end_time": "2018-09-21T22:40:57.966451Z",
     "start_time": "2018-09-21T22:40:57.884084Z"
    }
   },
   "outputs": [],
   "source": [
    "json_data = {\n",
    "    \"V\": [\"Letter\", \"Grade\", \"Intelligence\", \"SAT\", \"Difficulty\"],\n",
    "    \"E\": [[\"Intelligence\", \"Grade\"],\n",
    "        [\"Difficulty\", \"Grade\"],\n",
    "        [\"Intelligence\", \"SAT\"],\n",
    "        [\"Grade\", \"Letter\"]],\n",
    "    \"Vdata\": {\n",
    "        \"Letter\": {\n",
    "            \"ord\": 4,\n",
    "            \"numoutcomes\": 2,\n",
    "            \"vals\": [\"weak\", \"strong\"],\n",
    "            \"parents\": [\"Grade\"],\n",
    "            \"children\": None,\n",
    "            \"cprob\": {\n",
    "                \"['A']\": [.1, .9],\n",
    "                \"['B']\": [.4, .6],\n",
    "                \"['C']\": [.99, .01]\n",
    "            }\n",
    "        },\n",
    "\n",
    "        \"SAT\": {\n",
    "            \"ord\": 3,\n",
    "            \"numoutcomes\": 2,\n",
    "            \"vals\": [\"lowscore\", \"highscore\"],\n",
    "            \"parents\": [\"Intelligence\"],\n",
    "            \"children\": None,\n",
    "            \"cprob\": {\n",
    "                \"['low']\": [.95, .05],\n",
    "                \"['high']\": [.2, .8]\n",
    "            }\n",
    "        },\n",
    "\n",
    "        \"Grade\": {\n",
    "            \"ord\": 2,\n",
    "            \"numoutcomes\": 3,\n",
    "            \"vals\": [\"A\", \"B\", \"C\"],\n",
    "            \"parents\": [\"Difficulty\", \"Intelligence\"],\n",
    "            \"children\": [\"Letter\"],\n",
    "            \"cprob\": {\n",
    "                \"['easy', 'low']\": [.3, .4, .3],\n",
    "                \"['easy', 'high']\": [.9, .08, .02],\n",
    "                \"['hard', 'low']\": [.05, .25, .7],\n",
    "                \"['hard', 'high']\": [.5, .3, .2]\n",
    "            }\n",
    "        },\n",
    "\n",
    "        \"Intelligence\": {\n",
    "            \"ord\": 1,\n",
    "            \"numoutcomes\": 2,\n",
    "            \"vals\": [\"low\", \"high\"],\n",
    "            \"parents\": None,\n",
    "            \"children\": [\"SAT\", \"Grade\"],\n",
    "            \"cprob\": [.7, .3]\n",
    "        },\n",
    "\n",
    "        \"Difficulty\": {\n",
    "            \"ord\": 0,\n",
    "            \"numoutcomes\": 2,\n",
    "            \"vals\": [\"easy\", \"hard\"],\n",
    "            \"parents\": None,\n",
    "            \"children\": [\"Grade\"],\n",
    "            \"cprob\":  [.6, .4]\n",
    "        }\n",
    "    }\n",
    "}"
   ]
  },
  {
   "cell_type": "markdown",
   "metadata": {},
   "source": [
    "Here we kludge how to build a libpgm discrete network. Note that libpgm requires node data and a skeleton. Since I could not find a factory method to read in from a dictionary or JSON string (they only show how to read the JSON data from a file), I took a look at the code and manually constructed a discrete BBN in libpgm. If the libpgm API changes, then this all might break too. "
   ]
  },
  {
   "cell_type": "code",
   "execution_count": 2,
   "metadata": {
    "ExecuteTime": {
     "end_time": "2018-09-21T22:40:57.986884Z",
     "start_time": "2018-09-21T22:40:57.971338Z"
    }
   },
   "outputs": [],
   "source": [
    "from libpgm.nodedata import NodeData\n",
    "from libpgm.graphskeleton import GraphSkeleton\n",
    "from libpgm.discretebayesiannetwork import DiscreteBayesianNetwork\n",
    "\n",
    "nd = NodeData()\n",
    "nd.Vdata = json_data[\"Vdata\"]\n",
    "\n",
    "skel = GraphSkeleton()\n",
    "skel.V = json_data[\"V\"]\n",
    "skel.E = json_data[\"E\"]\n",
    "skel.toporder()\n",
    "\n",
    "bn = DiscreteBayesianNetwork(skel, nd)"
   ]
  },
  {
   "cell_type": "markdown",
   "metadata": {},
   "source": [
    "After you have the libpgm BBN, you can use the `Factory` to create a py-bbn BBN and perform exact inference as follows."
   ]
  },
  {
   "cell_type": "code",
   "execution_count": 3,
   "metadata": {
    "ExecuteTime": {
     "end_time": "2018-09-21T22:40:58.009341Z",
     "start_time": "2018-09-21T22:40:57.992082Z"
    }
   },
   "outputs": [],
   "source": [
    "from pybbn.graph.dag import Bbn\n",
    "from pybbn.graph.jointree import EvidenceBuilder\n",
    "from pybbn.pptc.inferencecontroller import InferenceController\n",
    "from pybbn.graph.factory import Factory\n",
    "\n",
    "bbn = Factory.from_libpgm_discrete_object(bn)\n",
    "join_tree = InferenceController.apply(bbn)"
   ]
  },
  {
   "cell_type": "markdown",
   "metadata": {},
   "source": [
    "These are the marginal probabilities of each node."
   ]
  },
  {
   "cell_type": "code",
   "execution_count": 4,
   "metadata": {
    "ExecuteTime": {
     "end_time": "2018-09-21T22:40:58.026481Z",
     "start_time": "2018-09-21T22:40:58.014700Z"
    }
   },
   "outputs": [
    {
     "name": "stdout",
     "output_type": "stream",
     "text": [
      "0|Difficulty|easy,hard\n",
      "0=easy|0.6\n",
      "0=hard|0.4\n",
      ">\n",
      "1|Intelligence|low,high\n",
      "1=low|0.7\n",
      "1=high|0.3\n",
      ">\n",
      "2|Grade|A,B,C\n",
      "2=A|0.362\n",
      "2=B|0.2884\n",
      "2=C|0.3496\n",
      ">\n",
      "3|Letter|weak,strong\n",
      "3=weak|0.497664\n",
      "3=strong|0.502336\n",
      ">\n",
      "4|SAT|lowscore,highscore\n",
      "4=lowscore|0.725\n",
      "4=highscore|0.275\n",
      ">\n"
     ]
    }
   ],
   "source": [
    "# print the marginal probabilities\n",
    "for node in join_tree.get_bbn_nodes():\n",
    "    potential = join_tree.get_bbn_potential(node)\n",
    "    print(node)\n",
    "    print(potential)\n",
    "    print('>')"
   ]
  },
  {
   "cell_type": "markdown",
   "metadata": {},
   "source": [
    "These are the marginal probabilities given that we observe `SAT=highscore`."
   ]
  },
  {
   "cell_type": "code",
   "execution_count": 5,
   "metadata": {
    "ExecuteTime": {
     "end_time": "2018-09-21T22:40:58.045991Z",
     "start_time": "2018-09-21T22:40:58.031837Z"
    }
   },
   "outputs": [
    {
     "name": "stdout",
     "output_type": "stream",
     "text": [
      "0|Difficulty|easy,hard\n",
      "0=easy|0.6\n",
      "0=hard|0.4\n",
      ">\n",
      "1|Intelligence|low,high\n",
      "1=low|0.127272727273\n",
      "1=high|0.872727272727\n",
      ">\n",
      "2|Grade|A,B,C\n",
      "2=A|0.671272727273\n",
      "2=B|0.189890909091\n",
      "2=C|0.138836363636\n",
      ">\n",
      "3|Letter|weak,strong\n",
      "3=weak|0.280531636364\n",
      "3=strong|0.719468363636\n",
      ">\n",
      "4|SAT|lowscore,highscore\n",
      "4=lowscore|0.0\n",
      "4=highscore|1.0\n",
      ">\n"
     ]
    }
   ],
   "source": [
    "# insert an observation evidence\n",
    "ev = EvidenceBuilder() \\\n",
    "    .with_node(join_tree.get_bbn_node_by_name('SAT')) \\\n",
    "    .with_evidence('highscore', 1.0) \\\n",
    "    .build()\n",
    "join_tree.set_observation(ev)\n",
    "\n",
    "# print the marginal probabilities\n",
    "for node in join_tree.get_bbn_nodes():\n",
    "    potential = join_tree.get_bbn_potential(node)\n",
    "    print(node)\n",
    "    print(potential)\n",
    "    print('>')"
   ]
  },
  {
   "cell_type": "markdown",
   "metadata": {},
   "source": [
    "These are the marginal probabilities given that we observe `SAT=lowscore`."
   ]
  },
  {
   "cell_type": "code",
   "execution_count": 6,
   "metadata": {
    "ExecuteTime": {
     "end_time": "2018-09-21T22:40:58.067560Z",
     "start_time": "2018-09-21T22:40:58.051356Z"
    }
   },
   "outputs": [
    {
     "name": "stdout",
     "output_type": "stream",
     "text": [
      "0|Difficulty|easy,hard\n",
      "0=easy|0.6\n",
      "0=hard|0.4\n",
      ">\n",
      "1|Intelligence|low,high\n",
      "1=low|0.91724137931\n",
      "1=high|0.0827586206897\n",
      ">\n",
      "2|Grade|A,B,C\n",
      "2=A|0.244689655172\n",
      "2=B|0.325765517241\n",
      "2=C|0.429544827586\n",
      ">\n",
      "3|Letter|weak,strong\n",
      "3=weak|0.580024551724\n",
      "3=strong|0.419975448276\n",
      ">\n",
      "4|SAT|lowscore,highscore\n",
      "4=lowscore|1.0\n",
      "4=highscore|0.0\n",
      ">\n"
     ]
    }
   ],
   "source": [
    "# insert an observation evidence\n",
    "ev = EvidenceBuilder() \\\n",
    "    .with_node(join_tree.get_bbn_node_by_name('SAT')) \\\n",
    "    .with_evidence('lowscore', 1.0) \\\n",
    "    .build()\n",
    "join_tree.set_observation(ev)\n",
    "\n",
    "# print the marginal probabilities\n",
    "for node in join_tree.get_bbn_nodes():\n",
    "    potential = join_tree.get_bbn_potential(node)\n",
    "    print(node)\n",
    "    print(potential)\n",
    "    print('>')"
   ]
  },
  {
   "cell_type": "code",
   "execution_count": null,
   "metadata": {},
   "outputs": [],
   "source": []
  }
 ],
 "metadata": {
  "kernelspec": {
   "display_name": "py-bbn",
   "language": "python",
   "name": "py-bbn"
  },
  "language_info": {
   "codemirror_mode": {
    "name": "ipython",
    "version": 2
   },
   "file_extension": ".py",
   "mimetype": "text/x-python",
   "name": "python",
   "nbconvert_exporter": "python",
   "pygments_lexer": "ipython2",
   "version": "2.7.14"
  },
  "toc": {
   "nav_menu": {},
   "number_sections": true,
   "sideBar": true,
   "skip_h1_title": false,
   "title_cell": "Table of Contents",
   "title_sidebar": "Contents",
   "toc_cell": false,
   "toc_position": {},
   "toc_section_display": true,
   "toc_window_display": false
  },
  "varInspector": {
   "cols": {
    "lenName": 16,
    "lenType": 16,
    "lenVar": 40
   },
   "kernels_config": {
    "python": {
     "delete_cmd_postfix": "",
     "delete_cmd_prefix": "del ",
     "library": "var_list.py",
     "varRefreshCmd": "print(var_dic_list())"
    },
    "r": {
     "delete_cmd_postfix": ") ",
     "delete_cmd_prefix": "rm(",
     "library": "var_list.r",
     "varRefreshCmd": "cat(var_dic_list()) "
    }
   },
   "types_to_exclude": [
    "module",
    "function",
    "builtin_function_or_method",
    "instance",
    "_Feature"
   ],
   "window_display": false
  }
 },
 "nbformat": 4,
 "nbformat_minor": 2
}
