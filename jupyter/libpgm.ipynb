{
 "cells": [
  {
   "cell_type": "markdown",
   "metadata": {},
   "source": [
    "# Intro\n",
    "\n",
    "This notebook is to demonstrate how to convert a [libpgm](https://github.com/CyberPoint/libpgm) discrete Bayesian Belief Network (BBN) into a py-bbn BBN one. The JSON data specified [here](https://pythonhosted.org/libpgm/unittestdict.html) is the example taken."
   ]
  },
  {
   "cell_type": "code",
   "execution_count": 1,
   "metadata": {
    "ExecuteTime": {
     "end_time": "2018-11-21T00:33:30.548194Z",
     "start_time": "2018-11-21T00:33:30.487771Z"
    }
   },
   "outputs": [],
   "source": [
    "json_data = {\n",
    "    \"V\": [\"Letter\", \"Grade\", \"Intelligence\", \"SAT\", \"Difficulty\"],\n",
    "    \"E\": [[\"Difficulty\", \"Grade\"],\n",
    "        [\"Intelligence\", \"Grade\"],\n",
    "        [\"Intelligence\", \"SAT\"],\n",
    "        [\"Grade\", \"Letter\"]],\n",
    "    \"Vdata\": {\n",
    "        \"Letter\": {\n",
    "            \"ord\": 4,\n",
    "            \"numoutcomes\": 2,\n",
    "            \"vals\": [\"weak\", \"strong\"],\n",
    "            \"parents\": [\"Grade\"],\n",
    "            \"children\": None,\n",
    "            \"cprob\": {\n",
    "                \"['A']\": [.1, .9],\n",
    "                \"['B']\": [.4, .6],\n",
    "                \"['C']\": [.99, .01]\n",
    "            }\n",
    "        },\n",
    "\n",
    "        \"SAT\": {\n",
    "            \"ord\": 3,\n",
    "            \"numoutcomes\": 2,\n",
    "            \"vals\": [\"lowscore\", \"highscore\"],\n",
    "            \"parents\": [\"Intelligence\"],\n",
    "            \"children\": None,\n",
    "            \"cprob\": {\n",
    "                \"['low']\": [.95, .05],\n",
    "                \"['high']\": [.2, .8]\n",
    "            }\n",
    "        },\n",
    "\n",
    "        \"Grade\": {\n",
    "            \"ord\": 2,\n",
    "            \"numoutcomes\": 3,\n",
    "            \"vals\": [\"A\", \"B\", \"C\"],\n",
    "            \"parents\": [\"Difficulty\", \"Intelligence\"],\n",
    "            \"children\": [\"Letter\"],\n",
    "            \"cprob\": {\n",
    "                \"['easy', 'low']\": [.3, .4, .3],\n",
    "                \"['easy', 'high']\": [.9, .08, .02],\n",
    "                \"['hard', 'low']\": [.05, .25, .7],\n",
    "                \"['hard', 'high']\": [.5, .3, .2]\n",
    "            }\n",
    "        },\n",
    "\n",
    "        \"Intelligence\": {\n",
    "            \"ord\": 1,\n",
    "            \"numoutcomes\": 2,\n",
    "            \"vals\": [\"low\", \"high\"],\n",
    "            \"parents\": None,\n",
    "            \"children\": [\"SAT\", \"Grade\"],\n",
    "            \"cprob\": [.7, .3]\n",
    "        },\n",
    "\n",
    "        \"Difficulty\": {\n",
    "            \"ord\": 0,\n",
    "            \"numoutcomes\": 2,\n",
    "            \"vals\": [\"easy\", \"hard\"],\n",
    "            \"parents\": None,\n",
    "            \"children\": [\"Grade\"],\n",
    "            \"cprob\":  [.6, .4]\n",
    "        }\n",
    "    }\n",
    "}"
   ]
  },
  {
   "cell_type": "markdown",
   "metadata": {},
   "source": [
    "# Conversion\n",
    "\n",
    "~~Here we kludge how to build a libpgm discrete network. Note that libpgm requires node data and a skeleton. Since I could not find a factory method to read in from a dictionary or JSON string (they only show how to read the JSON data from a file), I took a look at the code and manually constructed a discrete BBN in libpgm. If the libpgm API changes, then this all might break too.~~\n",
    "\n",
    "Note that we do **NOT** support dependency on `libpgm` anymore since it is not Python 3.x compatible. You will have to get either the JSON string value or the dictionary representation to work with py-bbn. The culprit with libgpm is [this line here](https://github.com/CyberPoint/libpgm/blob/master/libpgm/discretebayesiannetwork.py#L87). After you have the JSON or dictionary specifying a libpgm BBN, you can use the `Factory` to create a py-bbn BBN and perform exact inference as follows."
   ]
  },
  {
   "cell_type": "code",
   "execution_count": 2,
   "metadata": {
    "ExecuteTime": {
     "end_time": "2018-11-21T00:33:31.063773Z",
     "start_time": "2018-11-21T00:33:30.553168Z"
    }
   },
   "outputs": [],
   "source": [
    "from pybbn.graph.dag import Bbn\n",
    "from pybbn.graph.jointree import EvidenceBuilder\n",
    "from pybbn.pptc.inferencecontroller import InferenceController\n",
    "from pybbn.graph.factory import Factory\n",
    "\n",
    "bbn = Factory.from_libpgm_discrete_dictionary(json_data)"
   ]
  },
  {
   "cell_type": "markdown",
   "metadata": {},
   "source": [
    "You may also visualize the directed acylic graph (DAG) of the BBN through [networkx](https://networkx.github.io/)."
   ]
  },
  {
   "cell_type": "code",
   "execution_count": 3,
   "metadata": {
    "ExecuteTime": {
     "end_time": "2018-11-21T00:33:31.442256Z",
     "start_time": "2018-11-21T00:33:31.070117Z"
    }
   },
   "outputs": [
    {
     "data": {
      "image/png": "[encoded data removed]",
      "text/plain": [
       "<Figure size 720x576 with 1 Axes>"
      ]
     },
     "metadata": {},
     "output_type": "display_data"
    }
   ],
   "source": [
    "%matplotlib inline\n",
    "\n",
    "import matplotlib.pyplot as plt\n",
    "import networkx as nx\n",
    "import warnings\n",
    "\n",
    "with warnings.catch_warnings():\n",
    "    warnings.simplefilter('ignore')\n",
    "    \n",
    "    nx_graph, labels = bbn.to_nx_graph()\n",
    "    pos = nx.nx_agraph.graphviz_layout(nx_graph, prog='neato')\n",
    "\n",
    "    plt.figure(figsize=(10, 8))\n",
    "    plt.subplot(121) \n",
    "    nx.draw(\n",
    "        nx_graph, \n",
    "        pos=pos, \n",
    "        with_labels=True, \n",
    "        labels=labels,\n",
    "        arrowsize=15,\n",
    "        edge_color='k',\n",
    "        width=2.0,\n",
    "        style='dash',\n",
    "        font_size=13,\n",
    "        font_weight='normal',\n",
    "        node_size=100)\n",
    "    plt.title('libpgm BBN DAG')"
   ]
  },
  {
   "cell_type": "markdown",
   "metadata": {},
   "source": [
    "# Inference\n",
    "\n",
    "Now, create a join tree."
   ]
  },
  {
   "cell_type": "code",
   "execution_count": 4,
   "metadata": {
    "ExecuteTime": {
     "end_time": "2018-11-21T00:33:31.454510Z",
     "start_time": "2018-11-21T00:33:31.447045Z"
    }
   },
   "outputs": [],
   "source": [
    "join_tree = InferenceController.apply(bbn)"
   ]
  },
  {
   "cell_type": "markdown",
   "metadata": {},
   "source": [
    "Here, we visualize the marginal probabilities without observations and with different observations."
   ]
  },
  {
   "cell_type": "code",
   "execution_count": 5,
   "metadata": {
    "ExecuteTime": {
     "end_time": "2018-11-21T00:33:31.679373Z",
     "start_time": "2018-11-21T00:33:31.459468Z"
    }
   },
   "outputs": [],
   "source": [
    "import pandas as pd\n",
    "\n",
    "def potential_to_df(p):\n",
    "    data = []\n",
    "    for pe in p.entries:\n",
    "        try:\n",
    "            v = pe.entries.values()[0]\n",
    "        except:\n",
    "            v = list(pe.entries.values())[0]\n",
    "        p = pe.value\n",
    "        t = (v, p)\n",
    "        data.append(t)\n",
    "    return pd.DataFrame(data, columns=['val', 'p'])\n",
    "\n",
    "def potentials_to_dfs(join_tree):\n",
    "    data = []\n",
    "    for node in join_tree.get_bbn_nodes():\n",
    "        name = node.variable.name\n",
    "        df = potential_to_df(join_tree.get_bbn_potential(node))\n",
    "        t = (name, df)\n",
    "        data.append(t)\n",
    "    return data\n",
    "\n",
    "marginal_dfs = potentials_to_dfs(join_tree)\n",
    "\n",
    "# insert an observation evidence for when SAT=highscore\n",
    "ev = EvidenceBuilder() \\\n",
    "    .with_node(join_tree.get_bbn_node_by_name('SAT')) \\\n",
    "    .with_evidence('highscore', 1.0) \\\n",
    "    .build()\n",
    "join_tree.unobserve_all()\n",
    "join_tree.set_observation(ev)\n",
    "\n",
    "sat_high_dfs = potentials_to_dfs(join_tree)\n",
    "\n",
    "# insert an observation evidence for when SAT=lowscore\n",
    "ev = EvidenceBuilder() \\\n",
    "    .with_node(join_tree.get_bbn_node_by_name('SAT')) \\\n",
    "    .with_evidence('lowscore', 1.0) \\\n",
    "    .build()\n",
    "join_tree.unobserve_all()\n",
    "join_tree.set_observation(ev)\n",
    "\n",
    "sat_low_dfs = potentials_to_dfs(join_tree)\n",
    "\n",
    "# merge all dataframes so we can visualize then side-by-side\n",
    "all_dfs = []\n",
    "for i in range(len(marginal_dfs)):\n",
    "    all_dfs.append(marginal_dfs[i])\n",
    "    all_dfs.append(sat_high_dfs[i])\n",
    "    all_dfs.append(sat_low_dfs[i])"
   ]
  },
  {
   "cell_type": "markdown",
   "metadata": {},
   "source": [
    "Plot the marginal probabilities.\n",
    "\n",
    "* The first column are the marginal probabilities without any observations.\n",
    "* The second column are the marginal probabiliities with SAT=highscore.\n",
    "* The third column are the marginal probabilites with SAT=lowscore."
   ]
  },
  {
   "cell_type": "code",
   "execution_count": 6,
   "metadata": {
    "ExecuteTime": {
     "end_time": "2018-11-21T00:33:33.324958Z",
     "start_time": "2018-11-21T00:33:31.685459Z"
    }
   },
   "outputs": [
    {
     "data": {
      "image/png": "[encoded data removed]",
      "text/plain": [
       "<Figure size 1080x1440 with 15 Axes>"
      ]
     },
     "metadata": {
      "needs_background": "light"
     },
     "output_type": "display_data"
    }
   ],
   "source": [
    "import numpy as np\n",
    "\n",
    "fig, axes = plt.subplots(len(marginal_dfs), 3, figsize=(15, 20), sharey=True)\n",
    "for i, ax in enumerate(np.ravel(axes)):\n",
    "    all_dfs[i][1].plot.bar(x='val', y='p', legend=False, ax=ax)\n",
    "    ax.set_title(all_dfs[i][0])\n",
    "    ax.set_ylim([0.0, 1.0])\n",
    "    ax.set_xlabel('')\n",
    "plt.tight_layout()"
   ]
  },
  {
   "cell_type": "code",
   "execution_count": null,
   "metadata": {},
   "outputs": [],
   "source": []
  }
 ],
 "metadata": {
  "kernelspec": {
   "display_name": "Python 3",
   "language": "python",
   "name": "python3"
  },
  "language_info": {
   "codemirror_mode": {
    "name": "ipython",
    "version": 3
   },
   "file_extension": ".py",
   "mimetype": "text/x-python",
   "name": "python",
   "nbconvert_exporter": "python",
   "pygments_lexer": "ipython3",
   "version": "3.7.3"
  },
  "toc": {
   "nav_menu": {},
   "number_sections": true,
   "sideBar": true,
   "skip_h1_title": false,
   "title_cell": "Table of Contents",
   "title_sidebar": "Contents",
   "toc_cell": false,
   "toc_position": {},
   "toc_section_display": true,
   "toc_window_display": false
  },
  "varInspector": {
   "cols": {
    "lenName": 16,
    "lenType": 16,
    "lenVar": 40
   },
   "kernels_config": {
    "python": {
     "delete_cmd_postfix": "",
     "delete_cmd_prefix": "del ",
     "library": "var_list.py",
     "varRefreshCmd": "print(var_dic_list())"
    },
    "r": {
     "delete_cmd_postfix": ") ",
     "delete_cmd_prefix": "rm(",
     "library": "var_list.r",
     "varRefreshCmd": "cat(var_dic_list()) "
    }
   },
   "types_to_exclude": [
    "module",
    "function",
    "builtin_function_or_method",
    "instance",
    "_Feature"
   ],
   "window_display": false
  }
 },
 "nbformat": 4,
 "nbformat_minor": 4
}
