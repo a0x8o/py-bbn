{
 "cells": [
  {
   "cell_type": "markdown",
   "metadata": {},
   "source": [
    "# Purpose: demonstrate approximate inference"
   ]
  },
  {
   "cell_type": "markdown",
   "metadata": {},
   "source": [
    "## Simple example with known parameters and structure\n",
    "This example creates two variables with defined parameters (means and covariances) and structure."
   ]
  },
  {
   "cell_type": "code",
   "execution_count": 1,
   "metadata": {
    "ExecuteTime": {
     "end_time": "2018-11-20T06:40:27.203371Z",
     "start_time": "2018-11-20T06:40:24.484192Z"
    }
   },
   "outputs": [
    {
     "name": "stdout",
     "output_type": "stream",
     "text": [
      "[ 0.0332189  25.26909024]\n",
      "[ 1.         27.01627047]\n",
      "[-2.16060132 20.        ]\n"
     ]
    }
   ],
   "source": [
    "import numpy as np\n",
    "from pybbn.lg.graph import Dag, Parameters, Bbn\n",
    "\n",
    "# create the directed acylic graph\n",
    "dag = Dag()\n",
    "dag.add_node(0)\n",
    "dag.add_node(1)\n",
    "dag.add_edge(0, 1)\n",
    "\n",
    "# create parameters\n",
    "means = np.array([0, 25])\n",
    "cov = np.array([\n",
    "    [1.09, 1.95],\n",
    "    [1.95, 4.52]\n",
    "])\n",
    "params = Parameters(means, cov)\n",
    "\n",
    "# create the bayesian belief network\n",
    "bbn = Bbn(dag, params, max_samples=2000, max_iters=10)\n",
    "\n",
    "# do the inference\n",
    "s = bbn.do_inference()\n",
    "print(s)\n",
    "\n",
    "# set the evidence on node 0 to a value of 1\n",
    "bbn.set_evidence(0, 1)\n",
    "s = bbn.do_inference()\n",
    "print(s)\n",
    "bbn.clear_evidences()\n",
    "\n",
    "# set the evidence on node 1 to a value of 20\n",
    "bbn.set_evidence(1, 20)\n",
    "s = bbn.do_inference()\n",
    "print(s)\n",
    "bbn.clear_evidences()"
   ]
  },
  {
   "cell_type": "markdown",
   "metadata": {},
   "source": [
    "## Example with learned parameters and known structure\n",
    "This example simulates data and then computes the means and covariances to be used as the parameter input. The structure is given according to the equations (relationships below)."
   ]
  },
  {
   "cell_type": "code",
   "execution_count": 2,
   "metadata": {
    "ExecuteTime": {
     "end_time": "2018-11-20T06:40:27.432635Z",
     "start_time": "2018-11-20T06:40:27.208724Z"
    }
   },
   "outputs": [],
   "source": [
    "import numpy as np\n",
    "import pandas as pd"
   ]
  },
  {
   "cell_type": "code",
   "execution_count": 3,
   "metadata": {
    "ExecuteTime": {
     "end_time": "2018-11-20T06:40:27.448073Z",
     "start_time": "2018-11-20T06:40:27.437264Z"
    }
   },
   "outputs": [],
   "source": [
    "np.random.seed(37)\n",
    "num_samples = 1000\n",
    "x1 = np.random.normal(0, 1, num_samples)\n",
    "x2 = np.random.normal(2, 2, num_samples)\n",
    "x3 = 1.0 + 0.8 * x1 + 0.2 * x2 + np.random.normal(0, 1, num_samples)\n",
    "x4 = 0.9 * x3 + np.random.normal(0, 1, num_samples)\n",
    "df = pd.DataFrame({\n",
    "    'x1': x1,\n",
    "    'x2': x2,\n",
    "    'x3': x3,\n",
    "    'x4': x4\n",
    "})"
   ]
  },
  {
   "cell_type": "code",
   "execution_count": 4,
   "metadata": {
    "ExecuteTime": {
     "end_time": "2018-11-20T06:40:28.062629Z",
     "start_time": "2018-11-20T06:40:27.452332Z"
    }
   },
   "outputs": [
    {
     "name": "stdout",
     "output_type": "stream",
     "text": [
      "means: [0.01277839 1.96783059 1.39369055 1.25516026]\n",
      "cov: [[ 0.9634615  -0.00742708  0.75799913  0.60274112]\n",
      " [-0.00742708  3.91462611  0.67076612  0.52561797]\n",
      " [ 0.75799913  0.67076612  1.6807885   1.39650737]\n",
      " [ 0.60274112  0.52561797  1.39650737  2.15634038]]\n",
      "inferences\n",
      "[0.42325496 0.59982193 1.60298985 1.44507415]\n",
      "[ 0.05810657 -0.31001876  1.          1.62701067]\n",
      "[-0.14791773  1.23639539  1.03236433  0.5       ]\n",
      "[0.         2.28747974 0.5        0.99549776]\n"
     ]
    }
   ],
   "source": [
    "dag = Dag()\n",
    "dag.add_node(0)\n",
    "dag.add_node(1)\n",
    "dag.add_node(2)\n",
    "dag.add_node(3)\n",
    "dag.add_edge(0, 2)\n",
    "dag.add_edge(1, 2)\n",
    "dag.add_edge(2, 3)\n",
    "\n",
    "# create parameters\n",
    "means = np.array(list(df.mean()))\n",
    "cov = df.cov().values\n",
    "params = Parameters(means, cov)\n",
    "\n",
    "print('means: {}'.format(means))\n",
    "print('cov: {}'.format(cov))\n",
    "\n",
    "# create the bayesian belief network\n",
    "bbn = Bbn(dag, params, max_samples=2000, max_iters=1)\n",
    "\n",
    "# do the inference\n",
    "print('inferences')\n",
    "print(bbn.do_inference())\n",
    "\n",
    "bbn.set_evidence(2, 1.0)\n",
    "print(bbn.do_inference())\n",
    "bbn.clear_evidences()\n",
    "\n",
    "bbn.set_evidence(3, 0.5)\n",
    "print(bbn.do_inference())\n",
    "bbn.clear_evidences()\n",
    "\n",
    "bbn.set_evidence(0, 0)\n",
    "bbn.set_evidence(2, 0.5)\n",
    "print(bbn.do_inference())\n",
    "bbn.clear_evidences()"
   ]
  },
  {
   "cell_type": "markdown",
   "metadata": {},
   "source": [
    "## Example with learned parameters and learned structure\n",
    "This is a simple example of learning the parameters (as before above) and structure using a simple maximum-weight spanning tree algorithm. Note that arc-orientation is simply the order given to it.\n",
    "\n",
    "```\n",
    "True model\n",
    "\n",
    "x1 --> x3 <-- x2\n",
    "        --> x4\n",
    "\n",
    "Learned model (arc commission error with x1 --> x2, arc omission error with x2 --> x3)\n",
    "x1 --> x3 --> x4\n",
    "--> X2\n",
    "```"
   ]
  },
  {
   "cell_type": "code",
   "execution_count": 5,
   "metadata": {
    "ExecuteTime": {
     "end_time": "2018-11-20T06:40:28.082818Z",
     "start_time": "2018-11-20T06:40:28.067053Z"
    }
   },
   "outputs": [],
   "source": [
    "def to_edge_list(df):\n",
    "    data = []\n",
    "    corr_matrix = df.corr().values\n",
    "    num_vars = corr_matrix.shape[0]\n",
    "    for i in range(num_vars):\n",
    "        for j in range(num_vars):\n",
    "            if j > i:\n",
    "                t = (i, j, abs(corr_matrix[i, j]))\n",
    "                data.append(t)\n",
    "    return data\n",
    "\n",
    "def learn_structure(num_vars, edge_list):\n",
    "    # add all nodes\n",
    "    dag = Dag()\n",
    "    for i in range(num_vars):\n",
    "        dag.add_node(i)\n",
    "    \n",
    "    # add edges using maximum weight spanning tree algorithm\n",
    "    for edge in edge_list:\n",
    "        try:\n",
    "            dag.add_edge(edge[0], edge[1])\n",
    "        except ValueError:\n",
    "            pass\n",
    "        if len(dag.g.edges()) == num_vars - 1:\n",
    "            break\n",
    "    \n",
    "    return dag"
   ]
  },
  {
   "cell_type": "code",
   "execution_count": 6,
   "metadata": {
    "ExecuteTime": {
     "end_time": "2018-11-20T06:40:28.094926Z",
     "start_time": "2018-11-20T06:40:28.087674Z"
    }
   },
   "outputs": [
    {
     "name": "stdout",
     "output_type": "stream",
     "text": [
      "[(2, 3, 0.7335471611852428), (0, 2, 0.5956552726580833), (0, 3, 0.4181720299771823), (1, 2, 0.2614986442653267), (1, 3, 0.18091159589992045), (0, 1, 0.003824331204180586)]\n"
     ]
    }
   ],
   "source": [
    "edge_list = sorted(to_edge_list(df), key=lambda tup: tup[2], reverse=True)\n",
    "print(edge_list)"
   ]
  },
  {
   "cell_type": "code",
   "execution_count": 7,
   "metadata": {
    "ExecuteTime": {
     "end_time": "2018-11-20T06:40:28.104160Z",
     "start_time": "2018-11-20T06:40:28.099384Z"
    }
   },
   "outputs": [],
   "source": [
    "dag = learn_structure(df.shape[1], edge_list)"
   ]
  },
  {
   "cell_type": "code",
   "execution_count": 8,
   "metadata": {
    "ExecuteTime": {
     "end_time": "2018-11-20T06:40:28.125856Z",
     "start_time": "2018-11-20T06:40:28.108778Z"
    }
   },
   "outputs": [
    {
     "data": {
      "text/plain": [
       "NodeView((0, 1, 2, 3))"
      ]
     },
     "execution_count": 8,
     "metadata": {},
     "output_type": "execute_result"
    }
   ],
   "source": [
    "dag.g.nodes()"
   ]
  },
  {
   "cell_type": "code",
   "execution_count": 9,
   "metadata": {
    "ExecuteTime": {
     "end_time": "2018-11-20T06:40:28.139898Z",
     "start_time": "2018-11-20T06:40:28.130561Z"
    }
   },
   "outputs": [
    {
     "data": {
      "text/plain": [
       "OutEdgeView([(0, 2), (0, 3), (2, 3)])"
      ]
     },
     "execution_count": 9,
     "metadata": {},
     "output_type": "execute_result"
    }
   ],
   "source": [
    "dag.g.edges()"
   ]
  },
  {
   "cell_type": "code",
   "execution_count": 10,
   "metadata": {
    "ExecuteTime": {
     "end_time": "2018-11-20T06:40:33.868818Z",
     "start_time": "2018-11-20T06:40:28.144416Z"
    }
   },
   "outputs": [
    {
     "name": "stdout",
     "output_type": "stream",
     "text": [
      "inferences\n",
      "[0.15692099 2.02323104 1.20253379 0.68633235]\n",
      "[0.16455135 2.04344398 1.58716291 1.54695888]\n",
      "[-0.40148508  1.7410963   1.          0.89846984]\n",
      "[-0.13812888  1.82528758  1.          1.04290391]\n",
      "[-0.05246594  1.91217844  0.94784875  0.5       ]\n",
      "[-0.08299282  1.15588197  0.97860861  0.5       ]\n",
      "[0.         0.67440068 0.5        0.505206  ]\n",
      "[0.         1.56564444 0.5        0.50222223]\n"
     ]
    }
   ],
   "source": [
    "# create the bayesian belief network\n",
    "bbn = Bbn(dag, params, max_samples=1000, max_iters=10)\n",
    "\n",
    "# do the inference\n",
    "print('inferences')\n",
    "print(bbn.do_inference())\n",
    "print(bbn.do_inference())\n",
    "\n",
    "bbn.set_evidence(2, 1.0)\n",
    "print(bbn.do_inference())\n",
    "print(bbn.do_inference())\n",
    "bbn.clear_evidences()\n",
    "\n",
    "bbn.set_evidence(3, 0.5)\n",
    "print(bbn.do_inference())\n",
    "print(bbn.do_inference())\n",
    "bbn.clear_evidences()\n",
    "\n",
    "bbn.set_evidence(0, 0)\n",
    "bbn.set_evidence(2, 0.5)\n",
    "print(bbn.do_inference())\n",
    "print(bbn.do_inference())\n",
    "bbn.clear_evidences()"
   ]
  },
  {
   "cell_type": "code",
   "execution_count": null,
   "metadata": {},
   "outputs": [],
   "source": []
  }
 ],
 "metadata": {
  "kernelspec": {
   "display_name": "Python 3",
   "language": "python",
   "name": "python3"
  },
  "language_info": {
   "codemirror_mode": {
    "name": "ipython",
    "version": 3
   },
   "file_extension": ".py",
   "mimetype": "text/x-python",
   "name": "python",
   "nbconvert_exporter": "python",
   "pygments_lexer": "ipython3",
   "version": "3.7.3"
  },
  "toc": {
   "nav_menu": {},
   "number_sections": true,
   "sideBar": true,
   "skip_h1_title": false,
   "title_cell": "Table of Contents",
   "title_sidebar": "Contents",
   "toc_cell": false,
   "toc_position": {},
   "toc_section_display": true,
   "toc_window_display": false
  },
  "varInspector": {
   "cols": {
    "lenName": 16,
    "lenType": 16,
    "lenVar": 40
   },
   "kernels_config": {
    "python": {
     "delete_cmd_postfix": "",
     "delete_cmd_prefix": "del ",
     "library": "var_list.py",
     "varRefreshCmd": "print(var_dic_list())"
    },
    "r": {
     "delete_cmd_postfix": ") ",
     "delete_cmd_prefix": "rm(",
     "library": "var_list.r",
     "varRefreshCmd": "cat(var_dic_list()) "
    }
   },
   "types_to_exclude": [
    "module",
    "function",
    "builtin_function_or_method",
    "instance",
    "_Feature"
   ],
   "window_display": false
  }
 },
 "nbformat": 4,
 "nbformat_minor": 2
}
