{
 "cells": [
  {
   "cell_type": "markdown",
   "metadata": {},
   "source": [
    "# Purpose: demonstrate approximate inference"
   ]
  },
  {
   "cell_type": "markdown",
   "metadata": {},
   "source": [
    "## Simple example with known parameters and structure\n",
    "This example creates two variables with defined parameters (means and covariances) and structure."
   ]
  },
  {
   "cell_type": "code",
   "execution_count": 1,
   "metadata": {
    "ExecuteTime": {
     "end_time": "2018-11-20T06:40:27.203371Z",
     "start_time": "2018-11-20T06:40:24.484192Z"
    }
   },
   "outputs": [
    {
     "name": "stdout",
     "output_type": "stream",
     "text": [
      "[ 0 25]\n",
      "[ 1 26]\n",
      "[-2 20]\n"
     ]
    }
   ],
   "source": [
    "import numpy as np\n",
    "from pybbn.lg.graph import Dag, Parameters, Bbn\n",
    "\n",
    "# create the directed acylic graph\n",
    "dag = Dag()\n",
    "dag.add_node(0)\n",
    "dag.add_node(1)\n",
    "dag.add_edge(0, 1)\n",
    "\n",
    "# create parameters\n",
    "means = np.array([0, 25])\n",
    "cov = np.array([\n",
    "    [1.09, 1.95],\n",
    "    [1.95, 4.52]\n",
    "])\n",
    "params = Parameters(means, cov)\n",
    "\n",
    "# create the bayesian belief network\n",
    "bbn = Bbn(dag, params)\n",
    "\n",
    "# do the inference\n",
    "M, S = bbn.do_inference()\n",
    "print(M)\n",
    "\n",
    "# set the evidence on node 0 to a value of 1\n",
    "bbn.set_evidence(0, 1)\n",
    "M, S = bbn.do_inference()\n",
    "print(M)\n",
    "bbn.clear_evidences()\n",
    "\n",
    "# set the evidence on node 1 to a value of 20\n",
    "bbn.set_evidence(1, 20)\n",
    "M, S = bbn.do_inference()\n",
    "print(M)\n",
    "bbn.clear_evidences()"
   ]
  },
  {
   "cell_type": "markdown",
   "metadata": {},
   "source": [
    "## Example with learned parameters and known structure\n",
    "This example simulates data and then computes the means and covariances to be used as the parameter input. The structure is given as follows.\n",
    "\n",
    "* $X_1 \\rightarrow X_3$\n",
    "* $X_2 \\rightarrow X_3$\n",
    "* $X_3 \\rightarrow X_4$\n",
    "\n",
    "The data is sampled as follows.\n",
    "\n",
    "* $X_1 \\sim \\mathcal{N}(0, 1)$\n",
    "* $X_2 \\sim \\mathcal{N}(2, 2)$\n",
    "* $X_3 \\sim \\mathcal{N}(1.0 + 0.8 X_1 + 0.2 X_2, 1)$\n",
    "* $X_4 \\sim \\mathcal{N}(0.9 X_3, 1)$"
   ]
  },
  {
   "cell_type": "code",
   "execution_count": 2,
   "metadata": {
    "ExecuteTime": {
     "end_time": "2018-11-20T06:40:27.432635Z",
     "start_time": "2018-11-20T06:40:27.208724Z"
    }
   },
   "outputs": [],
   "source": [
    "import numpy as np\n",
    "from numpy.random import normal\n",
    "import pandas as pd"
   ]
  },
  {
   "cell_type": "code",
   "execution_count": 3,
   "metadata": {
    "ExecuteTime": {
     "end_time": "2018-11-20T06:40:27.448073Z",
     "start_time": "2018-11-20T06:40:27.437264Z"
    }
   },
   "outputs": [],
   "source": [
    "np.random.seed(37)\n",
    "N = 1000\n",
    "x1 = normal(0, 1, N)\n",
    "x2 = normal(2, 2, N)\n",
    "x3 = normal(1.0 + 0.8 * x1 + 0.2 * x2, 1, N)\n",
    "x4 = normal(0.9 * x3, 1, N)\n",
    "df = pd.DataFrame({\n",
    "    'x1': x1,\n",
    "    'x2': x2,\n",
    "    'x3': x3,\n",
    "    'x4': x4\n",
    "})"
   ]
  },
  {
   "cell_type": "code",
   "execution_count": 4,
   "metadata": {
    "ExecuteTime": {
     "end_time": "2018-11-20T06:40:28.062629Z",
     "start_time": "2018-11-20T06:40:27.452332Z"
    }
   },
   "outputs": [
    {
     "name": "stdout",
     "output_type": "stream",
     "text": [
      "means: [0.01277839 1.96783059 1.39369055 1.25516026]\n",
      "cov: [[ 0.9634615  -0.00742708  0.75799913  0.60274112]\n",
      " [-0.00742708  3.91462611  0.67076612  0.52561797]\n",
      " [ 0.75799913  0.67076612  1.6807885   1.39650737]\n",
      " [ 0.60274112  0.52561797  1.39650737  2.15634038]]\n",
      "doing inference with and without evidence\n",
      ">\n",
      "means: [0.01277839 1.96783059 1.39369055 1.25516026]\n",
      "cov: [[ 0.9634615  -0.00742708  0.75799913  0.60274112]\n",
      " [-0.00742708  3.91462611  0.67076612  0.52561797]\n",
      " [ 0.75799913  0.67076612  1.6807885   1.39650737]\n",
      " [ 0.60274112  0.52561797  1.39650737  2.15634038]]\n",
      ">\n",
      "means: [-0.16476751  1.81071726  1.          0.92805679]\n",
      "cov: [[ 0.62162034 -0.30992804  0.75799913 -0.02705339]\n",
      " [-0.30992804  3.64693794  0.67076612 -0.03169774]\n",
      " [ 0.75799913  0.67076612  0.01        1.39650737]\n",
      " [-0.02705339 -0.03169774  1.39650737  0.99603208]]\n",
      ">\n",
      "means: [-0.19830431  1.78375677  0.90462728  0.5       ]\n",
      "cov: [[ 0.79498306 -0.15434802  0.36764683  0.60274112]\n",
      " [-0.15434802  3.78650429  0.33036097  0.52561797]\n",
      " [ 0.36764683  0.33036097  0.7763706   1.39650737]\n",
      " [ 0.60274112  0.52561797  1.39650737  0.01      ]]\n",
      ">\n",
      "means: [0.         1.41660362 0.5        0.49564031]\n",
      "cov: [[ 0.01       -0.00742708  0.75799913  0.60274112]\n",
      " [-0.00742708  3.49241374  0.67076612 -0.04518604]\n",
      " [ 0.75799913  0.67076612  0.01        1.39650737]\n",
      " [ 0.60274112 -0.04518604  1.39650737  0.9948547 ]]\n"
     ]
    }
   ],
   "source": [
    "dag = Dag()\n",
    "dag.add_node(0)\n",
    "dag.add_node(1)\n",
    "dag.add_node(2)\n",
    "dag.add_node(3)\n",
    "dag.add_edge(0, 2)\n",
    "dag.add_edge(1, 2)\n",
    "dag.add_edge(2, 3)\n",
    "\n",
    "# create parameters\n",
    "means = np.array(list(df.mean()))\n",
    "cov = df.cov().values\n",
    "params = Parameters(means, cov)\n",
    "\n",
    "print('means: {}'.format(means))\n",
    "print('cov: {}'.format(cov))\n",
    "\n",
    "# create the bayesian belief network\n",
    "bbn = Bbn(dag, params)\n",
    "\n",
    "# do the inference\n",
    "print('doing inference with and without evidence')\n",
    "M, C = bbn.do_inference()\n",
    "print('>')\n",
    "print('means: {}'.format(M))\n",
    "print('cov: {}'.format(C))\n",
    "\n",
    "bbn.set_evidence(2, 1.0)\n",
    "M, C = bbn.do_inference()\n",
    "print('>')\n",
    "print('means: {}'.format(M))\n",
    "print('cov: {}'.format(C))\n",
    "bbn.clear_evidences()\n",
    "\n",
    "bbn.set_evidence(3, 0.5)\n",
    "M, C = bbn.do_inference()\n",
    "print('>')\n",
    "print('means: {}'.format(M))\n",
    "print('cov: {}'.format(C))\n",
    "bbn.clear_evidences()\n",
    "\n",
    "bbn.set_evidence(0, 0)\n",
    "bbn.set_evidence(2, 0.5)\n",
    "M, C = bbn.do_inference()\n",
    "print('>')\n",
    "print('means: {}'.format(M))\n",
    "print('cov: {}'.format(C))\n",
    "bbn.clear_evidences()"
   ]
  },
  {
   "cell_type": "markdown",
   "metadata": {},
   "source": [
    "## Example with learned parameters and learned structure\n",
    "This is a simple example of learning the parameters (as before above) and structure using a simple maximum-weight spanning tree algorithm. Note that arc-orientation is simply the order given to it.\n",
    "\n",
    "True Model\n",
    "\n",
    "* $X_1 \\rightarrow X_3$\n",
    "* $X_2 \\rightarrow X_3$\n",
    "* $X_3 \\rightarrow X_4$\n",
    "\n",
    "Learned Model: arc commission error with $X_1 \\rightarrow X_2$, arc omission error with $X_2 \\rightarrow X_3$\n",
    "\n",
    "* $X_1 \\rightarrow X_3$\n",
    "* $X_1 \\rightarrow X_2$\n",
    "* $X_3 \\rightarrow X_4$"
   ]
  },
  {
   "cell_type": "code",
   "execution_count": 5,
   "metadata": {
    "ExecuteTime": {
     "end_time": "2018-11-20T06:40:28.082818Z",
     "start_time": "2018-11-20T06:40:28.067053Z"
    }
   },
   "outputs": [],
   "source": [
    "def to_edge_list(df):\n",
    "    data = []\n",
    "    corr_matrix = df.corr().values\n",
    "    num_vars = corr_matrix.shape[0]\n",
    "    for i in range(num_vars):\n",
    "        for j in range(num_vars):\n",
    "            if j > i:\n",
    "                t = (i, j, abs(corr_matrix[i, j]))\n",
    "                data.append(t)\n",
    "    return data\n",
    "\n",
    "def learn_structure(num_vars, edge_list):\n",
    "    # add all nodes\n",
    "    dag = Dag()\n",
    "    for i in range(num_vars):\n",
    "        dag.add_node(i)\n",
    "    \n",
    "    # add edges using maximum weight spanning tree algorithm\n",
    "    for edge in edge_list:\n",
    "        try:\n",
    "            dag.add_edge(edge[0], edge[1])\n",
    "        except ValueError:\n",
    "            pass\n",
    "        if len(dag.g.edges()) == num_vars - 1:\n",
    "            break\n",
    "    \n",
    "    return dag"
   ]
  },
  {
   "cell_type": "code",
   "execution_count": 6,
   "metadata": {
    "ExecuteTime": {
     "end_time": "2018-11-20T06:40:28.094926Z",
     "start_time": "2018-11-20T06:40:28.087674Z"
    }
   },
   "outputs": [
    {
     "name": "stdout",
     "output_type": "stream",
     "text": [
      "[(2, 3, 0.7335471611852428), (0, 2, 0.5956552726580833), (0, 3, 0.4181720299771823), (1, 2, 0.2614986442653267), (1, 3, 0.18091159589992045), (0, 1, 0.003824331204180586)]\n"
     ]
    }
   ],
   "source": [
    "edge_list = sorted(to_edge_list(df), key=lambda tup: tup[2], reverse=True)\n",
    "print(edge_list)"
   ]
  },
  {
   "cell_type": "code",
   "execution_count": 7,
   "metadata": {
    "ExecuteTime": {
     "end_time": "2018-11-20T06:40:28.104160Z",
     "start_time": "2018-11-20T06:40:28.099384Z"
    }
   },
   "outputs": [],
   "source": [
    "dag = learn_structure(df.shape[1], edge_list)"
   ]
  },
  {
   "cell_type": "code",
   "execution_count": 8,
   "metadata": {
    "ExecuteTime": {
     "end_time": "2018-11-20T06:40:28.125856Z",
     "start_time": "2018-11-20T06:40:28.108778Z"
    }
   },
   "outputs": [
    {
     "data": {
      "text/plain": [
       "NodeView((0, 1, 2, 3))"
      ]
     },
     "execution_count": 8,
     "metadata": {},
     "output_type": "execute_result"
    }
   ],
   "source": [
    "dag.g.nodes()"
   ]
  },
  {
   "cell_type": "code",
   "execution_count": 9,
   "metadata": {
    "ExecuteTime": {
     "end_time": "2018-11-20T06:40:28.139898Z",
     "start_time": "2018-11-20T06:40:28.130561Z"
    }
   },
   "outputs": [
    {
     "data": {
      "text/plain": [
       "OutEdgeView([(0, 2), (0, 3), (2, 3)])"
      ]
     },
     "execution_count": 9,
     "metadata": {},
     "output_type": "execute_result"
    }
   ],
   "source": [
    "dag.g.edges()"
   ]
  },
  {
   "cell_type": "code",
   "execution_count": 10,
   "metadata": {
    "ExecuteTime": {
     "end_time": "2018-11-20T06:40:33.868818Z",
     "start_time": "2018-11-20T06:40:28.144416Z"
    }
   },
   "outputs": [
    {
     "name": "stdout",
     "output_type": "stream",
     "text": [
      "inferences\n",
      "means: [0.01277839 1.96783059 1.39369055 1.25516026]\n",
      "cov: [[ 0.9634615  -0.00742708  0.75799913  0.60274112]\n",
      " [-0.00742708  3.91462611  0.67076612  0.52561797]\n",
      " [ 0.75799913  0.67076612  1.6807885   1.39650737]\n",
      " [ 0.60274112  0.52561797  1.39650737  2.15634038]]\n",
      ">\n",
      "means: [-0.16476751  1.81071726  1.          0.92805679]\n",
      "cov: [[ 0.62162034 -0.30992804  0.75799913 -0.02705339]\n",
      " [-0.30992804  3.64693794  0.67076612 -0.03169774]\n",
      " [ 0.75799913  0.67076612  0.01        1.39650737]\n",
      " [-0.02705339 -0.03169774  1.39650737  0.99603208]]\n",
      ">\n",
      "means: [-0.19830431  1.78375677  0.90462728  0.5       ]\n",
      "cov: [[ 0.79498306 -0.15434802  0.36764683  0.60274112]\n",
      " [-0.15434802  3.78650429  0.33036097  0.52561797]\n",
      " [ 0.36764683  0.33036097  0.7763706   1.39650737]\n",
      " [ 0.60274112  0.52561797  1.39650737  0.01      ]]\n",
      ">\n",
      "means: [0.         1.41660362 0.5        0.49564031]\n",
      "cov: [[ 0.01       -0.00742708  0.75799913  0.60274112]\n",
      " [-0.00742708  3.49241374  0.67076612 -0.04518604]\n",
      " [ 0.75799913  0.67076612  0.01        1.39650737]\n",
      " [ 0.60274112 -0.04518604  1.39650737  0.9948547 ]]\n"
     ]
    }
   ],
   "source": [
    "# create the bayesian belief network\n",
    "bbn = Bbn(dag, params)\n",
    "\n",
    "# do the inference\n",
    "print('inferences')\n",
    "M, C = bbn.do_inference()\n",
    "print('means: {}'.format(M))\n",
    "print('cov: {}'.format(C))\n",
    "\n",
    "bbn.set_evidence(2, 1.0)\n",
    "M, C = bbn.do_inference()\n",
    "print('>')\n",
    "print('means: {}'.format(M))\n",
    "print('cov: {}'.format(C))\n",
    "bbn.clear_evidences()\n",
    "\n",
    "bbn.set_evidence(3, 0.5)\n",
    "M, C = bbn.do_inference()\n",
    "print('>')\n",
    "print('means: {}'.format(M))\n",
    "print('cov: {}'.format(C))\n",
    "bbn.clear_evidences()\n",
    "\n",
    "bbn.set_evidence(0, 0)\n",
    "bbn.set_evidence(2, 0.5)\n",
    "M, C = bbn.do_inference()\n",
    "print('>')\n",
    "print('means: {}'.format(M))\n",
    "print('cov: {}'.format(C))\n",
    "bbn.clear_evidences()"
   ]
  },
  {
   "cell_type": "code",
   "execution_count": null,
   "metadata": {},
   "outputs": [],
   "source": []
  }
 ],
 "metadata": {
  "kernelspec": {
   "display_name": "Python 3",
   "language": "python",
   "name": "python3"
  },
  "language_info": {
   "codemirror_mode": {
    "name": "ipython",
    "version": 3
   },
   "file_extension": ".py",
   "mimetype": "text/x-python",
   "name": "python",
   "nbconvert_exporter": "python",
   "pygments_lexer": "ipython3",
   "version": "3.7.3"
  },
  "toc": {
   "nav_menu": {},
   "number_sections": true,
   "sideBar": true,
   "skip_h1_title": false,
   "title_cell": "Table of Contents",
   "title_sidebar": "Contents",
   "toc_cell": false,
   "toc_position": {},
   "toc_section_display": true,
   "toc_window_display": false
  },
  "varInspector": {
   "cols": {
    "lenName": 16,
    "lenType": 16,
    "lenVar": 40
   },
   "kernels_config": {
    "python": {
     "delete_cmd_postfix": "",
     "delete_cmd_prefix": "del ",
     "library": "var_list.py",
     "varRefreshCmd": "print(var_dic_list())"
    },
    "r": {
     "delete_cmd_postfix": ") ",
     "delete_cmd_prefix": "rm(",
     "library": "var_list.r",
     "varRefreshCmd": "cat(var_dic_list()) "
    }
   },
   "types_to_exclude": [
    "module",
    "function",
    "builtin_function_or_method",
    "instance",
    "_Feature"
   ],
   "window_display": false
  }
 },
 "nbformat": 4,
 "nbformat_minor": 4
}
