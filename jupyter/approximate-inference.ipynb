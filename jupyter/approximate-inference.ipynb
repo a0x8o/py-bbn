{
 "cells": [
  {
   "cell_type": "markdown",
   "metadata": {},
   "source": [
    "# Example use of approximate inference"
   ]
  },
  {
   "cell_type": "markdown",
   "metadata": {},
   "source": [
    "## Simple example with known parameters and structure\n",
    "This example creates two variables with defined parameters (means and covariances) and structure."
   ]
  },
  {
   "cell_type": "code",
   "execution_count": 1,
   "metadata": {
    "ExecuteTime": {
     "end_time": "2018-04-05T19:26:11.067000Z",
     "start_time": "2018-04-05T19:26:05.719000Z"
    },
    "collapsed": false
   },
   "outputs": [
    {
     "name": "stdout",
     "output_type": "stream",
     "text": [
      "[  0.18227442  25.36295423]\n",
      "[  1.          26.57041145]\n",
      "[ -2.14476163  20.        ]\n"
     ]
    }
   ],
   "source": [
    "import numpy as np\n",
    "from pybbn.lg.graph import Dag, Parameters, Bbn\n",
    "\n",
    "# create the directed acylic graph\n",
    "dag = Dag()\n",
    "dag.add_node(0)\n",
    "dag.add_node(1)\n",
    "dag.add_edge(0, 1)\n",
    "\n",
    "# create parameters\n",
    "means = np.array([0, 25])\n",
    "cov = np.array([\n",
    "    [1.09, 1.95],\n",
    "    [1.95, 4.52]\n",
    "])\n",
    "params = Parameters(means, cov)\n",
    "\n",
    "# create the bayesian belief network\n",
    "bbn = Bbn(dag, params, max_samples=2000, max_iters=10)\n",
    "\n",
    "# do the inference\n",
    "s = bbn.do_inference()\n",
    "print(s)\n",
    "\n",
    "# set the evidence on node 0 to a value of 1\n",
    "bbn.set_evidence(0, 1)\n",
    "s = bbn.do_inference()\n",
    "print(s)\n",
    "bbn.clear_evidences()\n",
    "\n",
    "# set the evidence on node 1 to a value of 20\n",
    "bbn.set_evidence(1, 20)\n",
    "s = bbn.do_inference()\n",
    "print(s)\n",
    "bbn.clear_evidences()"
   ]
  },
  {
   "cell_type": "markdown",
   "metadata": {},
   "source": [
    "## Example with learned parameters and known structure\n",
    "This example simulates data and then computes the means and covariances to be used as the parameter input. The structure is given according to the equations (relationships below)."
   ]
  },
  {
   "cell_type": "code",
   "execution_count": 2,
   "metadata": {
    "ExecuteTime": {
     "end_time": "2018-04-05T19:26:11.741000Z",
     "start_time": "2018-04-05T19:26:11.073000Z"
    },
    "collapsed": true
   },
   "outputs": [],
   "source": [
    "import numpy as np\n",
    "import pandas as pd"
   ]
  },
  {
   "cell_type": "code",
   "execution_count": 3,
   "metadata": {
    "ExecuteTime": {
     "end_time": "2018-04-05T19:26:11.783000Z",
     "start_time": "2018-04-05T19:26:11.772000Z"
    },
    "collapsed": true
   },
   "outputs": [],
   "source": [
    "np.random.seed(37)\n",
    "num_samples = 1000\n",
    "x1 = np.random.normal(0, 1, num_samples)\n",
    "x2 = np.random.normal(2, 2, num_samples)\n",
    "x3 = 1.0 + 0.8 * x1 + 0.2 * x2 + np.random.normal(0, 1, num_samples)\n",
    "x4 = 0.9 * x3 + np.random.normal(0, 1, num_samples)\n",
    "df = pd.DataFrame({\n",
    "    'x1': x1,\n",
    "    'x2': x2,\n",
    "    'x3': x3,\n",
    "    'x4': x4\n",
    "})"
   ]
  },
  {
   "cell_type": "code",
   "execution_count": 4,
   "metadata": {
    "ExecuteTime": {
     "end_time": "2018-04-05T19:26:13.316000Z",
     "start_time": "2018-04-05T19:26:11.786000Z"
    },
    "collapsed": false
   },
   "outputs": [
    {
     "name": "stdout",
     "output_type": "stream",
     "text": [
      "means: [ 0.01277839  1.96783059  1.39369055  1.25516026]\n",
      "cov: [[ 0.9634615  -0.00742708  0.75799913  0.60274112]\n",
      " [-0.00742708  3.91462611  0.67076612  0.52561797]\n",
      " [ 0.75799913  0.67076612  1.6807885   1.39650737]\n",
      " [ 0.60274112  0.52561797  1.39650737  2.15634038]]\n",
      "inferences\n",
      "[ 0.2060931   0.40840429  1.25992867  1.25852948]\n",
      "[ 0.2371301  -0.14964969  1.          1.9266015 ]\n",
      "[-0.09024823  1.28663246  1.50583216  0.5       ]\n",
      "[ 0.          2.83917092  0.5         1.76692396]\n"
     ]
    }
   ],
   "source": [
    "dag = Dag()\n",
    "dag.add_node(0)\n",
    "dag.add_node(1)\n",
    "dag.add_node(2)\n",
    "dag.add_node(3)\n",
    "dag.add_edge(0, 2)\n",
    "dag.add_edge(1, 2)\n",
    "dag.add_edge(2, 3)\n",
    "\n",
    "# create parameters\n",
    "means = np.array(list(df.mean()))\n",
    "cov = df.cov().as_matrix()\n",
    "params = Parameters(means, cov)\n",
    "\n",
    "print('means: {}'.format(means))\n",
    "print('cov: {}'.format(cov))\n",
    "\n",
    "# create the bayesian belief network\n",
    "bbn = Bbn(dag, params, max_samples=2000, max_iters=1)\n",
    "\n",
    "# do the inference\n",
    "print('inferences')\n",
    "print(bbn.do_inference())\n",
    "\n",
    "bbn.set_evidence(2, 1.0)\n",
    "print(bbn.do_inference())\n",
    "bbn.clear_evidences()\n",
    "\n",
    "bbn.set_evidence(3, 0.5)\n",
    "print(bbn.do_inference())\n",
    "bbn.clear_evidences()\n",
    "\n",
    "bbn.set_evidence(0, 0)\n",
    "bbn.set_evidence(2, 0.5)\n",
    "print(bbn.do_inference())\n",
    "bbn.clear_evidences()"
   ]
  },
  {
   "cell_type": "markdown",
   "metadata": {},
   "source": [
    "## Example with learned parameters and learned structure\n",
    "This is a simple example of learning the parameters (as before above) and structure using a simple maximum-weight spanning tree algorithm. Note that arc-orientation is simply the order given to it.\n",
    "\n",
    "```\n",
    "True model\n",
    "\n",
    "x1 --> x3 <-- x2\n",
    "        --> x4\n",
    "\n",
    "Learned model (arc commission error with x1 --> x2, arc omission error with x2 --> x3)\n",
    "x1 --> x3 --> x4\n",
    "--> X2\n",
    "```"
   ]
  },
  {
   "cell_type": "code",
   "execution_count": 5,
   "metadata": {
    "ExecuteTime": {
     "end_time": "2018-04-05T19:26:13.338000Z",
     "start_time": "2018-04-05T19:26:13.319000Z"
    },
    "collapsed": false
   },
   "outputs": [],
   "source": [
    "def to_edge_list(df):\n",
    "    data = []\n",
    "    corr_matrix = df.corr().as_matrix()\n",
    "    num_vars = corr_matrix.shape[0]\n",
    "    for i in range(num_vars):\n",
    "        for j in range(num_vars):\n",
    "            if j > i:\n",
    "                t = (i, j, abs(corr_matrix[i, j]))\n",
    "                data.append(t)\n",
    "    return data\n",
    "\n",
    "def learn_structure(num_vars, edge_list):\n",
    "    # add all nodes\n",
    "    dag = Dag()\n",
    "    for i in range(num_vars):\n",
    "        dag.add_node(i)\n",
    "    \n",
    "    # add edges using maximum weight spanning tree algorithm\n",
    "    for edge in edge_list:\n",
    "        try:\n",
    "            dag.add_edge(edge[0], edge[1])\n",
    "        except ValueError:\n",
    "            pass\n",
    "        if len(dag.g.edges()) == num_vars - 1:\n",
    "            break\n",
    "    \n",
    "    return dag"
   ]
  },
  {
   "cell_type": "code",
   "execution_count": 6,
   "metadata": {
    "ExecuteTime": {
     "end_time": "2018-04-05T19:26:13.374000Z",
     "start_time": "2018-04-05T19:26:13.343000Z"
    },
    "collapsed": false
   },
   "outputs": [
    {
     "name": "stdout",
     "output_type": "stream",
     "text": [
      "[(2, 3, 0.73354716118524277), (0, 2, 0.59565527265808327), (0, 3, 0.41817202997718228), (1, 2, 0.26149864426532671), (1, 3, 0.18091159589992045), (0, 1, 0.0038243312041805859)]\n"
     ]
    }
   ],
   "source": [
    "edge_list = sorted(to_edge_list(df), key=lambda tup: tup[2], reverse=True)\n",
    "print(edge_list)"
   ]
  },
  {
   "cell_type": "code",
   "execution_count": 7,
   "metadata": {
    "ExecuteTime": {
     "end_time": "2018-04-05T19:26:13.392000Z",
     "start_time": "2018-04-05T19:26:13.379000Z"
    },
    "collapsed": true
   },
   "outputs": [],
   "source": [
    "dag = learn_structure(df.shape[1], edge_list)"
   ]
  },
  {
   "cell_type": "code",
   "execution_count": 8,
   "metadata": {
    "ExecuteTime": {
     "end_time": "2018-04-05T19:26:13.425000Z",
     "start_time": "2018-04-05T19:26:13.397000Z"
    },
    "collapsed": false
   },
   "outputs": [
    {
     "data": {
      "text/plain": [
       "NodeView((0, 1, 2, 3))"
      ]
     },
     "execution_count": 8,
     "metadata": {},
     "output_type": "execute_result"
    }
   ],
   "source": [
    "dag.g.nodes()"
   ]
  },
  {
   "cell_type": "code",
   "execution_count": 9,
   "metadata": {
    "ExecuteTime": {
     "end_time": "2018-04-05T19:26:13.437000Z",
     "start_time": "2018-04-05T19:26:13.429000Z"
    },
    "collapsed": false
   },
   "outputs": [
    {
     "data": {
      "text/plain": [
       "OutEdgeView([(0, 2), (0, 3), (2, 3)])"
      ]
     },
     "execution_count": 9,
     "metadata": {},
     "output_type": "execute_result"
    }
   ],
   "source": [
    "dag.g.edges()"
   ]
  },
  {
   "cell_type": "code",
   "execution_count": 10,
   "metadata": {
    "ExecuteTime": {
     "end_time": "2018-04-05T19:26:14.941000Z",
     "start_time": "2018-04-05T19:26:13.442000Z"
    },
    "collapsed": false
   },
   "outputs": [
    {
     "name": "stdout",
     "output_type": "stream",
     "text": [
      "inferences\n",
      "[-0.03146513  3.44373984  1.79802554  2.29983531]\n",
      "[ 0.85057795  1.29158838  1.          1.57588289]\n",
      "[-0.09626051 -0.96793936  1.24475772  0.5       ]\n",
      "[ 0.          1.64944539  0.5         0.68017128]\n"
     ]
    }
   ],
   "source": [
    "# create the bayesian belief network\n",
    "bbn = Bbn(dag, params, max_samples=2000, max_iters=1)\n",
    "\n",
    "# do the inference\n",
    "print('inferences')\n",
    "print(bbn.do_inference())\n",
    "\n",
    "bbn.set_evidence(2, 1.0)\n",
    "print(bbn.do_inference())\n",
    "bbn.clear_evidences()\n",
    "\n",
    "bbn.set_evidence(3, 0.5)\n",
    "print(bbn.do_inference())\n",
    "bbn.clear_evidences()\n",
    "\n",
    "bbn.set_evidence(0, 0)\n",
    "bbn.set_evidence(2, 0.5)\n",
    "print(bbn.do_inference())\n",
    "bbn.clear_evidences()"
   ]
  },
  {
   "cell_type": "code",
   "execution_count": null,
   "metadata": {
    "collapsed": true
   },
   "outputs": [],
   "source": []
  }
 ],
 "metadata": {
  "kernelspec": {
   "display_name": "Python 2",
   "language": "python",
   "name": "python2"
  },
  "language_info": {
   "codemirror_mode": {
    "name": "ipython",
    "version": 2
   },
   "file_extension": ".py",
   "mimetype": "text/x-python",
   "name": "python",
   "nbconvert_exporter": "python",
   "pygments_lexer": "ipython2",
   "version": "2.7.13"
  }
 },
 "nbformat": 4,
 "nbformat_minor": 2
}
