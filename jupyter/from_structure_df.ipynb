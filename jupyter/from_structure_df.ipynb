{
 "cells": [
  {
   "cell_type": "code",
   "execution_count": 1,
   "id": "tight-orlando",
   "metadata": {},
   "outputs": [],
   "source": [
    "from pybbn.graph.dag import Bbn\n",
    "from pybbn.graph.edge import Edge, EdgeType\n",
    "from pybbn.graph.node import BbnNode\n",
    "from pybbn.graph.variable import Variable\n",
    "from pybbn.sampling.sampling import LogicSampler\n",
    "\n",
    "a = BbnNode(Variable(0, 'a', ['on', 'off']), [0.5, 0.5])\n",
    "b = BbnNode(Variable(1, 'b', ['on', 'off']), [0.5, 0.5, 0.4, 0.6])\n",
    "c = BbnNode(Variable(2, 'c', ['on', 'off']), [0.7, 0.3, 0.2, 0.8])\n",
    "\n",
    "bbn = Bbn() \\\n",
    "    .add_node(a) \\\n",
    "    .add_node(b) \\\n",
    "    .add_node(c) \\\n",
    "    .add_edge(Edge(a, b, EdgeType.DIRECTED)) \\\n",
    "    .add_edge(Edge(b, c, EdgeType.DIRECTED))\n",
    "\n",
    "sampler = LogicSampler(bbn)\n",
    "samples = sampler.get_samples(n_samples=10000, seed=37)"
   ]
  },
  {
   "cell_type": "code",
   "execution_count": 2,
   "id": "foreign-auckland",
   "metadata": {},
   "outputs": [],
   "source": [
    "import pandas as pd\n",
    "\n",
    "i2n = {n.variable.id: n.variable.name for n in  bbn.get_nodes()}\n",
    "samples = pd.DataFrame(samples).rename(columns=i2n)"
   ]
  },
  {
   "cell_type": "code",
   "execution_count": 3,
   "id": "gorgeous-navigation",
   "metadata": {},
   "outputs": [
    {
     "data": {
      "text/plain": [
       "{'a': ['off', 'on'], 'b': ['off', 'on'], 'c': ['off', 'on']}"
      ]
     },
     "execution_count": 3,
     "metadata": {},
     "output_type": "execute_result"
    }
   ],
   "source": [
    "def get_profile(df):\n",
    "    profile = {}\n",
    "    for c in df.columns:\n",
    "        values = sorted(list(df[c].value_counts().index))\n",
    "        profile[c] = values\n",
    "    return profile\n",
    "\n",
    "n2v = {n.variable.name: sorted(n.variable.values) for n in  bbn.get_nodes()}\n",
    "n2v = get_profile(samples)\n",
    "n2v"
   ]
  },
  {
   "cell_type": "code",
   "execution_count": 4,
   "id": "flexible-phoenix",
   "metadata": {},
   "outputs": [
    {
     "data": {
      "text/plain": [
       "(10000, 3)"
      ]
     },
     "execution_count": 4,
     "metadata": {},
     "output_type": "execute_result"
    }
   ],
   "source": [
    "samples.shape"
   ]
  },
  {
   "cell_type": "code",
   "execution_count": 5,
   "id": "romance-minority",
   "metadata": {},
   "outputs": [
    {
     "data": {
      "text/html": [
       "<div>\n",
       "<style scoped>\n",
       "    .dataframe tbody tr th:only-of-type {\n",
       "        vertical-align: middle;\n",
       "    }\n",
       "\n",
       "    .dataframe tbody tr th {\n",
       "        vertical-align: top;\n",
       "    }\n",
       "\n",
       "    .dataframe thead th {\n",
       "        text-align: right;\n",
       "    }\n",
       "</style>\n",
       "<table border=\"1\" class=\"dataframe\">\n",
       "  <thead>\n",
       "    <tr style=\"text-align: right;\">\n",
       "      <th></th>\n",
       "      <th>a</th>\n",
       "      <th>b</th>\n",
       "      <th>c</th>\n",
       "    </tr>\n",
       "  </thead>\n",
       "  <tbody>\n",
       "    <tr>\n",
       "      <th>0</th>\n",
       "      <td>off</td>\n",
       "      <td>off</td>\n",
       "      <td>on</td>\n",
       "    </tr>\n",
       "    <tr>\n",
       "      <th>1</th>\n",
       "      <td>off</td>\n",
       "      <td>off</td>\n",
       "      <td>off</td>\n",
       "    </tr>\n",
       "    <tr>\n",
       "      <th>2</th>\n",
       "      <td>on</td>\n",
       "      <td>off</td>\n",
       "      <td>off</td>\n",
       "    </tr>\n",
       "    <tr>\n",
       "      <th>3</th>\n",
       "      <td>off</td>\n",
       "      <td>off</td>\n",
       "      <td>off</td>\n",
       "    </tr>\n",
       "    <tr>\n",
       "      <th>4</th>\n",
       "      <td>on</td>\n",
       "      <td>off</td>\n",
       "      <td>off</td>\n",
       "    </tr>\n",
       "  </tbody>\n",
       "</table>\n",
       "</div>"
      ],
      "text/plain": [
       "     a    b    c\n",
       "0  off  off   on\n",
       "1  off  off  off\n",
       "2   on  off  off\n",
       "3  off  off  off\n",
       "4   on  off  off"
      ]
     },
     "execution_count": 5,
     "metadata": {},
     "output_type": "execute_result"
    }
   ],
   "source": [
    "samples.head()"
   ]
  },
  {
   "cell_type": "code",
   "execution_count": 6,
   "id": "hollywood-context",
   "metadata": {},
   "outputs": [],
   "source": [
    "parents = {\n",
    "    'a': [],\n",
    "    'b': ['a'],\n",
    "    'c': ['b']\n",
    "}"
   ]
  },
  {
   "cell_type": "code",
   "execution_count": 7,
   "id": "coated-artist",
   "metadata": {},
   "outputs": [
    {
     "data": {
      "text/plain": [
       "{'a': 0, 'b': 1, 'c': 2}"
      ]
     },
     "execution_count": 7,
     "metadata": {},
     "output_type": "execute_result"
    }
   ],
   "source": [
    "import networkx as nx\n",
    "from networkx.algorithms.dag import topological_sort\n",
    "\n",
    "def get_n2i(parents):\n",
    "    g = nx.DiGraph()\n",
    "    for k in parents:\n",
    "        g.add_node(k)\n",
    "    for ch, pas in parents.items():\n",
    "        for pa in pas:\n",
    "            g.add_edge(pa, ch)\n",
    "    nodes = list(topological_sort(g))\n",
    "    return {n:i for i, n in enumerate(nodes)}\n",
    "\n",
    "n2i = get_n2i(parents)\n",
    "n2i"
   ]
  },
  {
   "cell_type": "code",
   "execution_count": 8,
   "id": "hollywood-anderson",
   "metadata": {},
   "outputs": [
    {
     "name": "stdout",
     "output_type": "stream",
     "text": [
      "[0.4985, 0.5015]\n",
      "[0.6082246740220663, 0.3917753259779338, 0.4925224327018943, 0.5074775672981057]\n",
      "[0.7928026172300982, 0.20719738276990188, 0.302134281903068, 0.697865718096932]\n"
     ]
    }
   ],
   "source": [
    "from itertools import product\n",
    "\n",
    "def get_cpt(name, parents, n2v, df):\n",
    "    parents = sorted(parents)\n",
    "    n2v = {k: sorted(v) for k, v in n2v.items()}\n",
    "    \n",
    "    n = df.shape[0]\n",
    "    \n",
    "    cpts = []\n",
    "    if len(parents) == 0:\n",
    "        for v in n2v[name]:\n",
    "            c = df[df[name] == v].shape[0]\n",
    "            p = c / n\n",
    "            cpts.append(p)\n",
    "    else:\n",
    "        domains = [(n, d) for n, d in n2v.items() if n in parents]\n",
    "        domains = sorted(domains, key=lambda tup: tup[0])\n",
    "        domain_names = [tup[0] for tup in domains]\n",
    "        domain_values = [tup[1] for tup in domains]\n",
    "        domains = list(product(*domain_values))\n",
    "        \n",
    "        for values in domains:\n",
    "            probs = []\n",
    "            denom_q = ' and '.join([f'{n}==\"{v}\"' for n, v in zip(domain_names, values)])\n",
    "            for v in n2v[name]:\n",
    "                numer_q = f'{name}==\"{v}\" and {denom_q}'\n",
    "            \n",
    "                numer = df.query(numer_q).shape[0] / n\n",
    "                denom = df.query(denom_q).shape[0] / n\n",
    "                prob = numer / denom\n",
    "                probs.append(prob)\n",
    "            probs = pd.Series(probs)\n",
    "            probs = probs / probs.sum()\n",
    "            probs = list(probs)\n",
    "            cpts.extend(probs)\n",
    "        \n",
    "    return cpts\n",
    "\n",
    "print(get_cpt('a', parents['a'], n2v, samples))\n",
    "print(get_cpt('b', parents['b'], n2v, samples))\n",
    "print(get_cpt('c', parents['c'], n2v, samples))"
   ]
  },
  {
   "cell_type": "code",
   "execution_count": 9,
   "id": "moved-bumper",
   "metadata": {},
   "outputs": [],
   "source": [
    "def get_bbn(parents, df):\n",
    "    n2v = get_profile(df)\n",
    "    n2i = get_n2i(df)\n",
    "    n2c = {n: get_cpt(n, parents[n], n2v, df) for n in parents}\n",
    "    \n",
    "    bbn = Bbn()\n",
    "    \n",
    "    nodes = {}\n",
    "    for name in n2v:\n",
    "        idx = n2i[name]\n",
    "        values = n2v[name]\n",
    "        cpts = n2c[name]\n",
    "        \n",
    "        v = Variable(idx, name, values)\n",
    "        node = BbnNode(v, cpts)\n",
    "        nodes[name] = node\n",
    "        bbn.add_node(node)\n",
    "        \n",
    "    for ch, parents in parents.items():\n",
    "        ch_node = nodes[ch]\n",
    "        for pa in parents:\n",
    "            pa_node = nodes[pa]\n",
    "            \n",
    "            edge = Edge(pa_node, ch_node, EdgeType.DIRECTED)\n",
    "            bbn.add_edge(edge)\n",
    "        \n",
    "    return bbn\n",
    "        \n",
    "    \n",
    "bbn1 = get_bbn(parents, samples)"
   ]
  },
  {
   "cell_type": "code",
   "execution_count": 10,
   "id": "collectible-decimal",
   "metadata": {},
   "outputs": [],
   "source": [
    "n, d = bbn1.to_nx_graph()"
   ]
  },
  {
   "cell_type": "code",
   "execution_count": 11,
   "id": "blond-japan",
   "metadata": {},
   "outputs": [
    {
     "data": {
      "image/png": "[encoded data removed]",
      "text/plain": [
       "<Figure size 432x288 with 1 Axes>"
      ]
     },
     "metadata": {},
     "output_type": "display_data"
    }
   ],
   "source": [
    "nx.draw(n, with_labels=True, labels=d, node_color='r', alpha=0.5)"
   ]
  },
  {
   "cell_type": "code",
   "execution_count": 12,
   "id": "comfortable-announcement",
   "metadata": {},
   "outputs": [
    {
     "name": "stdout",
     "output_type": "stream",
     "text": [
      "b : on=0.45000, off=0.55000\n",
      "a : on=0.50000, off=0.50000\n",
      "c : on=0.42500, off=0.57500\n"
     ]
    }
   ],
   "source": [
    "from pybbn.pptc.inferencecontroller import InferenceController\n",
    "\n",
    "join_tree = InferenceController.apply(bbn)\n",
    "\n",
    "# print the posterior probabilities\n",
    "for node, posteriors in join_tree.get_posteriors().items():\n",
    "    p = ', '.join([f'{val}={prob:.5f}' for val, prob in posteriors.items()])\n",
    "    print(f'{node} : {p}')"
   ]
  },
  {
   "cell_type": "code",
   "execution_count": 13,
   "id": "confidential-colorado",
   "metadata": {},
   "outputs": [
    {
     "name": "stdout",
     "output_type": "stream",
     "text": [
      "b : off=0.55020, on=0.44980\n",
      "c : off=0.57210, on=0.42790\n",
      "a : off=0.49850, on=0.50150\n"
     ]
    }
   ],
   "source": [
    "from pybbn.pptc.inferencecontroller import InferenceController\n",
    "\n",
    "join_tree1 = InferenceController.apply(bbn1)\n",
    "\n",
    "# print the posterior probabilities\n",
    "for node, posteriors in join_tree1.get_posteriors().items():\n",
    "    p = ', '.join([f'{val}={prob:.5f}' for val, prob in posteriors.items()])\n",
    "    print(f'{node} : {p}')"
   ]
  }
 ],
 "metadata": {
  "kernelspec": {
   "display_name": "Python 3",
   "language": "python",
   "name": "python3"
  },
  "language_info": {
   "codemirror_mode": {
    "name": "ipython",
    "version": 3
   },
   "file_extension": ".py",
   "mimetype": "text/x-python",
   "name": "python",
   "nbconvert_exporter": "python",
   "pygments_lexer": "ipython3",
   "version": "3.8.5"
  }
 },
 "nbformat": 4,
 "nbformat_minor": 5
}
