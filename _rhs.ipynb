{
 "cells": [
  {
   "cell_type": "code",
   "execution_count": 1,
   "id": "86dab7d7-a395-4f0f-9d5d-3790f18bd602",
   "metadata": {
    "execution": {
     "iopub.execute_input": "2023-01-31T23:22:33.715544Z",
     "iopub.status.busy": "2023-01-31T23:22:33.715544Z",
     "iopub.status.idle": "2023-01-31T23:22:33.741594Z",
     "shell.execute_reply": "2023-01-31T23:22:33.741594Z",
     "shell.execute_reply.started": "2023-01-31T23:22:33.715544Z"
    }
   },
   "outputs": [],
   "source": [
    "from pybbn.graph.jointree import JoinTree\n",
    "from pybbn.pptc.inferencecontroller import InferenceController\n",
    "import json\n",
    "\n",
    "def get_jt():\n",
    "    with open('./_tmp/join-tree.json', 'r') as f:\n",
    "        j = f.read()\n",
    "        d = json.loads(j)\n",
    "        jt = JoinTree.from_dict(d)\n",
    "    return jt\n",
    "\n",
    "jt = get_jt()"
   ]
  },
  {
   "cell_type": "code",
   "execution_count": null,
   "id": "ed76ccaf-0d0c-4120-b361-94dc05dc7a35",
   "metadata": {},
   "outputs": [],
   "source": []
  }
 ],
 "metadata": {
  "kernelspec": {
   "display_name": "Python 3",
   "language": "python",
   "name": "python3"
  },
  "language_info": {
   "codemirror_mode": {
    "name": "ipython",
    "version": 3
   },
   "file_extension": ".py",
   "mimetype": "text/x-python",
   "name": "python",
   "nbconvert_exporter": "python",
   "pygments_lexer": "ipython3",
   "version": "3.8.5"
  },
  "widgets": {
   "application/vnd.jupyter.widget-state+json": {
    "state": {},
    "version_major": 2,
    "version_minor": 0
   }
  }
 },
 "nbformat": 4,
 "nbformat_minor": 5
}
