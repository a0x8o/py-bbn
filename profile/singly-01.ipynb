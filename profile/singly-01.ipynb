{
 "cells": [
  {
   "cell_type": "code",
   "execution_count": 1,
   "id": "28c6858c-001f-452d-b2e5-2975022b5782",
   "metadata": {},
   "outputs": [],
   "source": [
    "import json\n",
    "from pybbn.graph.dag import Bbn\n",
    "from pybbn.pptc.inferencecontroller import InferenceController\n",
    "from pybbn.graph.jointree import EvidenceBuilder\n",
    "import random\n",
    "import time\n",
    "\n",
    "def get_jt():\n",
    "    with open('singly-bbn.json', 'r') as f:\n",
    "        bbn = Bbn.from_dict(json.loads(f.read()))\n",
    "        jt = InferenceController.apply(bbn)\n",
    "        return jt\n",
    "    \n",
    "def get_evidence(jt, name, val):\n",
    "    return EvidenceBuilder() \\\n",
    "        .with_node(jt.get_bbn_node_by_name(name)) \\\n",
    "        .with_evidence(val, 1.0) \\\n",
    "        .build()\n",
    "    \n",
    "def get_evidences(jt):\n",
    "    max_nodes = random.randint(1, 20)\n",
    "    \n",
    "    ids = list(node_ids)\n",
    "    random.shuffle(ids)\n",
    "    \n",
    "    ids = ids[:max_nodes]\n",
    "    ids = {i: random.choice(['state0', 'state1']) for i in ids}\n",
    "    ids = [get_evidence(jt, n, v) for n, v in ids.items()]\n",
    "    \n",
    "    return ids\n",
    "\n",
    "def do_inference():\n",
    "    # get jt\n",
    "    start = time.time()\n",
    "    jt = get_jt()\n",
    "    \n",
    "    stop = time.time()\n",
    "    j_diff = stop - start\n",
    "    \n",
    "    # get evidence\n",
    "    start = time.time()\n",
    "    evidences = get_evidences(jt)\n",
    "    \n",
    "    stop = time.time()\n",
    "    e_diff = stop - start\n",
    "    \n",
    "    # clear evidence\n",
    "    start = time.time()\n",
    "    jt.unobserve_all()\n",
    "    \n",
    "    stop = time.time()\n",
    "    c_diff = stop - start\n",
    "    \n",
    "    # update evidence\n",
    "    start = time.time()\n",
    "    jt.update_evidences(evidences)\n",
    "    \n",
    "    stop = time.time()\n",
    "    u_diff = stop - start\n",
    "    \n",
    "    return len(evidences), j_diff, e_diff, c_diff, u_diff\n",
    "    \n",
    "node_ids = [f'{n}' for n in range(900)]"
   ]
  },
  {
   "cell_type": "code",
   "execution_count": 2,
   "id": "73df6617-6093-436d-ab53-b7038dab53a0",
   "metadata": {},
   "outputs": [
    {
     "data": {
      "text/plain": [
       "(1000, 5)"
      ]
     },
     "execution_count": 2,
     "metadata": {},
     "output_type": "execute_result"
    }
   ],
   "source": [
    "import pandas as pd\n",
    "\n",
    "df = pd.DataFrame([do_inference() for _ in range(1_000)], columns=['n', 'j_time', 'e_time', 'c_time', 'u_time'])\n",
    "df.shape"
   ]
  },
  {
   "cell_type": "code",
   "execution_count": 11,
   "id": "6da755ce-8676-4e6d-ad73-b2468a4a6cfc",
   "metadata": {},
   "outputs": [
    {
     "data": {
      "text/html": [
       "<div>\n",
       "<style scoped>\n",
       "    .dataframe tbody tr th:only-of-type {\n",
       "        vertical-align: middle;\n",
       "    }\n",
       "\n",
       "    .dataframe tbody tr th {\n",
       "        vertical-align: top;\n",
       "    }\n",
       "\n",
       "    .dataframe thead th {\n",
       "        text-align: right;\n",
       "    }\n",
       "</style>\n",
       "<table border=\"1\" class=\"dataframe\">\n",
       "  <thead>\n",
       "    <tr style=\"text-align: right;\">\n",
       "      <th></th>\n",
       "      <th>n</th>\n",
       "      <th>j_time</th>\n",
       "      <th>e_time</th>\n",
       "      <th>c_time</th>\n",
       "      <th>u_time</th>\n",
       "    </tr>\n",
       "  </thead>\n",
       "  <tbody>\n",
       "    <tr>\n",
       "      <th>0</th>\n",
       "      <td>7</td>\n",
       "      <td>3.379290</td>\n",
       "      <td>0.002273</td>\n",
       "      <td>0.003768</td>\n",
       "      <td>0.049996</td>\n",
       "    </tr>\n",
       "    <tr>\n",
       "      <th>1</th>\n",
       "      <td>11</td>\n",
       "      <td>3.466310</td>\n",
       "      <td>0.003508</td>\n",
       "      <td>0.003470</td>\n",
       "      <td>0.049598</td>\n",
       "    </tr>\n",
       "    <tr>\n",
       "      <th>2</th>\n",
       "      <td>6</td>\n",
       "      <td>3.378548</td>\n",
       "      <td>0.002049</td>\n",
       "      <td>0.003458</td>\n",
       "      <td>0.049155</td>\n",
       "    </tr>\n",
       "    <tr>\n",
       "      <th>3</th>\n",
       "      <td>1</td>\n",
       "      <td>3.440225</td>\n",
       "      <td>0.000638</td>\n",
       "      <td>0.003800</td>\n",
       "      <td>0.049173</td>\n",
       "    </tr>\n",
       "    <tr>\n",
       "      <th>4</th>\n",
       "      <td>8</td>\n",
       "      <td>3.423014</td>\n",
       "      <td>0.002595</td>\n",
       "      <td>0.003693</td>\n",
       "      <td>0.048544</td>\n",
       "    </tr>\n",
       "    <tr>\n",
       "      <th>5</th>\n",
       "      <td>18</td>\n",
       "      <td>3.622098</td>\n",
       "      <td>0.006198</td>\n",
       "      <td>0.003862</td>\n",
       "      <td>0.055082</td>\n",
       "    </tr>\n",
       "    <tr>\n",
       "      <th>6</th>\n",
       "      <td>14</td>\n",
       "      <td>3.745868</td>\n",
       "      <td>0.004711</td>\n",
       "      <td>0.003689</td>\n",
       "      <td>0.055519</td>\n",
       "    </tr>\n",
       "    <tr>\n",
       "      <th>7</th>\n",
       "      <td>19</td>\n",
       "      <td>3.691412</td>\n",
       "      <td>0.005895</td>\n",
       "      <td>0.003974</td>\n",
       "      <td>0.055685</td>\n",
       "    </tr>\n",
       "    <tr>\n",
       "      <th>8</th>\n",
       "      <td>20</td>\n",
       "      <td>3.762516</td>\n",
       "      <td>0.006641</td>\n",
       "      <td>0.003905</td>\n",
       "      <td>0.055874</td>\n",
       "    </tr>\n",
       "    <tr>\n",
       "      <th>9</th>\n",
       "      <td>8</td>\n",
       "      <td>3.725578</td>\n",
       "      <td>0.002953</td>\n",
       "      <td>0.003951</td>\n",
       "      <td>0.057224</td>\n",
       "    </tr>\n",
       "  </tbody>\n",
       "</table>\n",
       "</div>"
      ],
      "text/plain": [
       "    n    j_time    e_time    c_time    u_time\n",
       "0   7  3.379290  0.002273  0.003768  0.049996\n",
       "1  11  3.466310  0.003508  0.003470  0.049598\n",
       "2   6  3.378548  0.002049  0.003458  0.049155\n",
       "3   1  3.440225  0.000638  0.003800  0.049173\n",
       "4   8  3.423014  0.002595  0.003693  0.048544\n",
       "5  18  3.622098  0.006198  0.003862  0.055082\n",
       "6  14  3.745868  0.004711  0.003689  0.055519\n",
       "7  19  3.691412  0.005895  0.003974  0.055685\n",
       "8  20  3.762516  0.006641  0.003905  0.055874\n",
       "9   8  3.725578  0.002953  0.003951  0.057224"
      ]
     },
     "execution_count": 11,
     "metadata": {},
     "output_type": "execute_result"
    }
   ],
   "source": [
    "df.head(10)"
   ]
  },
  {
   "cell_type": "code",
   "execution_count": 12,
   "id": "04a724de-7b6c-45c4-97b2-90ba8d04707a",
   "metadata": {},
   "outputs": [
    {
     "data": {
      "text/plain": [
       "n         10.620000\n",
       "j_time     3.384668\n",
       "e_time     0.003442\n",
       "c_time     0.003574\n",
       "u_time     0.050194\n",
       "dtype: float64"
      ]
     },
     "execution_count": 12,
     "metadata": {},
     "output_type": "execute_result"
    }
   ],
   "source": [
    "df.mean()"
   ]
  },
  {
   "cell_type": "code",
   "execution_count": 13,
   "id": "1c13f556-9a75-4f23-ad82-15f06d9609e8",
   "metadata": {},
   "outputs": [
    {
     "data": {
      "text/html": [
       "<div>\n",
       "<style scoped>\n",
       "    .dataframe tbody tr th:only-of-type {\n",
       "        vertical-align: middle;\n",
       "    }\n",
       "\n",
       "    .dataframe tbody tr th {\n",
       "        vertical-align: top;\n",
       "    }\n",
       "\n",
       "    .dataframe thead th {\n",
       "        text-align: right;\n",
       "    }\n",
       "</style>\n",
       "<table border=\"1\" class=\"dataframe\">\n",
       "  <thead>\n",
       "    <tr style=\"text-align: right;\">\n",
       "      <th></th>\n",
       "      <th>n</th>\n",
       "      <th>j_time</th>\n",
       "      <th>e_time</th>\n",
       "      <th>c_time</th>\n",
       "      <th>u_time</th>\n",
       "    </tr>\n",
       "  </thead>\n",
       "  <tbody>\n",
       "    <tr>\n",
       "      <th>count</th>\n",
       "      <td>1000.000000</td>\n",
       "      <td>1000.000000</td>\n",
       "      <td>1000.000000</td>\n",
       "      <td>1000.000000</td>\n",
       "      <td>1000.000000</td>\n",
       "    </tr>\n",
       "    <tr>\n",
       "      <th>mean</th>\n",
       "      <td>10.620000</td>\n",
       "      <td>3.384668</td>\n",
       "      <td>0.003442</td>\n",
       "      <td>0.003574</td>\n",
       "      <td>0.050194</td>\n",
       "    </tr>\n",
       "    <tr>\n",
       "      <th>std</th>\n",
       "      <td>5.785938</td>\n",
       "      <td>0.063893</td>\n",
       "      <td>0.001667</td>\n",
       "      <td>0.000109</td>\n",
       "      <td>0.001611</td>\n",
       "    </tr>\n",
       "    <tr>\n",
       "      <th>min</th>\n",
       "      <td>1.000000</td>\n",
       "      <td>3.325093</td>\n",
       "      <td>0.000638</td>\n",
       "      <td>0.003458</td>\n",
       "      <td>0.048544</td>\n",
       "    </tr>\n",
       "    <tr>\n",
       "      <th>25%</th>\n",
       "      <td>5.750000</td>\n",
       "      <td>3.343699</td>\n",
       "      <td>0.002046</td>\n",
       "      <td>0.003522</td>\n",
       "      <td>0.049380</td>\n",
       "    </tr>\n",
       "    <tr>\n",
       "      <th>50%</th>\n",
       "      <td>11.000000</td>\n",
       "      <td>3.360129</td>\n",
       "      <td>0.003492</td>\n",
       "      <td>0.003536</td>\n",
       "      <td>0.049608</td>\n",
       "    </tr>\n",
       "    <tr>\n",
       "      <th>75%</th>\n",
       "      <td>16.000000</td>\n",
       "      <td>3.406066</td>\n",
       "      <td>0.004915</td>\n",
       "      <td>0.003585</td>\n",
       "      <td>0.050305</td>\n",
       "    </tr>\n",
       "    <tr>\n",
       "      <th>max</th>\n",
       "      <td>20.000000</td>\n",
       "      <td>3.762516</td>\n",
       "      <td>0.006641</td>\n",
       "      <td>0.004526</td>\n",
       "      <td>0.059810</td>\n",
       "    </tr>\n",
       "  </tbody>\n",
       "</table>\n",
       "</div>"
      ],
      "text/plain": [
       "                 n       j_time       e_time       c_time       u_time\n",
       "count  1000.000000  1000.000000  1000.000000  1000.000000  1000.000000\n",
       "mean     10.620000     3.384668     0.003442     0.003574     0.050194\n",
       "std       5.785938     0.063893     0.001667     0.000109     0.001611\n",
       "min       1.000000     3.325093     0.000638     0.003458     0.048544\n",
       "25%       5.750000     3.343699     0.002046     0.003522     0.049380\n",
       "50%      11.000000     3.360129     0.003492     0.003536     0.049608\n",
       "75%      16.000000     3.406066     0.004915     0.003585     0.050305\n",
       "max      20.000000     3.762516     0.006641     0.004526     0.059810"
      ]
     },
     "execution_count": 13,
     "metadata": {},
     "output_type": "execute_result"
    }
   ],
   "source": [
    "df.describe()"
   ]
  },
  {
   "cell_type": "code",
   "execution_count": 19,
   "id": "40a3e578-63cc-4098-ae88-39533c3fd0e5",
   "metadata": {},
   "outputs": [
    {
     "data": {
      "image/png": "[encoded data removed]",
      "text/plain": [
       "<Figure size 1500x350 with 4 Axes>"
      ]
     },
     "metadata": {},
     "output_type": "display_data"
    }
   ],
   "source": [
    "import matplotlib.pyplot as plt\n",
    "import numpy as np\n",
    "\n",
    "fig, ax = plt.subplots(2, 2, figsize=(15, 3.5))\n",
    "ax = np.ravel(ax)\n",
    "\n",
    "df.plot(kind='scatter', x='n', y='j_time', ax=ax[0])\n",
    "df.plot(kind='scatter', x='n', y='e_time', ax=ax[1])\n",
    "df.plot(kind='scatter', x='n', y='c_time', ax=ax[2])\n",
    "df.plot(kind='scatter', x='n', y='u_time', ax=ax[3])\n",
    "\n",
    "plt.tight_layout()"
   ]
  },
  {
   "cell_type": "code",
   "execution_count": 15,
   "id": "d7e7730d-daac-4e9c-a4bb-c8cf45a5c8ce",
   "metadata": {},
   "outputs": [
    {
     "data": {
      "text/plain": [
       "(3.378273005376205, array([0.00060221]))"
      ]
     },
     "execution_count": 15,
     "metadata": {},
     "output_type": "execute_result"
    }
   ],
   "source": [
    "from sklearn.linear_model import LinearRegression\n",
    "\n",
    "X = df[['n']]\n",
    "y = df['j_time']\n",
    "\n",
    "m = LinearRegression()\n",
    "m.fit(X, y)\n",
    "\n",
    "m.intercept_, m.coef_"
   ]
  },
  {
   "cell_type": "code",
   "execution_count": 16,
   "id": "dce920f8-3219-4077-84e8-e5ca16a9a0ac",
   "metadata": {},
   "outputs": [
    {
     "data": {
      "text/plain": [
       "(0.0003893059459959547, array([0.00028749]))"
      ]
     },
     "execution_count": 16,
     "metadata": {},
     "output_type": "execute_result"
    }
   ],
   "source": [
    "X = df[['n']]\n",
    "y = df['e_time']\n",
    "\n",
    "m = LinearRegression()\n",
    "m.fit(X, y)\n",
    "\n",
    "m.intercept_, m.coef_"
   ]
  },
  {
   "cell_type": "code",
   "execution_count": 17,
   "id": "99afdd9d-48a0-4f5f-a3dd-a594d7b4ac33",
   "metadata": {},
   "outputs": [
    {
     "data": {
      "text/plain": [
       "(0.003566789170592686, array([6.91187463e-07]))"
      ]
     },
     "execution_count": 17,
     "metadata": {},
     "output_type": "execute_result"
    }
   ],
   "source": [
    "X = df[['n']]\n",
    "y = df['c_time']\n",
    "\n",
    "m = LinearRegression()\n",
    "m.fit(X, y)\n",
    "\n",
    "m.intercept_, m.coef_"
   ]
  },
  {
   "cell_type": "code",
   "execution_count": 18,
   "id": "4f1f2860-f302-427c-bfc4-14c8b8ef1682",
   "metadata": {},
   "outputs": [
    {
     "data": {
      "text/plain": [
       "(0.049962121512487814, array([2.17873698e-05]))"
      ]
     },
     "execution_count": 18,
     "metadata": {},
     "output_type": "execute_result"
    }
   ],
   "source": [
    "X = df[['n']]\n",
    "y = df['u_time']\n",
    "\n",
    "m = LinearRegression()\n",
    "m.fit(X, y)\n",
    "\n",
    "m.intercept_, m.coef_"
   ]
  },
  {
   "cell_type": "code",
   "execution_count": null,
   "id": "0f455794-2fae-417f-8806-c93b37762a0b",
   "metadata": {},
   "outputs": [],
   "source": []
  }
 ],
 "metadata": {
  "kernelspec": {
   "display_name": "Python 3 (ipykernel)",
   "language": "python",
   "name": "python3"
  },
  "language_info": {
   "codemirror_mode": {
    "name": "ipython",
    "version": 3
   },
   "file_extension": ".py",
   "mimetype": "text/x-python",
   "name": "python",
   "nbconvert_exporter": "python",
   "pygments_lexer": "ipython3",
   "version": "3.9.12"
  },
  "widgets": {
   "application/vnd.jupyter.widget-state+json": {
    "state": {},
    "version_major": 2,
    "version_minor": 0
   }
  }
 },
 "nbformat": 4,
 "nbformat_minor": 5
}
