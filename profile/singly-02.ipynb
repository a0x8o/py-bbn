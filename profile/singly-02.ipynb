{
 "cells": [
  {
   "cell_type": "code",
   "execution_count": 1,
   "id": "28c6858c-001f-452d-b2e5-2975022b5782",
   "metadata": {},
   "outputs": [],
   "source": [
    "import json\n",
    "from pybbn.graph.dag import Bbn\n",
    "from pybbn.pptc.inferencecontroller import InferenceController\n",
    "from pybbn.graph.jointree import EvidenceBuilder\n",
    "import random\n",
    "import time\n",
    "\n",
    "def get_jt():\n",
    "    with open('singly-bbn.json', 'r') as f:\n",
    "        bbn = Bbn.from_dict(json.loads(f.read()))\n",
    "        jt = InferenceController.apply(bbn)\n",
    "        return jt\n",
    "    \n",
    "def get_evidence(jt, name, val):\n",
    "    return EvidenceBuilder() \\\n",
    "        .with_node(jt.get_bbn_node_by_name(name)) \\\n",
    "        .with_evidence(val, 1.0) \\\n",
    "        .build()\n",
    "    \n",
    "def get_evidences(jt):\n",
    "    max_nodes = random.randint(1, 20)\n",
    "    \n",
    "    ids = list(node_ids)\n",
    "    random.shuffle(ids)\n",
    "    \n",
    "    ids = ids[:max_nodes]\n",
    "    ids = {i: random.choice(['state0', 'state1']) for i in ids}\n",
    "    ids = [get_evidence(jt, n, v) for n, v in ids.items()]\n",
    "    \n",
    "    return ids\n",
    "\n",
    "def do_inference():\n",
    "    # get bbn\n",
    "    start = time.time()\n",
    "    with open('singly-bbn.json', 'r') as f:\n",
    "        bbn = Bbn.from_dict(json.loads(f.read()))\n",
    "        \n",
    "    stop = time.time()\n",
    "    b_diff = stop - start\n",
    "    \n",
    "    # get jt\n",
    "    start = time.time()\n",
    "    jt = InferenceController.apply(bbn)\n",
    "    \n",
    "    stop = time.time()\n",
    "    j_diff = stop - start\n",
    "    \n",
    "    # get evidence\n",
    "    start = time.time()\n",
    "    evidences = get_evidences(jt)\n",
    "    \n",
    "    stop = time.time()\n",
    "    e_diff = stop - start\n",
    "    \n",
    "    # clear evidence\n",
    "    start = time.time()\n",
    "    jt.unobserve_all()\n",
    "    \n",
    "    stop = time.time()\n",
    "    c_diff = stop - start\n",
    "    \n",
    "    # update evidence\n",
    "    start = time.time()\n",
    "    jt.update_evidences(evidences)\n",
    "    \n",
    "    stop = time.time()\n",
    "    u_diff = stop - start\n",
    "    \n",
    "    return len(evidences), b_diff, j_diff, e_diff, c_diff, u_diff\n",
    "    \n",
    "node_ids = [f'{n}' for n in range(900)]"
   ]
  },
  {
   "cell_type": "code",
   "execution_count": 2,
   "id": "73df6617-6093-436d-ab53-b7038dab53a0",
   "metadata": {},
   "outputs": [
    {
     "data": {
      "text/plain": [
       "(10, 6)"
      ]
     },
     "execution_count": 2,
     "metadata": {},
     "output_type": "execute_result"
    }
   ],
   "source": [
    "import pandas as pd\n",
    "\n",
    "df = pd.DataFrame([do_inference() for _ in range(10)], columns=['n', 'b_time', 'j_time', 'e_time', 'c_time', 'u_time'])\n",
    "df.shape"
   ]
  },
  {
   "cell_type": "code",
   "execution_count": 3,
   "id": "6da755ce-8676-4e6d-ad73-b2468a4a6cfc",
   "metadata": {},
   "outputs": [
    {
     "data": {
      "text/html": [
       "<div>\n",
       "<style scoped>\n",
       "    .dataframe tbody tr th:only-of-type {\n",
       "        vertical-align: middle;\n",
       "    }\n",
       "\n",
       "    .dataframe tbody tr th {\n",
       "        vertical-align: top;\n",
       "    }\n",
       "\n",
       "    .dataframe thead th {\n",
       "        text-align: right;\n",
       "    }\n",
       "</style>\n",
       "<table border=\"1\" class=\"dataframe\">\n",
       "  <thead>\n",
       "    <tr style=\"text-align: right;\">\n",
       "      <th></th>\n",
       "      <th>n</th>\n",
       "      <th>b_time</th>\n",
       "      <th>j_time</th>\n",
       "      <th>e_time</th>\n",
       "      <th>c_time</th>\n",
       "      <th>u_time</th>\n",
       "    </tr>\n",
       "  </thead>\n",
       "  <tbody>\n",
       "    <tr>\n",
       "      <th>0</th>\n",
       "      <td>20</td>\n",
       "      <td>0.032930</td>\n",
       "      <td>3.336133</td>\n",
       "      <td>0.005897</td>\n",
       "      <td>0.003824</td>\n",
       "      <td>0.048974</td>\n",
       "    </tr>\n",
       "    <tr>\n",
       "      <th>1</th>\n",
       "      <td>20</td>\n",
       "      <td>0.007845</td>\n",
       "      <td>3.323056</td>\n",
       "      <td>0.006034</td>\n",
       "      <td>0.003786</td>\n",
       "      <td>0.056455</td>\n",
       "    </tr>\n",
       "    <tr>\n",
       "      <th>2</th>\n",
       "      <td>20</td>\n",
       "      <td>0.007930</td>\n",
       "      <td>3.373107</td>\n",
       "      <td>0.006498</td>\n",
       "      <td>0.003824</td>\n",
       "      <td>0.055931</td>\n",
       "    </tr>\n",
       "    <tr>\n",
       "      <th>3</th>\n",
       "      <td>2</td>\n",
       "      <td>0.008354</td>\n",
       "      <td>3.353920</td>\n",
       "      <td>0.000939</td>\n",
       "      <td>0.003617</td>\n",
       "      <td>0.050509</td>\n",
       "    </tr>\n",
       "    <tr>\n",
       "      <th>4</th>\n",
       "      <td>16</td>\n",
       "      <td>0.007763</td>\n",
       "      <td>3.251286</td>\n",
       "      <td>0.004887</td>\n",
       "      <td>0.003487</td>\n",
       "      <td>0.049918</td>\n",
       "    </tr>\n",
       "    <tr>\n",
       "      <th>5</th>\n",
       "      <td>7</td>\n",
       "      <td>0.007678</td>\n",
       "      <td>3.259727</td>\n",
       "      <td>0.002409</td>\n",
       "      <td>0.003477</td>\n",
       "      <td>0.050610</td>\n",
       "    </tr>\n",
       "    <tr>\n",
       "      <th>6</th>\n",
       "      <td>13</td>\n",
       "      <td>0.007813</td>\n",
       "      <td>3.243876</td>\n",
       "      <td>0.004050</td>\n",
       "      <td>0.003505</td>\n",
       "      <td>0.050020</td>\n",
       "    </tr>\n",
       "    <tr>\n",
       "      <th>7</th>\n",
       "      <td>18</td>\n",
       "      <td>0.007653</td>\n",
       "      <td>3.249064</td>\n",
       "      <td>0.005521</td>\n",
       "      <td>0.003518</td>\n",
       "      <td>0.049927</td>\n",
       "    </tr>\n",
       "    <tr>\n",
       "      <th>8</th>\n",
       "      <td>14</td>\n",
       "      <td>0.007629</td>\n",
       "      <td>3.266158</td>\n",
       "      <td>0.004331</td>\n",
       "      <td>0.003483</td>\n",
       "      <td>0.049988</td>\n",
       "    </tr>\n",
       "    <tr>\n",
       "      <th>9</th>\n",
       "      <td>16</td>\n",
       "      <td>0.007670</td>\n",
       "      <td>3.248481</td>\n",
       "      <td>0.004922</td>\n",
       "      <td>0.003490</td>\n",
       "      <td>0.052439</td>\n",
       "    </tr>\n",
       "  </tbody>\n",
       "</table>\n",
       "</div>"
      ],
      "text/plain": [
       "    n    b_time    j_time    e_time    c_time    u_time\n",
       "0  20  0.032930  3.336133  0.005897  0.003824  0.048974\n",
       "1  20  0.007845  3.323056  0.006034  0.003786  0.056455\n",
       "2  20  0.007930  3.373107  0.006498  0.003824  0.055931\n",
       "3   2  0.008354  3.353920  0.000939  0.003617  0.050509\n",
       "4  16  0.007763  3.251286  0.004887  0.003487  0.049918\n",
       "5   7  0.007678  3.259727  0.002409  0.003477  0.050610\n",
       "6  13  0.007813  3.243876  0.004050  0.003505  0.050020\n",
       "7  18  0.007653  3.249064  0.005521  0.003518  0.049927\n",
       "8  14  0.007629  3.266158  0.004331  0.003483  0.049988\n",
       "9  16  0.007670  3.248481  0.004922  0.003490  0.052439"
      ]
     },
     "execution_count": 3,
     "metadata": {},
     "output_type": "execute_result"
    }
   ],
   "source": [
    "df.head(10)"
   ]
  },
  {
   "cell_type": "code",
   "execution_count": 4,
   "id": "04a724de-7b6c-45c4-97b2-90ba8d04707a",
   "metadata": {},
   "outputs": [
    {
     "data": {
      "text/plain": [
       "n         14.600000\n",
       "b_time     0.010327\n",
       "j_time     3.290481\n",
       "e_time     0.004549\n",
       "c_time     0.003601\n",
       "u_time     0.051477\n",
       "dtype: float64"
      ]
     },
     "execution_count": 4,
     "metadata": {},
     "output_type": "execute_result"
    }
   ],
   "source": [
    "df.mean()"
   ]
  },
  {
   "cell_type": "code",
   "execution_count": 5,
   "id": "1c13f556-9a75-4f23-ad82-15f06d9609e8",
   "metadata": {},
   "outputs": [
    {
     "data": {
      "text/html": [
       "<div>\n",
       "<style scoped>\n",
       "    .dataframe tbody tr th:only-of-type {\n",
       "        vertical-align: middle;\n",
       "    }\n",
       "\n",
       "    .dataframe tbody tr th {\n",
       "        vertical-align: top;\n",
       "    }\n",
       "\n",
       "    .dataframe thead th {\n",
       "        text-align: right;\n",
       "    }\n",
       "</style>\n",
       "<table border=\"1\" class=\"dataframe\">\n",
       "  <thead>\n",
       "    <tr style=\"text-align: right;\">\n",
       "      <th></th>\n",
       "      <th>n</th>\n",
       "      <th>b_time</th>\n",
       "      <th>j_time</th>\n",
       "      <th>e_time</th>\n",
       "      <th>c_time</th>\n",
       "      <th>u_time</th>\n",
       "    </tr>\n",
       "  </thead>\n",
       "  <tbody>\n",
       "    <tr>\n",
       "      <th>count</th>\n",
       "      <td>10.000000</td>\n",
       "      <td>10.000000</td>\n",
       "      <td>10.000000</td>\n",
       "      <td>10.000000</td>\n",
       "      <td>10.000000</td>\n",
       "      <td>10.000000</td>\n",
       "    </tr>\n",
       "    <tr>\n",
       "      <th>mean</th>\n",
       "      <td>14.600000</td>\n",
       "      <td>0.010327</td>\n",
       "      <td>3.290481</td>\n",
       "      <td>0.004549</td>\n",
       "      <td>0.003601</td>\n",
       "      <td>0.051477</td>\n",
       "    </tr>\n",
       "    <tr>\n",
       "      <th>std</th>\n",
       "      <td>5.985167</td>\n",
       "      <td>0.007945</td>\n",
       "      <td>0.050246</td>\n",
       "      <td>0.001730</td>\n",
       "      <td>0.000151</td>\n",
       "      <td>0.002639</td>\n",
       "    </tr>\n",
       "    <tr>\n",
       "      <th>min</th>\n",
       "      <td>2.000000</td>\n",
       "      <td>0.007629</td>\n",
       "      <td>3.243876</td>\n",
       "      <td>0.000939</td>\n",
       "      <td>0.003477</td>\n",
       "      <td>0.048974</td>\n",
       "    </tr>\n",
       "    <tr>\n",
       "      <th>25%</th>\n",
       "      <td>13.250000</td>\n",
       "      <td>0.007672</td>\n",
       "      <td>3.249619</td>\n",
       "      <td>0.004120</td>\n",
       "      <td>0.003488</td>\n",
       "      <td>0.049942</td>\n",
       "    </tr>\n",
       "    <tr>\n",
       "      <th>50%</th>\n",
       "      <td>16.000000</td>\n",
       "      <td>0.007788</td>\n",
       "      <td>3.262943</td>\n",
       "      <td>0.004905</td>\n",
       "      <td>0.003511</td>\n",
       "      <td>0.050264</td>\n",
       "    </tr>\n",
       "    <tr>\n",
       "      <th>75%</th>\n",
       "      <td>19.500000</td>\n",
       "      <td>0.007909</td>\n",
       "      <td>3.332864</td>\n",
       "      <td>0.005803</td>\n",
       "      <td>0.003744</td>\n",
       "      <td>0.051982</td>\n",
       "    </tr>\n",
       "    <tr>\n",
       "      <th>max</th>\n",
       "      <td>20.000000</td>\n",
       "      <td>0.032930</td>\n",
       "      <td>3.373107</td>\n",
       "      <td>0.006498</td>\n",
       "      <td>0.003824</td>\n",
       "      <td>0.056455</td>\n",
       "    </tr>\n",
       "  </tbody>\n",
       "</table>\n",
       "</div>"
      ],
      "text/plain": [
       "               n     b_time     j_time     e_time     c_time     u_time\n",
       "count  10.000000  10.000000  10.000000  10.000000  10.000000  10.000000\n",
       "mean   14.600000   0.010327   3.290481   0.004549   0.003601   0.051477\n",
       "std     5.985167   0.007945   0.050246   0.001730   0.000151   0.002639\n",
       "min     2.000000   0.007629   3.243876   0.000939   0.003477   0.048974\n",
       "25%    13.250000   0.007672   3.249619   0.004120   0.003488   0.049942\n",
       "50%    16.000000   0.007788   3.262943   0.004905   0.003511   0.050264\n",
       "75%    19.500000   0.007909   3.332864   0.005803   0.003744   0.051982\n",
       "max    20.000000   0.032930   3.373107   0.006498   0.003824   0.056455"
      ]
     },
     "execution_count": 5,
     "metadata": {},
     "output_type": "execute_result"
    }
   ],
   "source": [
    "df.describe()"
   ]
  },
  {
   "cell_type": "code",
   "execution_count": 6,
   "id": "40a3e578-63cc-4098-ae88-39533c3fd0e5",
   "metadata": {},
   "outputs": [
    {
     "data": {
      "image/png": "[encoded data removed]",
      "text/plain": [
       "<Figure size 1500x650 with 5 Axes>"
      ]
     },
     "metadata": {},
     "output_type": "display_data"
    }
   ],
   "source": [
    "import matplotlib.pyplot as plt\n",
    "import numpy as np\n",
    "\n",
    "fig, ax = plt.subplots(5, 1, figsize=(15, 6.5))\n",
    "ax = np.ravel(ax)\n",
    "\n",
    "df.plot(kind='scatter', x='n', y='b_time', ax=ax[0])\n",
    "df.plot(kind='scatter', x='n', y='j_time', ax=ax[1])\n",
    "df.plot(kind='scatter', x='n', y='e_time', ax=ax[2])\n",
    "df.plot(kind='scatter', x='n', y='c_time', ax=ax[3])\n",
    "df.plot(kind='scatter', x='n', y='u_time', ax=ax[4])\n",
    "\n",
    "plt.tight_layout()"
   ]
  },
  {
   "cell_type": "code",
   "execution_count": 7,
   "id": "d7e7730d-daac-4e9c-a4bb-c8cf45a5c8ce",
   "metadata": {},
   "outputs": [
    {
     "data": {
      "text/plain": [
       "(0.004442004796588981, array([0.00040305]))"
      ]
     },
     "execution_count": 7,
     "metadata": {},
     "output_type": "execute_result"
    }
   ],
   "source": [
    "from sklearn.linear_model import LinearRegression\n",
    "\n",
    "X = df[['n']]\n",
    "y = df['b_time']\n",
    "\n",
    "m = LinearRegression()\n",
    "m.fit(X, y)\n",
    "\n",
    "m.intercept_, m.coef_"
   ]
  },
  {
   "cell_type": "code",
   "execution_count": 8,
   "id": "4e65351c-06ce-4c0d-bcae-45f5f2c2becd",
   "metadata": {},
   "outputs": [
    {
     "data": {
      "text/plain": [
       "(3.2842460950610066, array([0.00042703]))"
      ]
     },
     "execution_count": 8,
     "metadata": {},
     "output_type": "execute_result"
    }
   ],
   "source": [
    "X = df[['n']]\n",
    "y = df['j_time']\n",
    "\n",
    "m = LinearRegression()\n",
    "m.fit(X, y)\n",
    "\n",
    "m.intercept_, m.coef_"
   ]
  },
  {
   "cell_type": "code",
   "execution_count": 9,
   "id": "dce920f8-3219-4077-84e8-e5ca16a9a0ac",
   "metadata": {},
   "outputs": [
    {
     "data": {
      "text/plain": [
       "(0.0003463090501411364, array([0.00028784]))"
      ]
     },
     "execution_count": 9,
     "metadata": {},
     "output_type": "execute_result"
    }
   ],
   "source": [
    "X = df[['n']]\n",
    "y = df['e_time']\n",
    "\n",
    "m = LinearRegression()\n",
    "m.fit(X, y)\n",
    "\n",
    "m.intercept_, m.coef_"
   ]
  },
  {
   "cell_type": "code",
   "execution_count": 10,
   "id": "99afdd9d-48a0-4f5f-a3dd-a594d7b4ac33",
   "metadata": {},
   "outputs": [
    {
     "data": {
      "text/plain": [
       "(0.0034302311854681957, array([1.17048436e-05]))"
      ]
     },
     "execution_count": 10,
     "metadata": {},
     "output_type": "execute_result"
    }
   ],
   "source": [
    "X = df[['n']]\n",
    "y = df['c_time']\n",
    "\n",
    "m = LinearRegression()\n",
    "m.fit(X, y)\n",
    "\n",
    "m.intercept_, m.coef_"
   ]
  },
  {
   "cell_type": "code",
   "execution_count": 11,
   "id": "4f1f2860-f302-427c-bfc4-14c8b8ef1682",
   "metadata": {},
   "outputs": [
    {
     "data": {
      "text/plain": [
       "(0.04906222068938074, array([0.0001654]))"
      ]
     },
     "execution_count": 11,
     "metadata": {},
     "output_type": "execute_result"
    }
   ],
   "source": [
    "X = df[['n']]\n",
    "y = df['u_time']\n",
    "\n",
    "m = LinearRegression()\n",
    "m.fit(X, y)\n",
    "\n",
    "m.intercept_, m.coef_"
   ]
  }
 ],
 "metadata": {
  "kernelspec": {
   "display_name": "Python 3 (ipykernel)",
   "language": "python",
   "name": "python3"
  },
  "language_info": {
   "codemirror_mode": {
    "name": "ipython",
    "version": 3
   },
   "file_extension": ".py",
   "mimetype": "text/x-python",
   "name": "python",
   "nbconvert_exporter": "python",
   "pygments_lexer": "ipython3",
   "version": "3.9.12"
  },
  "widgets": {
   "application/vnd.jupyter.widget-state+json": {
    "state": {},
    "version_major": 2,
    "version_minor": 0
   }
  }
 },
 "nbformat": 4,
 "nbformat_minor": 5
}
