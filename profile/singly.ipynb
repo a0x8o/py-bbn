{
 "cells": [
  {
   "cell_type": "code",
   "execution_count": 1,
   "id": "28c6858c-001f-452d-b2e5-2975022b5782",
   "metadata": {},
   "outputs": [],
   "source": [
    "import json\n",
    "from pybbn.graph.dag import Bbn\n",
    "from pybbn.pptc.inferencecontroller import InferenceController\n",
    "from pybbn.graph.jointree import EvidenceBuilder\n",
    "import random\n",
    "import time\n",
    "\n",
    "def get_jt():\n",
    "    with open('singly-bbn.json', 'r') as f:\n",
    "        bbn = Bbn.from_dict(json.loads(f.read()))\n",
    "        jt = InferenceController.apply(bbn)\n",
    "        return jt\n",
    "    \n",
    "def get_evidence(name, val):\n",
    "    return EvidenceBuilder() \\\n",
    "        .with_node(jt.get_bbn_node_by_name(name)) \\\n",
    "        .with_evidence(val, 1.0) \\\n",
    "        .build()\n",
    "    \n",
    "def get_evidences():\n",
    "    max_nodes = random.randint(1, 20)\n",
    "    \n",
    "    ids = list(node_ids)\n",
    "    random.shuffle(ids)\n",
    "    \n",
    "    ids = ids[:max_nodes]\n",
    "    ids = {i: random.choice(['state0', 'state1']) for i in ids}\n",
    "    ids = [get_evidence(n, v) for n, v in ids.items()]\n",
    "    \n",
    "    return ids\n",
    "\n",
    "def do_inference():\n",
    "    evidences = get_evidences()\n",
    "    \n",
    "    start = time.time()\n",
    "    jt.unobserve_all()\n",
    "    jt.update_evidences(evidences)\n",
    "    \n",
    "    stop = time.time()\n",
    "    diff = stop - start\n",
    "    \n",
    "    return len(evidences), diff\n",
    "    \n",
    "node_ids = [f'{n}' for n in range(900)]"
   ]
  },
  {
   "cell_type": "code",
   "execution_count": 2,
   "id": "5f5189f0-fe9b-465f-832c-987a12080f0b",
   "metadata": {},
   "outputs": [],
   "source": [
    "jt = get_jt()"
   ]
  },
  {
   "cell_type": "code",
   "execution_count": 3,
   "id": "73df6617-6093-436d-ab53-b7038dab53a0",
   "metadata": {},
   "outputs": [
    {
     "data": {
      "text/plain": [
       "(1000, 2)"
      ]
     },
     "execution_count": 3,
     "metadata": {},
     "output_type": "execute_result"
    }
   ],
   "source": [
    "import pandas as pd\n",
    "\n",
    "\n",
    "df = pd.DataFrame([do_inference() for _ in range(1_000)], columns=['n', 'time'])\n",
    "df.shape"
   ]
  },
  {
   "cell_type": "code",
   "execution_count": 4,
   "id": "6da755ce-8676-4e6d-ad73-b2468a4a6cfc",
   "metadata": {},
   "outputs": [
    {
     "data": {
      "text/html": [
       "<div>\n",
       "<style scoped>\n",
       "    .dataframe tbody tr th:only-of-type {\n",
       "        vertical-align: middle;\n",
       "    }\n",
       "\n",
       "    .dataframe tbody tr th {\n",
       "        vertical-align: top;\n",
       "    }\n",
       "\n",
       "    .dataframe thead th {\n",
       "        text-align: right;\n",
       "    }\n",
       "</style>\n",
       "<table border=\"1\" class=\"dataframe\">\n",
       "  <thead>\n",
       "    <tr style=\"text-align: right;\">\n",
       "      <th></th>\n",
       "      <th>n</th>\n",
       "      <th>time</th>\n",
       "    </tr>\n",
       "  </thead>\n",
       "  <tbody>\n",
       "    <tr>\n",
       "      <th>0</th>\n",
       "      <td>4</td>\n",
       "      <td>0.088677</td>\n",
       "    </tr>\n",
       "    <tr>\n",
       "      <th>1</th>\n",
       "      <td>8</td>\n",
       "      <td>0.110940</td>\n",
       "    </tr>\n",
       "    <tr>\n",
       "      <th>2</th>\n",
       "      <td>1</td>\n",
       "      <td>0.108386</td>\n",
       "    </tr>\n",
       "    <tr>\n",
       "      <th>3</th>\n",
       "      <td>6</td>\n",
       "      <td>0.143479</td>\n",
       "    </tr>\n",
       "    <tr>\n",
       "      <th>4</th>\n",
       "      <td>19</td>\n",
       "      <td>0.109967</td>\n",
       "    </tr>\n",
       "    <tr>\n",
       "      <th>5</th>\n",
       "      <td>6</td>\n",
       "      <td>0.107297</td>\n",
       "    </tr>\n",
       "    <tr>\n",
       "      <th>6</th>\n",
       "      <td>11</td>\n",
       "      <td>0.137904</td>\n",
       "    </tr>\n",
       "    <tr>\n",
       "      <th>7</th>\n",
       "      <td>14</td>\n",
       "      <td>0.106537</td>\n",
       "    </tr>\n",
       "    <tr>\n",
       "      <th>8</th>\n",
       "      <td>20</td>\n",
       "      <td>0.107961</td>\n",
       "    </tr>\n",
       "    <tr>\n",
       "      <th>9</th>\n",
       "      <td>15</td>\n",
       "      <td>0.138749</td>\n",
       "    </tr>\n",
       "  </tbody>\n",
       "</table>\n",
       "</div>"
      ],
      "text/plain": [
       "    n      time\n",
       "0   4  0.088677\n",
       "1   8  0.110940\n",
       "2   1  0.108386\n",
       "3   6  0.143479\n",
       "4  19  0.109967\n",
       "5   6  0.107297\n",
       "6  11  0.137904\n",
       "7  14  0.106537\n",
       "8  20  0.107961\n",
       "9  15  0.138749"
      ]
     },
     "execution_count": 4,
     "metadata": {},
     "output_type": "execute_result"
    }
   ],
   "source": [
    "df.head(10)"
   ]
  },
  {
   "cell_type": "code",
   "execution_count": 5,
   "id": "04a724de-7b6c-45c4-97b2-90ba8d04707a",
   "metadata": {},
   "outputs": [
    {
     "data": {
      "text/plain": [
       "n       10.408000\n",
       "time     0.121556\n",
       "dtype: float64"
      ]
     },
     "execution_count": 5,
     "metadata": {},
     "output_type": "execute_result"
    }
   ],
   "source": [
    "df.mean()"
   ]
  },
  {
   "cell_type": "code",
   "execution_count": 6,
   "id": "40a3e578-63cc-4098-ae88-39533c3fd0e5",
   "metadata": {},
   "outputs": [
    {
     "data": {
      "text/plain": [
       "<AxesSubplot:xlabel='n', ylabel='time'>"
      ]
     },
     "execution_count": 6,
     "metadata": {},
     "output_type": "execute_result"
    },
    {
     "data": {
      "image/png": "[encoded data removed]",
      "text/plain": [
       "<Figure size 640x480 with 1 Axes>"
      ]
     },
     "metadata": {},
     "output_type": "display_data"
    }
   ],
   "source": [
    "df.plot(kind='scatter', x='n', y='time')"
   ]
  },
  {
   "cell_type": "code",
   "execution_count": 7,
   "id": "d7e7730d-daac-4e9c-a4bb-c8cf45a5c8ce",
   "metadata": {},
   "outputs": [
    {
     "data": {
      "text/plain": [
       "(0.12070466371631577, array([8.17630759e-05]))"
      ]
     },
     "execution_count": 7,
     "metadata": {},
     "output_type": "execute_result"
    }
   ],
   "source": [
    "from sklearn.linear_model import LinearRegression\n",
    "\n",
    "X = df[['n']]\n",
    "y = df['time']\n",
    "\n",
    "m = LinearRegression()\n",
    "m.fit(X, y)\n",
    "\n",
    "m.intercept_, m.coef_"
   ]
  },
  {
   "cell_type": "code",
   "execution_count": null,
   "id": "dce920f8-3219-4077-84e8-e5ca16a9a0ac",
   "metadata": {},
   "outputs": [],
   "source": []
  }
 ],
 "metadata": {
  "kernelspec": {
   "display_name": "Python 3 (ipykernel)",
   "language": "python",
   "name": "python3"
  },
  "language_info": {
   "codemirror_mode": {
    "name": "ipython",
    "version": 3
   },
   "file_extension": ".py",
   "mimetype": "text/x-python",
   "name": "python",
   "nbconvert_exporter": "python",
   "pygments_lexer": "ipython3",
   "version": "3.9.12"
  },
  "widgets": {
   "application/vnd.jupyter.widget-state+json": {
    "state": {},
    "version_major": 2,
    "version_minor": 0
   }
  }
 },
 "nbformat": 4,
 "nbformat_minor": 5
}
