{
 "cells": [
  {
   "cell_type": "code",
   "execution_count": 1,
   "id": "f5ffbb6b-1197-403f-a235-d7f071a32442",
   "metadata": {
    "execution": {
     "iopub.execute_input": "2023-01-31T23:22:25.973835Z",
     "iopub.status.busy": "2023-01-31T23:22:25.973835Z",
     "iopub.status.idle": "2023-01-31T23:22:26.123847Z",
     "shell.execute_reply": "2023-01-31T23:22:26.123847Z",
     "shell.execute_reply.started": "2023-01-31T23:22:25.973835Z"
    },
    "tags": []
   },
   "outputs": [],
   "source": [
    "from pybbn.graph.dag import Bbn\n",
    "from pybbn.pptc.inferencecontroller import InferenceController\n",
    "from pybbn.pptc.initializer import Initializer\n",
    "from pybbn.pptc.moralizer import Moralizer\n",
    "from pybbn.pptc.potentialinitializer import PotentialInitializer\n",
    "from pybbn.pptc.propagator import Propagator\n",
    "from pybbn.pptc.transformer import Transformer\n",
    "from pybbn.pptc.triangulator import Triangulator\n",
    "\n",
    "def get_jt():\n",
    "    bbn = Bbn.from_json('./_tmp/covid-bbn.json')\n",
    "    \n",
    "    PotentialInitializer.init(bbn)\n",
    "    ug = Moralizer.moralize(bbn)\n",
    "    cliques = Triangulator.triangulate(ug)\n",
    "    join_tree = Transformer.transform(cliques)\n",
    "    join_tree.parent_info = {node.id: bbn.parents[node.id] for node in bbn.get_nodes() if node.id in bbn.parents}\n",
    "    \n",
    "    return join_tree\n",
    "\n",
    "jt = get_jt()"
   ]
  },
  {
   "cell_type": "code",
   "execution_count": null,
   "id": "91cea384-16d4-4cf7-8911-6ac9a5c58497",
   "metadata": {},
   "outputs": [],
   "source": []
  }
 ],
 "metadata": {
  "kernelspec": {
   "display_name": "Python 3",
   "language": "python",
   "name": "python3"
  },
  "language_info": {
   "codemirror_mode": {
    "name": "ipython",
    "version": 3
   },
   "file_extension": ".py",
   "mimetype": "text/x-python",
   "name": "python",
   "nbconvert_exporter": "python",
   "pygments_lexer": "ipython3",
   "version": "3.8.5"
  },
  "widgets": {
   "application/vnd.jupyter.widget-state+json": {
    "state": {},
    "version_major": 2,
    "version_minor": 0
   }
  }
 },
 "nbformat": 4,
 "nbformat_minor": 5
}
